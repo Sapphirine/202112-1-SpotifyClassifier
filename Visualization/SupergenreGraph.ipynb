{
  "nbformat": 4,
  "nbformat_minor": 0,
  "metadata": {
    "colab": {
      "name": "SupergenreGraph.ipynb",
      "provenance": [],
      "authorship_tag": "ABX9TyPM/PkcMiVnTcKZS/F7kQsy"
    },
    "kernelspec": {
      "name": "python3",
      "display_name": "Python 3"
    },
    "language_info": {
      "name": "python"
    }
  },
  "cells": [
    {
      "cell_type": "code",
      "execution_count": null,
      "metadata": {
        "id": "AxiDeCeblvKa"
      },
      "outputs": [],
      "source": [
        "# libraries\n",
        "import pandas as pd\n",
        "import numpy as np\n",
        "import networkx as nx\n",
        "import matplotlib.pyplot as plt\n",
        " \n",
        "# Build a dataframe with your connections\n",
        "df = pd.DataFrame({ 'from':['A', 'B', 'C','A'], 'to':['D', 'A', 'E','C']})\n",
        " \n",
        "# And a data frame with characteristics for your nodes\n",
        "carac = pd.DataFrame({ 'ID':['A', 'B', 'C','D','E'], 'myvalue':['123','25','76','12','34'] })\n",
        " \n",
        "# Build your graph\n",
        "G=nx.from_pandas_edgelist(df, 'from', 'to', create_using=nx.Graph() )\n",
        " \n",
        "# The order of the node for networkX is the following order:\n",
        "G.nodes()\n",
        "# NodeView(('A', 'D', 'B', 'C', 'E'))\n",
        "\n",
        "# Thus, we cannot give directly the 'myvalue' column to netowrkX, we need to arrange the order!\n",
        " \n",
        "# Here is the tricky part: I need to reorder carac, to assign the good color to each node\n",
        "carac= carac.set_index('ID')\n",
        "carac=carac.reindex(G.nodes())\n",
        " \n",
        "# Plot it, providing a continuous color scale with cmap:\n",
        "nx.draw(G, with_labels=True, node_color=carac['myvalue'].astype(int), cmap=plt.cm.Blues)\n",
        "plt.show()"
      ]
    }
  ]
}