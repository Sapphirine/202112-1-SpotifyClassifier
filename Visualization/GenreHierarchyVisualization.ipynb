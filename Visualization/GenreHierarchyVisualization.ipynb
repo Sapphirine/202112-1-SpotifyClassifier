{
  "nbformat": 4,
  "nbformat_minor": 0,
  "metadata": {
    "colab": {
      "name": "GenreHierarchyVisualization.ipynb",
      "provenance": [],
      "authorship_tag": "ABX9TyPpO5BH+abna0qdg8aESEUF"
    },
    "kernelspec": {
      "name": "python3",
      "display_name": "Python 3"
    },
    "language_info": {
      "name": "python"
    }
  },
  "cells": [
    {
      "cell_type": "code",
      "source": [
        "from google.colab import auth\n",
        "auth.authenticate_user()\n",
        "from googleapiclient.discovery import build\n",
        "gcs_service = build('storage', 'v1')\n",
        "from apiclient.http import MediaIoBaseDownload\n",
        "from googleapiclient.http import MediaFileUpload\n",
        "import json\n",
        "import numpy as np"
      ],
      "metadata": {
        "id": "pMQW-UrvfpQR"
      },
      "execution_count": 1,
      "outputs": []
    },
    {
      "cell_type": "code",
      "source": [
        "!pip install --upgrade plotly"
      ],
      "metadata": {
        "colab": {
          "base_uri": "https://localhost:8080/"
        },
        "id": "R2k7Km2JjhvT",
        "outputId": "c478f5ce-aaa5-4169-de06-edbdd7d33bbb"
      },
      "execution_count": 2,
      "outputs": [
        {
          "output_type": "stream",
          "name": "stdout",
          "text": [
            "Requirement already satisfied: plotly in /usr/local/lib/python3.7/dist-packages (5.4.0)\n",
            "Requirement already satisfied: six in /usr/local/lib/python3.7/dist-packages (from plotly) (1.15.0)\n",
            "Requirement already satisfied: tenacity>=6.2.0 in /usr/local/lib/python3.7/dist-packages (from plotly) (8.0.1)\n"
          ]
        }
      ]
    },
    {
      "cell_type": "code",
      "source": [
        "genres = [\"alternative\",\"indie\",\"alt-rock\",\"punk\",\"grunge\",\"punk-rock\",\"indie-pop\",\"emo\",\"goth\",\\\n",
        "    \"hardcore\",\"death-metal\",\"grindcore\",\"black-metal\",\"heavy-metal\",\"metalcore\",\"metal\",\"metal-misc\",\\\n",
        "    \"dance\",\"electronic\",\"electro\",\"edm\",\"garage\",\"house\",\"chicago-house\",\"breakbeat\",\"dubstep\",\"techno\",\"j-dance\",\"deep-house\",\\\n",
        "    \"ambient\",\"chill\",\"sleep\",\"new-age\",\"study\",\"piano\",\\\n",
        "    \"rock\",\"rock-n-roll\",\"rockabilly\",\"j-rock\",\"hard-rock\",\"psych-rock\",\"power-pop\",\"guitar\",\"drum-and-bass\",\\\n",
        "    \"country\",\"bluegrass\",\"acoustic\",\"folk\",\"honky-tonk\",\\\n",
        "    \"pop\",\"k-pop\",\"j-pop\",\"cantopop\",\"party\",\"pop-film\",\"r-n-b\",\"club\",\"hip-hop\",\\\n",
        "    \"jazz\",\"soul\",\"funk\",\"blues\",\"afrobeat\",\\\n",
        "    \"latin\",\"latino\",\"reggaeton\",\"samba\",\"salsa\",\"bossanova\",\\\n",
        "    \"classical\",\"opera\",\\\n",
        "    \"show-tunes\",\"disney\"]\n",
        "track_count = []\n",
        "!mkdir /track-files\n",
        "for genre in genres:\n",
        "    with open('/track-files/'+genre+'.json', 'wb') as f:\n",
        "        request = gcs_service.objects().get_media(bucket='track-lists-full',object=genre+'.json')\n",
        "        media = MediaIoBaseDownload(f, request)\n",
        "        done = False\n",
        "        while not done:\n",
        "            _, done = media.next_chunk()\n",
        "\n",
        "    with open('/track-files/'+genre+'.json', \"r\") as tracklist:\n",
        "        tracklist = json.load(tracklist)\n",
        "        num_songs = len(tracklist.keys())\n",
        "    print(\"Genre: \"+genre+\", # Tracks: \"+str(num_songs))\n",
        "    track_count.append(num_songs)"
      ],
      "metadata": {
        "colab": {
          "base_uri": "https://localhost:8080/"
        },
        "id": "j9dzsyolfybc",
        "outputId": "af605fa1-34f0-4722-ed80-5148a25ef2e9"
      },
      "execution_count": 3,
      "outputs": [
        {
          "output_type": "stream",
          "name": "stdout",
          "text": [
            "mkdir: cannot create directory ‘/track-files’: File exists\n",
            "Genre: alternative, # Tracks: 500\n",
            "Genre: indie, # Tracks: 500\n",
            "Genre: alt-rock, # Tracks: 497\n",
            "Genre: punk, # Tracks: 500\n",
            "Genre: grunge, # Tracks: 500\n",
            "Genre: punk-rock, # Tracks: 500\n",
            "Genre: indie-pop, # Tracks: 100\n",
            "Genre: emo, # Tracks: 500\n",
            "Genre: goth, # Tracks: 500\n",
            "Genre: hardcore, # Tracks: 500\n",
            "Genre: death-metal, # Tracks: 500\n",
            "Genre: grindcore, # Tracks: 500\n",
            "Genre: black-metal, # Tracks: 500\n",
            "Genre: heavy-metal, # Tracks: 500\n",
            "Genre: metalcore, # Tracks: 500\n",
            "Genre: metal, # Tracks: 100\n",
            "Genre: metal-misc, # Tracks: 100\n",
            "Genre: dance, # Tracks: 494\n",
            "Genre: electronic, # Tracks: 500\n",
            "Genre: electro, # Tracks: 500\n",
            "Genre: edm, # Tracks: 105\n",
            "Genre: garage, # Tracks: 500\n",
            "Genre: house, # Tracks: 500\n",
            "Genre: chicago-house, # Tracks: 500\n",
            "Genre: breakbeat, # Tracks: 500\n",
            "Genre: dubstep, # Tracks: 500\n",
            "Genre: techno, # Tracks: 500\n",
            "Genre: j-dance, # Tracks: 369\n",
            "Genre: deep-house, # Tracks: 500\n",
            "Genre: ambient, # Tracks: 500\n",
            "Genre: chill, # Tracks: 500\n",
            "Genre: sleep, # Tracks: 500\n",
            "Genre: new-age, # Tracks: 500\n",
            "Genre: study, # Tracks: 500\n",
            "Genre: piano, # Tracks: 500\n",
            "Genre: rock, # Tracks: 500\n",
            "Genre: rock-n-roll, # Tracks: 500\n",
            "Genre: rockabilly, # Tracks: 500\n",
            "Genre: j-rock, # Tracks: 500\n",
            "Genre: hard-rock, # Tracks: 100\n",
            "Genre: psych-rock, # Tracks: 500\n",
            "Genre: power-pop, # Tracks: 331\n",
            "Genre: guitar, # Tracks: 500\n",
            "Genre: drum-and-bass, # Tracks: 500\n",
            "Genre: country, # Tracks: 500\n",
            "Genre: bluegrass, # Tracks: 500\n",
            "Genre: acoustic, # Tracks: 500\n",
            "Genre: folk, # Tracks: 500\n",
            "Genre: honky-tonk, # Tracks: 500\n",
            "Genre: pop, # Tracks: 500\n",
            "Genre: k-pop, # Tracks: 500\n",
            "Genre: j-pop, # Tracks: 500\n",
            "Genre: cantopop, # Tracks: 257\n",
            "Genre: party, # Tracks: 500\n",
            "Genre: pop-film, # Tracks: 96\n",
            "Genre: r-n-b, # Tracks: 500\n",
            "Genre: club, # Tracks: 100\n",
            "Genre: hip-hop, # Tracks: 967\n",
            "Genre: jazz, # Tracks: 500\n",
            "Genre: soul, # Tracks: 500\n",
            "Genre: funk, # Tracks: 80\n",
            "Genre: blues, # Tracks: 500\n",
            "Genre: afrobeat, # Tracks: 500\n",
            "Genre: latin, # Tracks: 500\n",
            "Genre: latino, # Tracks: 100\n",
            "Genre: reggaeton, # Tracks: 500\n",
            "Genre: samba, # Tracks: 252\n",
            "Genre: salsa, # Tracks: 500\n",
            "Genre: bossanova, # Tracks: 254\n",
            "Genre: classical, # Tracks: 500\n",
            "Genre: opera, # Tracks: 500\n",
            "Genre: show-tunes, # Tracks: 500\n",
            "Genre: disney, # Tracks: 500\n"
          ]
        }
      ]
    },
    {
      "cell_type": "code",
      "source": [
        "track_count = np.array(track_count)\n",
        "track_count = track_count / np.linalg.norm(track_count)"
      ],
      "metadata": {
        "id": "nXSNtuPkhdI1"
      },
      "execution_count": 4,
      "outputs": []
    },
    {
      "cell_type": "code",
      "source": [
        "print(track_count)"
      ],
      "metadata": {
        "colab": {
          "base_uri": "https://localhost:8080/"
        },
        "id": "C1yAPfHGiiyZ",
        "outputId": "83fbb0ae-4697-4add-bc2d-abf54a3b017a"
      },
      "execution_count": 5,
      "outputs": [
        {
          "output_type": "stream",
          "name": "stdout",
          "text": [
            "[0.1251857  0.1251857  0.12443459 0.1251857  0.1251857  0.1251857\n",
            " 0.02503714 0.1251857  0.1251857  0.1251857  0.1251857  0.1251857\n",
            " 0.1251857  0.1251857  0.1251857  0.02503714 0.02503714 0.12368347\n",
            " 0.1251857  0.1251857  0.026289   0.1251857  0.1251857  0.1251857\n",
            " 0.1251857  0.1251857  0.1251857  0.09238705 0.1251857  0.1251857\n",
            " 0.1251857  0.1251857  0.1251857  0.1251857  0.1251857  0.1251857\n",
            " 0.1251857  0.1251857  0.1251857  0.02503714 0.1251857  0.08287293\n",
            " 0.1251857  0.1251857  0.1251857  0.1251857  0.1251857  0.1251857\n",
            " 0.1251857  0.1251857  0.1251857  0.1251857  0.06434545 0.1251857\n",
            " 0.02403565 0.1251857  0.02503714 0.24210915 0.1251857  0.1251857\n",
            " 0.02002971 0.1251857  0.1251857  0.1251857  0.02503714 0.1251857\n",
            " 0.06309359 0.1251857  0.06359434 0.1251857  0.1251857  0.1251857\n",
            " 0.1251857 ]\n"
          ]
        }
      ]
    },
    {
      "cell_type": "code",
      "execution_count": 6,
      "metadata": {
        "id": "OoUhXk7bcIvU"
      },
      "outputs": [],
      "source": [
        "import plotly.express as px \n",
        "import pandas as pd"
      ]
    },
    {
      "cell_type": "code",
      "source": [
        "supergenre = {\n",
        "    'alternative':'alternative',\n",
        "    'indie':'alternative',\n",
        "    'alt-rock':'alternative',\n",
        "    'punk':'alternative',\n",
        "    'grunge':'alternative',\n",
        "    'punk-rock':'alternative',\n",
        "    'indie-pop':'alternative',\n",
        "    'emo':'alternative',\n",
        "    'goth':'alternative',\n",
        "    'hardcore':'hardcore',\n",
        "    'death-metal':'hardcore',\n",
        "    'grindcore':'hardcore',\n",
        "    'black-metal':'hardcore',\n",
        "    'heavy-metal':'hardcore',\n",
        "    'metalcore':'hardcore',\n",
        "    'metal':'hardcore',\n",
        "    'metal-misc':'hardcore',\n",
        "    'dance':'dance',\n",
        "    'electronic':'dance',\n",
        "    'electro':'dance',\n",
        "    'edm':'dance',\n",
        "    'garage':'dance',\n",
        "    'house':'dance',\n",
        "    'chicago-house':'dance',\n",
        "    'breakbeat':'dance',\n",
        "    'dubstep':'dance',\n",
        "    'techno':'dance',\n",
        "    'j-dance':'dance',\n",
        "    'deep-house':'dance',\n",
        "    'ambient':'easy-listening',\n",
        "    'chill':'easy-listening',\n",
        "    'sleep':'easy-listening',\n",
        "    'new-age':'easy-listening',\n",
        "    'study':'easy-listening',\n",
        "    'piano':'easy-listening',\n",
        "    'rock':'rock',\n",
        "    'rock-n-roll':'rock',\n",
        "    'rockabilly':'rock',\n",
        "    'j-rock':'rock',\n",
        "    'hard-rock':'rock',\n",
        "    'psych-rock':'rock',\n",
        "    'power-pop':'rock',\n",
        "    'guitar':'rock',\n",
        "    'drum-and-bass':'rock',\n",
        "    'country':'country',\n",
        "    'bluegrass':'country',\n",
        "    'acoustic':'country',\n",
        "    'folk':'country',\n",
        "    'honky-tonk':'country',\n",
        "    'pop':'pop',\n",
        "    'k-pop':'pop',\n",
        "    'j-pop':'pop',\n",
        "    'cantopop':'pop',\n",
        "    'party':'pop',\n",
        "    'pop-film':'pop',\n",
        "    'r-n-b':'pop',\n",
        "    'club':'pop',\n",
        "    'jazz':'jazz',\n",
        "    'soul':'jazz',\n",
        "    'funk':'jazz',\n",
        "    'blues':'jazz',\n",
        "    'afrobeat':'jazz',\n",
        "    'latin':'latin',\n",
        "    'latino':'latin',\n",
        "    'reggaeton':'latin',\n",
        "    'samba':'latin',\n",
        "    'salsa':'latin',\n",
        "    'bossanova':'latin',\n",
        "    'classical':'classical',\n",
        "    'opera':'classical',\n",
        "    'disney':'musical',\n",
        "    'show-tunes':'musical'\n",
        "}"
      ],
      "metadata": {
        "id": "ICdG1KuRcWhI"
      },
      "execution_count": 7,
      "outputs": []
    },
    {
      "cell_type": "code",
      "source": [
        "df = pd.DataFrame(columns=['subgenre','supergenre'])"
      ],
      "metadata": {
        "id": "YZ7Q29emd_dq"
      },
      "execution_count": 8,
      "outputs": []
    },
    {
      "cell_type": "code",
      "source": [
        "ii = 0\n",
        "for subgenre in supergenre:\n",
        "    df = df.append({'subgenre': subgenre,'supergenre':supergenre[subgenre],'weight':track_count[ii]}, ignore_index=True)\n",
        "    ii+=1"
      ],
      "metadata": {
        "id": "eRMTXmqydVmY"
      },
      "execution_count": 9,
      "outputs": []
    },
    {
      "cell_type": "code",
      "source": [
        "display(df)"
      ],
      "metadata": {
        "colab": {
          "base_uri": "https://localhost:8080/",
          "height": 424
        },
        "id": "kW7DwNdgfCJH",
        "outputId": "39894037-705f-4428-a3e1-0f1cf5fc5df3"
      },
      "execution_count": 10,
      "outputs": [
        {
          "output_type": "display_data",
          "data": {
            "text/html": [
              "<div>\n",
              "<style scoped>\n",
              "    .dataframe tbody tr th:only-of-type {\n",
              "        vertical-align: middle;\n",
              "    }\n",
              "\n",
              "    .dataframe tbody tr th {\n",
              "        vertical-align: top;\n",
              "    }\n",
              "\n",
              "    .dataframe thead th {\n",
              "        text-align: right;\n",
              "    }\n",
              "</style>\n",
              "<table border=\"1\" class=\"dataframe\">\n",
              "  <thead>\n",
              "    <tr style=\"text-align: right;\">\n",
              "      <th></th>\n",
              "      <th>subgenre</th>\n",
              "      <th>supergenre</th>\n",
              "      <th>weight</th>\n",
              "    </tr>\n",
              "  </thead>\n",
              "  <tbody>\n",
              "    <tr>\n",
              "      <th>0</th>\n",
              "      <td>alternative</td>\n",
              "      <td>alternative</td>\n",
              "      <td>0.125186</td>\n",
              "    </tr>\n",
              "    <tr>\n",
              "      <th>1</th>\n",
              "      <td>indie</td>\n",
              "      <td>alternative</td>\n",
              "      <td>0.125186</td>\n",
              "    </tr>\n",
              "    <tr>\n",
              "      <th>2</th>\n",
              "      <td>alt-rock</td>\n",
              "      <td>alternative</td>\n",
              "      <td>0.124435</td>\n",
              "    </tr>\n",
              "    <tr>\n",
              "      <th>3</th>\n",
              "      <td>punk</td>\n",
              "      <td>alternative</td>\n",
              "      <td>0.125186</td>\n",
              "    </tr>\n",
              "    <tr>\n",
              "      <th>4</th>\n",
              "      <td>grunge</td>\n",
              "      <td>alternative</td>\n",
              "      <td>0.125186</td>\n",
              "    </tr>\n",
              "    <tr>\n",
              "      <th>...</th>\n",
              "      <td>...</td>\n",
              "      <td>...</td>\n",
              "      <td>...</td>\n",
              "    </tr>\n",
              "    <tr>\n",
              "      <th>67</th>\n",
              "      <td>bossanova</td>\n",
              "      <td>latin</td>\n",
              "      <td>0.125186</td>\n",
              "    </tr>\n",
              "    <tr>\n",
              "      <th>68</th>\n",
              "      <td>classical</td>\n",
              "      <td>classical</td>\n",
              "      <td>0.063594</td>\n",
              "    </tr>\n",
              "    <tr>\n",
              "      <th>69</th>\n",
              "      <td>opera</td>\n",
              "      <td>classical</td>\n",
              "      <td>0.125186</td>\n",
              "    </tr>\n",
              "    <tr>\n",
              "      <th>70</th>\n",
              "      <td>disney</td>\n",
              "      <td>musical</td>\n",
              "      <td>0.125186</td>\n",
              "    </tr>\n",
              "    <tr>\n",
              "      <th>71</th>\n",
              "      <td>show-tunes</td>\n",
              "      <td>musical</td>\n",
              "      <td>0.125186</td>\n",
              "    </tr>\n",
              "  </tbody>\n",
              "</table>\n",
              "<p>72 rows × 3 columns</p>\n",
              "</div>"
            ],
            "text/plain": [
              "       subgenre   supergenre    weight\n",
              "0   alternative  alternative  0.125186\n",
              "1         indie  alternative  0.125186\n",
              "2      alt-rock  alternative  0.124435\n",
              "3          punk  alternative  0.125186\n",
              "4        grunge  alternative  0.125186\n",
              "..          ...          ...       ...\n",
              "67    bossanova        latin  0.125186\n",
              "68    classical    classical  0.063594\n",
              "69        opera    classical  0.125186\n",
              "70       disney      musical  0.125186\n",
              "71   show-tunes      musical  0.125186\n",
              "\n",
              "[72 rows x 3 columns]"
            ]
          },
          "metadata": {}
        }
      ]
    },
    {
      "cell_type": "code",
      "source": [
        "fig = px.treemap(df, path=['supergenre', 'subgenre'], values='weight', color='supergenre')"
      ],
      "metadata": {
        "id": "DAryvpffcVo2"
      },
      "execution_count": 13,
      "outputs": []
    },
    {
      "cell_type": "code",
      "source": [
        "fig.show()"
      ],
      "metadata": {
        "colab": {
          "base_uri": "https://localhost:8080/",
          "height": 542
        },
        "id": "Tehsqrq7jzYA",
        "outputId": "ba25b945-6209-42ca-c683-99198188e1a2"
      },
      "execution_count": 14,
      "outputs": [
        {
          "output_type": "display_data",
          "data": {
            "text/html": [
              "<html>\n",
              "<head><meta charset=\"utf-8\" /></head>\n",
              "<body>\n",
              "    <div>            <script src=\"https://cdnjs.cloudflare.com/ajax/libs/mathjax/2.7.5/MathJax.js?config=TeX-AMS-MML_SVG\"></script><script type=\"text/javascript\">if (window.MathJax) {MathJax.Hub.Config({SVG: {font: \"STIX-Web\"}});}</script>                <script type=\"text/javascript\">window.PlotlyConfig = {MathJaxConfig: 'local'};</script>\n",
              "        <script src=\"https://cdn.plot.ly/plotly-2.6.3.min.js\"></script>                <div id=\"b568d798-653a-4fac-b8c1-de1b95d4552a\" class=\"plotly-graph-div\" style=\"height:525px; width:100%;\"></div>            <script type=\"text/javascript\">                                    window.PLOTLYENV=window.PLOTLYENV || {};                                    if (document.getElementById(\"b568d798-653a-4fac-b8c1-de1b95d4552a\")) {                    Plotly.newPlot(                        \"b568d798-653a-4fac-b8c1-de1b95d4552a\",                        [{\"branchvalues\":\"total\",\"customdata\":[[\"country\"],[\"jazz\"],[\"alternative\"],[\"alternative\"],[\"easy-listening\"],[\"hardcore\"],[\"country\"],[\"jazz\"],[\"latin\"],[\"jazz\"],[\"easy-listening\"],[\"pop\"],[\"hardcore\"],[\"latin\"],[\"hardcore\"],[\"latin\"],[\"dance\"],[\"dance\"],[\"jazz\"],[\"alternative\"],[\"dance\"],[\"dance\"],[\"country\"],[\"rock\"],[\"musical\"],[\"dance\"],[\"dance\"],[\"hardcore\"],[\"hardcore\"],[\"rock\"],[\"alternative\"],[\"rock\"],[\"alternative\"],[\"hardcore\"],[\"easy-listening\"],[\"dance\"],[\"country\"],[\"pop\"],[\"dance\"],[\"pop\"],[\"dance\"],[\"classical\"],[\"alternative\"],[\"pop\"],[\"rock\"],[\"alternative\"],[\"latin\"],[\"rock\"],[\"rock\"],[\"rock\"],[\"latin\"],[\"latin\"],[\"musical\"],[\"dance\"],[\"easy-listening\"],[\"pop\"],[\"pop\"],[\"rock\"],[\"pop\"],[\"classical\"],[\"easy-listening\"],[\"hardcore\"],[\"easy-listening\"],[\"country\"],[\"dance\"],[\"alternative\"],[\"rock\"],[\"dance\"],[\"pop\"],[\"jazz\"],[\"alternative\"],[\"hardcore\"],[\"alternative\"],[\"classical\"],[\"country\"],[\"dance\"],[\"easy-listening\"],[\"hardcore\"],[\"jazz\"],[\"latin\"],[\"musical\"],[\"pop\"],[\"rock\"]],\"domain\":{\"x\":[0.0,1.0],\"y\":[0.0,1.0]},\"hovertemplate\":\"labels=%{label}<br>weight=%{value}<br>parent=%{parent}<br>id=%{id}<br>supergenre=%{customdata[0]}<extra></extra>\",\"ids\":[\"country/acoustic\",\"jazz/afrobeat\",\"alternative/alt-rock\",\"alternative/alternative\",\"easy-listening/ambient\",\"hardcore/black-metal\",\"country/bluegrass\",\"jazz/blues\",\"latin/bossanova\",\"jazz/soul\",\"easy-listening/sleep\",\"pop/k-pop\",\"hardcore/metal\",\"latin/latino\",\"hardcore/metal-misc\",\"latin/latin\",\"dance/electro\",\"dance/garage\",\"jazz/funk\",\"alternative/emo\",\"dance/electronic\",\"dance/edm\",\"country/folk\",\"rock/drum-and-bass\",\"musical/disney\",\"dance/deep-house\",\"dance/dubstep\",\"hardcore/death-metal\",\"hardcore/hardcore\",\"rock/guitar\",\"alternative/grunge\",\"rock/hard-rock\",\"alternative/goth\",\"hardcore/grindcore\",\"easy-listening/chill\",\"dance/dance\",\"country/country\",\"pop/club\",\"dance/breakbeat\",\"pop/cantopop\",\"dance/chicago-house\",\"classical/classical\",\"alternative/punk-rock\",\"pop/r-n-b\",\"rock/psych-rock\",\"alternative/punk\",\"latin/reggaeton\",\"rock/rock\",\"rock/rock-n-roll\",\"rock/rockabilly\",\"latin/salsa\",\"latin/samba\",\"musical/show-tunes\",\"dance/techno\",\"easy-listening/study\",\"pop/pop\",\"pop/pop-film\",\"rock/power-pop\",\"pop/party\",\"classical/opera\",\"easy-listening/new-age\",\"hardcore/metalcore\",\"easy-listening/piano\",\"country/honky-tonk\",\"dance/house\",\"alternative/indie\",\"rock/j-rock\",\"dance/j-dance\",\"pop/j-pop\",\"jazz/jazz\",\"alternative/indie-pop\",\"hardcore/heavy-metal\",\"alternative\",\"classical\",\"country\",\"dance\",\"easy-listening\",\"hardcore\",\"jazz\",\"latin\",\"musical\",\"pop\",\"rock\"],\"labels\":[\"acoustic\",\"afrobeat\",\"alt-rock\",\"alternative\",\"ambient\",\"black-metal\",\"bluegrass\",\"blues\",\"bossanova\",\"soul\",\"sleep\",\"k-pop\",\"metal\",\"latino\",\"metal-misc\",\"latin\",\"electro\",\"garage\",\"funk\",\"emo\",\"electronic\",\"edm\",\"folk\",\"drum-and-bass\",\"disney\",\"deep-house\",\"dubstep\",\"death-metal\",\"hardcore\",\"guitar\",\"grunge\",\"hard-rock\",\"goth\",\"grindcore\",\"chill\",\"dance\",\"country\",\"club\",\"breakbeat\",\"cantopop\",\"chicago-house\",\"classical\",\"punk-rock\",\"r-n-b\",\"psych-rock\",\"punk\",\"reggaeton\",\"rock\",\"rock-n-roll\",\"rockabilly\",\"salsa\",\"samba\",\"show-tunes\",\"techno\",\"study\",\"pop\",\"pop-film\",\"power-pop\",\"party\",\"opera\",\"new-age\",\"metalcore\",\"piano\",\"honky-tonk\",\"house\",\"indie\",\"j-rock\",\"j-dance\",\"j-pop\",\"jazz\",\"indie-pop\",\"heavy-metal\",\"alternative\",\"classical\",\"country\",\"dance\",\"easy-listening\",\"hardcore\",\"jazz\",\"latin\",\"musical\",\"pop\",\"rock\"],\"marker\":{\"colors\":[\"#636efa\",\"#EF553B\",\"#00cc96\",\"#00cc96\",\"#ab63fa\",\"#FFA15A\",\"#636efa\",\"#EF553B\",\"#19d3f3\",\"#EF553B\",\"#ab63fa\",\"#FF6692\",\"#FFA15A\",\"#19d3f3\",\"#FFA15A\",\"#19d3f3\",\"#B6E880\",\"#B6E880\",\"#EF553B\",\"#00cc96\",\"#B6E880\",\"#B6E880\",\"#636efa\",\"#FF97FF\",\"#FECB52\",\"#B6E880\",\"#B6E880\",\"#FFA15A\",\"#FFA15A\",\"#FF97FF\",\"#00cc96\",\"#FF97FF\",\"#00cc96\",\"#FFA15A\",\"#ab63fa\",\"#B6E880\",\"#636efa\",\"#FF6692\",\"#B6E880\",\"#FF6692\",\"#B6E880\",\"#636efa\",\"#00cc96\",\"#FF6692\",\"#FF97FF\",\"#00cc96\",\"#19d3f3\",\"#FF97FF\",\"#FF97FF\",\"#FF97FF\",\"#19d3f3\",\"#19d3f3\",\"#FECB52\",\"#B6E880\",\"#ab63fa\",\"#FF6692\",\"#FF6692\",\"#FF97FF\",\"#FF6692\",\"#636efa\",\"#ab63fa\",\"#FFA15A\",\"#ab63fa\",\"#636efa\",\"#B6E880\",\"#00cc96\",\"#FF97FF\",\"#B6E880\",\"#FF6692\",\"#EF553B\",\"#00cc96\",\"#FFA15A\",\"#00cc96\",\"#636efa\",\"#636efa\",\"#B6E880\",\"#ab63fa\",\"#FFA15A\",\"#EF553B\",\"#19d3f3\",\"#FECB52\",\"#FF6692\",\"#FF97FF\"]},\"name\":\"\",\"parents\":[\"country\",\"jazz\",\"alternative\",\"alternative\",\"easy-listening\",\"hardcore\",\"country\",\"jazz\",\"latin\",\"jazz\",\"easy-listening\",\"pop\",\"hardcore\",\"latin\",\"hardcore\",\"latin\",\"dance\",\"dance\",\"jazz\",\"alternative\",\"dance\",\"dance\",\"country\",\"rock\",\"musical\",\"dance\",\"dance\",\"hardcore\",\"hardcore\",\"rock\",\"alternative\",\"rock\",\"alternative\",\"hardcore\",\"easy-listening\",\"dance\",\"country\",\"pop\",\"dance\",\"pop\",\"dance\",\"classical\",\"alternative\",\"pop\",\"rock\",\"alternative\",\"latin\",\"rock\",\"rock\",\"rock\",\"latin\",\"latin\",\"musical\",\"dance\",\"easy-listening\",\"pop\",\"pop\",\"rock\",\"pop\",\"classical\",\"easy-listening\",\"hardcore\",\"easy-listening\",\"country\",\"dance\",\"alternative\",\"rock\",\"dance\",\"pop\",\"jazz\",\"alternative\",\"hardcore\",\"\",\"\",\"\",\"\",\"\",\"\",\"\",\"\",\"\",\"\",\"\"],\"values\":[0.12518570206740365,0.12518570206740365,0.12443458785499924,0.12518570206740365,0.12518570206740365,0.12518570206740365,0.12518570206740365,0.020029712330784585,0.12518570206740365,0.12518570206740365,0.12518570206740365,0.12518570206740365,0.02503714041348073,0.12518570206740365,0.02503714041348073,0.12518570206740365,0.12518570206740365,0.12518570206740365,0.12518570206740365,0.12518570206740365,0.12518570206740365,0.02628899743415477,0.12518570206740365,0.12518570206740365,0.12518570206740365,0.12518570206740365,0.12518570206740365,0.12518570206740365,0.12518570206740365,0.12518570206740365,0.12518570206740365,0.02503714041348073,0.12518570206740365,0.12518570206740365,0.12518570206740365,0.12368347364259481,0.12518570206740365,0.02503714041348073,0.12518570206740365,0.06434545086264548,0.12518570206740365,0.06359433665024106,0.12518570206740365,0.12518570206740365,0.12518570206740365,0.12518570206740365,0.02503714041348073,0.12518570206740365,0.12518570206740365,0.12518570206740365,0.06309359384197144,0.12518570206740365,0.12518570206740365,0.12518570206740365,0.12518570206740365,0.12518570206740365,0.024035654796941502,0.08287293476862122,0.12518570206740365,0.12518570206740365,0.12518570206740365,0.12518570206740365,0.12518570206740365,0.12518570206740365,0.12518570206740365,0.12518570206740365,0.12518570206740365,0.0923870481257439,0.12518570206740365,0.24210914779835868,0.02503714041348073,0.12518570206740365,1.0257716427403056,0.1887800387176447,0.6259285103370182,1.3690308378091263,0.7511142124044219,0.8011884932313833,0.6376959663313542,0.5888735425250667,0.2503714041348073,0.739346756410086,0.9842099896539275],\"type\":\"treemap\"}],                        {\"template\":{\"data\":{\"bar\":[{\"error_x\":{\"color\":\"#2a3f5f\"},\"error_y\":{\"color\":\"#2a3f5f\"},\"marker\":{\"line\":{\"color\":\"#E5ECF6\",\"width\":0.5},\"pattern\":{\"fillmode\":\"overlay\",\"size\":10,\"solidity\":0.2}},\"type\":\"bar\"}],\"barpolar\":[{\"marker\":{\"line\":{\"color\":\"#E5ECF6\",\"width\":0.5},\"pattern\":{\"fillmode\":\"overlay\",\"size\":10,\"solidity\":0.2}},\"type\":\"barpolar\"}],\"carpet\":[{\"aaxis\":{\"endlinecolor\":\"#2a3f5f\",\"gridcolor\":\"white\",\"linecolor\":\"white\",\"minorgridcolor\":\"white\",\"startlinecolor\":\"#2a3f5f\"},\"baxis\":{\"endlinecolor\":\"#2a3f5f\",\"gridcolor\":\"white\",\"linecolor\":\"white\",\"minorgridcolor\":\"white\",\"startlinecolor\":\"#2a3f5f\"},\"type\":\"carpet\"}],\"choropleth\":[{\"colorbar\":{\"outlinewidth\":0,\"ticks\":\"\"},\"type\":\"choropleth\"}],\"contour\":[{\"colorbar\":{\"outlinewidth\":0,\"ticks\":\"\"},\"colorscale\":[[0.0,\"#0d0887\"],[0.1111111111111111,\"#46039f\"],[0.2222222222222222,\"#7201a8\"],[0.3333333333333333,\"#9c179e\"],[0.4444444444444444,\"#bd3786\"],[0.5555555555555556,\"#d8576b\"],[0.6666666666666666,\"#ed7953\"],[0.7777777777777778,\"#fb9f3a\"],[0.8888888888888888,\"#fdca26\"],[1.0,\"#f0f921\"]],\"type\":\"contour\"}],\"contourcarpet\":[{\"colorbar\":{\"outlinewidth\":0,\"ticks\":\"\"},\"type\":\"contourcarpet\"}],\"heatmap\":[{\"colorbar\":{\"outlinewidth\":0,\"ticks\":\"\"},\"colorscale\":[[0.0,\"#0d0887\"],[0.1111111111111111,\"#46039f\"],[0.2222222222222222,\"#7201a8\"],[0.3333333333333333,\"#9c179e\"],[0.4444444444444444,\"#bd3786\"],[0.5555555555555556,\"#d8576b\"],[0.6666666666666666,\"#ed7953\"],[0.7777777777777778,\"#fb9f3a\"],[0.8888888888888888,\"#fdca26\"],[1.0,\"#f0f921\"]],\"type\":\"heatmap\"}],\"heatmapgl\":[{\"colorbar\":{\"outlinewidth\":0,\"ticks\":\"\"},\"colorscale\":[[0.0,\"#0d0887\"],[0.1111111111111111,\"#46039f\"],[0.2222222222222222,\"#7201a8\"],[0.3333333333333333,\"#9c179e\"],[0.4444444444444444,\"#bd3786\"],[0.5555555555555556,\"#d8576b\"],[0.6666666666666666,\"#ed7953\"],[0.7777777777777778,\"#fb9f3a\"],[0.8888888888888888,\"#fdca26\"],[1.0,\"#f0f921\"]],\"type\":\"heatmapgl\"}],\"histogram\":[{\"marker\":{\"pattern\":{\"fillmode\":\"overlay\",\"size\":10,\"solidity\":0.2}},\"type\":\"histogram\"}],\"histogram2d\":[{\"colorbar\":{\"outlinewidth\":0,\"ticks\":\"\"},\"colorscale\":[[0.0,\"#0d0887\"],[0.1111111111111111,\"#46039f\"],[0.2222222222222222,\"#7201a8\"],[0.3333333333333333,\"#9c179e\"],[0.4444444444444444,\"#bd3786\"],[0.5555555555555556,\"#d8576b\"],[0.6666666666666666,\"#ed7953\"],[0.7777777777777778,\"#fb9f3a\"],[0.8888888888888888,\"#fdca26\"],[1.0,\"#f0f921\"]],\"type\":\"histogram2d\"}],\"histogram2dcontour\":[{\"colorbar\":{\"outlinewidth\":0,\"ticks\":\"\"},\"colorscale\":[[0.0,\"#0d0887\"],[0.1111111111111111,\"#46039f\"],[0.2222222222222222,\"#7201a8\"],[0.3333333333333333,\"#9c179e\"],[0.4444444444444444,\"#bd3786\"],[0.5555555555555556,\"#d8576b\"],[0.6666666666666666,\"#ed7953\"],[0.7777777777777778,\"#fb9f3a\"],[0.8888888888888888,\"#fdca26\"],[1.0,\"#f0f921\"]],\"type\":\"histogram2dcontour\"}],\"mesh3d\":[{\"colorbar\":{\"outlinewidth\":0,\"ticks\":\"\"},\"type\":\"mesh3d\"}],\"parcoords\":[{\"line\":{\"colorbar\":{\"outlinewidth\":0,\"ticks\":\"\"}},\"type\":\"parcoords\"}],\"pie\":[{\"automargin\":true,\"type\":\"pie\"}],\"scatter\":[{\"marker\":{\"colorbar\":{\"outlinewidth\":0,\"ticks\":\"\"}},\"type\":\"scatter\"}],\"scatter3d\":[{\"line\":{\"colorbar\":{\"outlinewidth\":0,\"ticks\":\"\"}},\"marker\":{\"colorbar\":{\"outlinewidth\":0,\"ticks\":\"\"}},\"type\":\"scatter3d\"}],\"scattercarpet\":[{\"marker\":{\"colorbar\":{\"outlinewidth\":0,\"ticks\":\"\"}},\"type\":\"scattercarpet\"}],\"scattergeo\":[{\"marker\":{\"colorbar\":{\"outlinewidth\":0,\"ticks\":\"\"}},\"type\":\"scattergeo\"}],\"scattergl\":[{\"marker\":{\"colorbar\":{\"outlinewidth\":0,\"ticks\":\"\"}},\"type\":\"scattergl\"}],\"scattermapbox\":[{\"marker\":{\"colorbar\":{\"outlinewidth\":0,\"ticks\":\"\"}},\"type\":\"scattermapbox\"}],\"scatterpolar\":[{\"marker\":{\"colorbar\":{\"outlinewidth\":0,\"ticks\":\"\"}},\"type\":\"scatterpolar\"}],\"scatterpolargl\":[{\"marker\":{\"colorbar\":{\"outlinewidth\":0,\"ticks\":\"\"}},\"type\":\"scatterpolargl\"}],\"scatterternary\":[{\"marker\":{\"colorbar\":{\"outlinewidth\":0,\"ticks\":\"\"}},\"type\":\"scatterternary\"}],\"surface\":[{\"colorbar\":{\"outlinewidth\":0,\"ticks\":\"\"},\"colorscale\":[[0.0,\"#0d0887\"],[0.1111111111111111,\"#46039f\"],[0.2222222222222222,\"#7201a8\"],[0.3333333333333333,\"#9c179e\"],[0.4444444444444444,\"#bd3786\"],[0.5555555555555556,\"#d8576b\"],[0.6666666666666666,\"#ed7953\"],[0.7777777777777778,\"#fb9f3a\"],[0.8888888888888888,\"#fdca26\"],[1.0,\"#f0f921\"]],\"type\":\"surface\"}],\"table\":[{\"cells\":{\"fill\":{\"color\":\"#EBF0F8\"},\"line\":{\"color\":\"white\"}},\"header\":{\"fill\":{\"color\":\"#C8D4E3\"},\"line\":{\"color\":\"white\"}},\"type\":\"table\"}]},\"layout\":{\"annotationdefaults\":{\"arrowcolor\":\"#2a3f5f\",\"arrowhead\":0,\"arrowwidth\":1},\"autotypenumbers\":\"strict\",\"coloraxis\":{\"colorbar\":{\"outlinewidth\":0,\"ticks\":\"\"}},\"colorscale\":{\"diverging\":[[0,\"#8e0152\"],[0.1,\"#c51b7d\"],[0.2,\"#de77ae\"],[0.3,\"#f1b6da\"],[0.4,\"#fde0ef\"],[0.5,\"#f7f7f7\"],[0.6,\"#e6f5d0\"],[0.7,\"#b8e186\"],[0.8,\"#7fbc41\"],[0.9,\"#4d9221\"],[1,\"#276419\"]],\"sequential\":[[0.0,\"#0d0887\"],[0.1111111111111111,\"#46039f\"],[0.2222222222222222,\"#7201a8\"],[0.3333333333333333,\"#9c179e\"],[0.4444444444444444,\"#bd3786\"],[0.5555555555555556,\"#d8576b\"],[0.6666666666666666,\"#ed7953\"],[0.7777777777777778,\"#fb9f3a\"],[0.8888888888888888,\"#fdca26\"],[1.0,\"#f0f921\"]],\"sequentialminus\":[[0.0,\"#0d0887\"],[0.1111111111111111,\"#46039f\"],[0.2222222222222222,\"#7201a8\"],[0.3333333333333333,\"#9c179e\"],[0.4444444444444444,\"#bd3786\"],[0.5555555555555556,\"#d8576b\"],[0.6666666666666666,\"#ed7953\"],[0.7777777777777778,\"#fb9f3a\"],[0.8888888888888888,\"#fdca26\"],[1.0,\"#f0f921\"]]},\"colorway\":[\"#636efa\",\"#EF553B\",\"#00cc96\",\"#ab63fa\",\"#FFA15A\",\"#19d3f3\",\"#FF6692\",\"#B6E880\",\"#FF97FF\",\"#FECB52\"],\"font\":{\"color\":\"#2a3f5f\"},\"geo\":{\"bgcolor\":\"white\",\"lakecolor\":\"white\",\"landcolor\":\"#E5ECF6\",\"showlakes\":true,\"showland\":true,\"subunitcolor\":\"white\"},\"hoverlabel\":{\"align\":\"left\"},\"hovermode\":\"closest\",\"mapbox\":{\"style\":\"light\"},\"paper_bgcolor\":\"white\",\"plot_bgcolor\":\"#E5ECF6\",\"polar\":{\"angularaxis\":{\"gridcolor\":\"white\",\"linecolor\":\"white\",\"ticks\":\"\"},\"bgcolor\":\"#E5ECF6\",\"radialaxis\":{\"gridcolor\":\"white\",\"linecolor\":\"white\",\"ticks\":\"\"}},\"scene\":{\"xaxis\":{\"backgroundcolor\":\"#E5ECF6\",\"gridcolor\":\"white\",\"gridwidth\":2,\"linecolor\":\"white\",\"showbackground\":true,\"ticks\":\"\",\"zerolinecolor\":\"white\"},\"yaxis\":{\"backgroundcolor\":\"#E5ECF6\",\"gridcolor\":\"white\",\"gridwidth\":2,\"linecolor\":\"white\",\"showbackground\":true,\"ticks\":\"\",\"zerolinecolor\":\"white\"},\"zaxis\":{\"backgroundcolor\":\"#E5ECF6\",\"gridcolor\":\"white\",\"gridwidth\":2,\"linecolor\":\"white\",\"showbackground\":true,\"ticks\":\"\",\"zerolinecolor\":\"white\"}},\"shapedefaults\":{\"line\":{\"color\":\"#2a3f5f\"}},\"ternary\":{\"aaxis\":{\"gridcolor\":\"white\",\"linecolor\":\"white\",\"ticks\":\"\"},\"baxis\":{\"gridcolor\":\"white\",\"linecolor\":\"white\",\"ticks\":\"\"},\"bgcolor\":\"#E5ECF6\",\"caxis\":{\"gridcolor\":\"white\",\"linecolor\":\"white\",\"ticks\":\"\"}},\"title\":{\"x\":0.05},\"xaxis\":{\"automargin\":true,\"gridcolor\":\"white\",\"linecolor\":\"white\",\"ticks\":\"\",\"title\":{\"standoff\":15},\"zerolinecolor\":\"white\",\"zerolinewidth\":2},\"yaxis\":{\"automargin\":true,\"gridcolor\":\"white\",\"linecolor\":\"white\",\"ticks\":\"\",\"title\":{\"standoff\":15},\"zerolinecolor\":\"white\",\"zerolinewidth\":2}}},\"legend\":{\"tracegroupgap\":0},\"margin\":{\"t\":60}},                        {\"responsive\": true}                    ).then(function(){\n",
              "                            \n",
              "var gd = document.getElementById('b568d798-653a-4fac-b8c1-de1b95d4552a');\n",
              "var x = new MutationObserver(function (mutations, observer) {{\n",
              "        var display = window.getComputedStyle(gd).display;\n",
              "        if (!display || display === 'none') {{\n",
              "            console.log([gd, 'removed!']);\n",
              "            Plotly.purge(gd);\n",
              "            observer.disconnect();\n",
              "        }}\n",
              "}});\n",
              "\n",
              "// Listen for the removal of the full notebook cells\n",
              "var notebookContainer = gd.closest('#notebook-container');\n",
              "if (notebookContainer) {{\n",
              "    x.observe(notebookContainer, {childList: true});\n",
              "}}\n",
              "\n",
              "// Listen for the clearing of the current output cell\n",
              "var outputEl = gd.closest('.output');\n",
              "if (outputEl) {{\n",
              "    x.observe(outputEl, {childList: true});\n",
              "}}\n",
              "\n",
              "                        })                };                            </script>        </div>\n",
              "</body>\n",
              "</html>"
            ]
          },
          "metadata": {}
        }
      ]
    },
    {
      "cell_type": "code",
      "source": [
        "fig2 = px.sunburst(df, path=['supergenre', 'subgenre'], values='weight', color='supergenre')\n",
        "fig2.update_layout(title_text=\"Two-level Sunburst Diagram\", font_size=10)\n",
        "fig2.show()"
      ],
      "metadata": {
        "colab": {
          "base_uri": "https://localhost:8080/",
          "height": 542
        },
        "id": "D6-PESpykMzM",
        "outputId": "bd76b14d-6459-4764-b3d3-cc0d0b0611e1"
      },
      "execution_count": 15,
      "outputs": [
        {
          "output_type": "display_data",
          "data": {
            "text/html": [
              "<html>\n",
              "<head><meta charset=\"utf-8\" /></head>\n",
              "<body>\n",
              "    <div>            <script src=\"https://cdnjs.cloudflare.com/ajax/libs/mathjax/2.7.5/MathJax.js?config=TeX-AMS-MML_SVG\"></script><script type=\"text/javascript\">if (window.MathJax) {MathJax.Hub.Config({SVG: {font: \"STIX-Web\"}});}</script>                <script type=\"text/javascript\">window.PlotlyConfig = {MathJaxConfig: 'local'};</script>\n",
              "        <script src=\"https://cdn.plot.ly/plotly-2.6.3.min.js\"></script>                <div id=\"c1123dbe-85cc-4ad1-bbdc-feb4af6dd7dd\" class=\"plotly-graph-div\" style=\"height:525px; width:100%;\"></div>            <script type=\"text/javascript\">                                    window.PLOTLYENV=window.PLOTLYENV || {};                                    if (document.getElementById(\"c1123dbe-85cc-4ad1-bbdc-feb4af6dd7dd\")) {                    Plotly.newPlot(                        \"c1123dbe-85cc-4ad1-bbdc-feb4af6dd7dd\",                        [{\"branchvalues\":\"total\",\"customdata\":[[\"country\"],[\"jazz\"],[\"alternative\"],[\"alternative\"],[\"easy-listening\"],[\"hardcore\"],[\"country\"],[\"jazz\"],[\"latin\"],[\"jazz\"],[\"easy-listening\"],[\"pop\"],[\"hardcore\"],[\"latin\"],[\"hardcore\"],[\"latin\"],[\"dance\"],[\"dance\"],[\"jazz\"],[\"alternative\"],[\"dance\"],[\"dance\"],[\"country\"],[\"rock\"],[\"musical\"],[\"dance\"],[\"dance\"],[\"hardcore\"],[\"hardcore\"],[\"rock\"],[\"alternative\"],[\"rock\"],[\"alternative\"],[\"hardcore\"],[\"easy-listening\"],[\"dance\"],[\"country\"],[\"pop\"],[\"dance\"],[\"pop\"],[\"dance\"],[\"classical\"],[\"alternative\"],[\"pop\"],[\"rock\"],[\"alternative\"],[\"latin\"],[\"rock\"],[\"rock\"],[\"rock\"],[\"latin\"],[\"latin\"],[\"musical\"],[\"dance\"],[\"easy-listening\"],[\"pop\"],[\"pop\"],[\"rock\"],[\"pop\"],[\"classical\"],[\"easy-listening\"],[\"hardcore\"],[\"easy-listening\"],[\"country\"],[\"dance\"],[\"alternative\"],[\"rock\"],[\"dance\"],[\"pop\"],[\"jazz\"],[\"alternative\"],[\"hardcore\"],[\"alternative\"],[\"classical\"],[\"country\"],[\"dance\"],[\"easy-listening\"],[\"hardcore\"],[\"jazz\"],[\"latin\"],[\"musical\"],[\"pop\"],[\"rock\"]],\"domain\":{\"x\":[0.0,1.0],\"y\":[0.0,1.0]},\"hovertemplate\":\"labels=%{label}<br>weight=%{value}<br>parent=%{parent}<br>id=%{id}<br>supergenre=%{customdata[0]}<extra></extra>\",\"ids\":[\"country/acoustic\",\"jazz/afrobeat\",\"alternative/alt-rock\",\"alternative/alternative\",\"easy-listening/ambient\",\"hardcore/black-metal\",\"country/bluegrass\",\"jazz/blues\",\"latin/bossanova\",\"jazz/soul\",\"easy-listening/sleep\",\"pop/k-pop\",\"hardcore/metal\",\"latin/latino\",\"hardcore/metal-misc\",\"latin/latin\",\"dance/electro\",\"dance/garage\",\"jazz/funk\",\"alternative/emo\",\"dance/electronic\",\"dance/edm\",\"country/folk\",\"rock/drum-and-bass\",\"musical/disney\",\"dance/deep-house\",\"dance/dubstep\",\"hardcore/death-metal\",\"hardcore/hardcore\",\"rock/guitar\",\"alternative/grunge\",\"rock/hard-rock\",\"alternative/goth\",\"hardcore/grindcore\",\"easy-listening/chill\",\"dance/dance\",\"country/country\",\"pop/club\",\"dance/breakbeat\",\"pop/cantopop\",\"dance/chicago-house\",\"classical/classical\",\"alternative/punk-rock\",\"pop/r-n-b\",\"rock/psych-rock\",\"alternative/punk\",\"latin/reggaeton\",\"rock/rock\",\"rock/rock-n-roll\",\"rock/rockabilly\",\"latin/salsa\",\"latin/samba\",\"musical/show-tunes\",\"dance/techno\",\"easy-listening/study\",\"pop/pop\",\"pop/pop-film\",\"rock/power-pop\",\"pop/party\",\"classical/opera\",\"easy-listening/new-age\",\"hardcore/metalcore\",\"easy-listening/piano\",\"country/honky-tonk\",\"dance/house\",\"alternative/indie\",\"rock/j-rock\",\"dance/j-dance\",\"pop/j-pop\",\"jazz/jazz\",\"alternative/indie-pop\",\"hardcore/heavy-metal\",\"alternative\",\"classical\",\"country\",\"dance\",\"easy-listening\",\"hardcore\",\"jazz\",\"latin\",\"musical\",\"pop\",\"rock\"],\"labels\":[\"acoustic\",\"afrobeat\",\"alt-rock\",\"alternative\",\"ambient\",\"black-metal\",\"bluegrass\",\"blues\",\"bossanova\",\"soul\",\"sleep\",\"k-pop\",\"metal\",\"latino\",\"metal-misc\",\"latin\",\"electro\",\"garage\",\"funk\",\"emo\",\"electronic\",\"edm\",\"folk\",\"drum-and-bass\",\"disney\",\"deep-house\",\"dubstep\",\"death-metal\",\"hardcore\",\"guitar\",\"grunge\",\"hard-rock\",\"goth\",\"grindcore\",\"chill\",\"dance\",\"country\",\"club\",\"breakbeat\",\"cantopop\",\"chicago-house\",\"classical\",\"punk-rock\",\"r-n-b\",\"psych-rock\",\"punk\",\"reggaeton\",\"rock\",\"rock-n-roll\",\"rockabilly\",\"salsa\",\"samba\",\"show-tunes\",\"techno\",\"study\",\"pop\",\"pop-film\",\"power-pop\",\"party\",\"opera\",\"new-age\",\"metalcore\",\"piano\",\"honky-tonk\",\"house\",\"indie\",\"j-rock\",\"j-dance\",\"j-pop\",\"jazz\",\"indie-pop\",\"heavy-metal\",\"alternative\",\"classical\",\"country\",\"dance\",\"easy-listening\",\"hardcore\",\"jazz\",\"latin\",\"musical\",\"pop\",\"rock\"],\"marker\":{\"colors\":[\"#636efa\",\"#EF553B\",\"#00cc96\",\"#00cc96\",\"#ab63fa\",\"#FFA15A\",\"#636efa\",\"#EF553B\",\"#19d3f3\",\"#EF553B\",\"#ab63fa\",\"#FF6692\",\"#FFA15A\",\"#19d3f3\",\"#FFA15A\",\"#19d3f3\",\"#B6E880\",\"#B6E880\",\"#EF553B\",\"#00cc96\",\"#B6E880\",\"#B6E880\",\"#636efa\",\"#FF97FF\",\"#FECB52\",\"#B6E880\",\"#B6E880\",\"#FFA15A\",\"#FFA15A\",\"#FF97FF\",\"#00cc96\",\"#FF97FF\",\"#00cc96\",\"#FFA15A\",\"#ab63fa\",\"#B6E880\",\"#636efa\",\"#FF6692\",\"#B6E880\",\"#FF6692\",\"#B6E880\",\"#636efa\",\"#00cc96\",\"#FF6692\",\"#FF97FF\",\"#00cc96\",\"#19d3f3\",\"#FF97FF\",\"#FF97FF\",\"#FF97FF\",\"#19d3f3\",\"#19d3f3\",\"#FECB52\",\"#B6E880\",\"#ab63fa\",\"#FF6692\",\"#FF6692\",\"#FF97FF\",\"#FF6692\",\"#636efa\",\"#ab63fa\",\"#FFA15A\",\"#ab63fa\",\"#636efa\",\"#B6E880\",\"#00cc96\",\"#FF97FF\",\"#B6E880\",\"#FF6692\",\"#EF553B\",\"#00cc96\",\"#FFA15A\",\"#00cc96\",\"#636efa\",\"#636efa\",\"#B6E880\",\"#ab63fa\",\"#FFA15A\",\"#EF553B\",\"#19d3f3\",\"#FECB52\",\"#FF6692\",\"#FF97FF\"]},\"name\":\"\",\"parents\":[\"country\",\"jazz\",\"alternative\",\"alternative\",\"easy-listening\",\"hardcore\",\"country\",\"jazz\",\"latin\",\"jazz\",\"easy-listening\",\"pop\",\"hardcore\",\"latin\",\"hardcore\",\"latin\",\"dance\",\"dance\",\"jazz\",\"alternative\",\"dance\",\"dance\",\"country\",\"rock\",\"musical\",\"dance\",\"dance\",\"hardcore\",\"hardcore\",\"rock\",\"alternative\",\"rock\",\"alternative\",\"hardcore\",\"easy-listening\",\"dance\",\"country\",\"pop\",\"dance\",\"pop\",\"dance\",\"classical\",\"alternative\",\"pop\",\"rock\",\"alternative\",\"latin\",\"rock\",\"rock\",\"rock\",\"latin\",\"latin\",\"musical\",\"dance\",\"easy-listening\",\"pop\",\"pop\",\"rock\",\"pop\",\"classical\",\"easy-listening\",\"hardcore\",\"easy-listening\",\"country\",\"dance\",\"alternative\",\"rock\",\"dance\",\"pop\",\"jazz\",\"alternative\",\"hardcore\",\"\",\"\",\"\",\"\",\"\",\"\",\"\",\"\",\"\",\"\",\"\"],\"values\":[0.12518570206740365,0.12518570206740365,0.12443458785499924,0.12518570206740365,0.12518570206740365,0.12518570206740365,0.12518570206740365,0.020029712330784585,0.12518570206740365,0.12518570206740365,0.12518570206740365,0.12518570206740365,0.02503714041348073,0.12518570206740365,0.02503714041348073,0.12518570206740365,0.12518570206740365,0.12518570206740365,0.12518570206740365,0.12518570206740365,0.12518570206740365,0.02628899743415477,0.12518570206740365,0.12518570206740365,0.12518570206740365,0.12518570206740365,0.12518570206740365,0.12518570206740365,0.12518570206740365,0.12518570206740365,0.12518570206740365,0.02503714041348073,0.12518570206740365,0.12518570206740365,0.12518570206740365,0.12368347364259481,0.12518570206740365,0.02503714041348073,0.12518570206740365,0.06434545086264548,0.12518570206740365,0.06359433665024106,0.12518570206740365,0.12518570206740365,0.12518570206740365,0.12518570206740365,0.02503714041348073,0.12518570206740365,0.12518570206740365,0.12518570206740365,0.06309359384197144,0.12518570206740365,0.12518570206740365,0.12518570206740365,0.12518570206740365,0.12518570206740365,0.024035654796941502,0.08287293476862122,0.12518570206740365,0.12518570206740365,0.12518570206740365,0.12518570206740365,0.12518570206740365,0.12518570206740365,0.12518570206740365,0.12518570206740365,0.12518570206740365,0.0923870481257439,0.12518570206740365,0.24210914779835868,0.02503714041348073,0.12518570206740365,1.0257716427403056,0.1887800387176447,0.6259285103370182,1.3690308378091263,0.7511142124044219,0.8011884932313833,0.6376959663313542,0.5888735425250667,0.2503714041348073,0.739346756410086,0.9842099896539275],\"type\":\"sunburst\"}],                        {\"template\":{\"data\":{\"bar\":[{\"error_x\":{\"color\":\"#2a3f5f\"},\"error_y\":{\"color\":\"#2a3f5f\"},\"marker\":{\"line\":{\"color\":\"#E5ECF6\",\"width\":0.5},\"pattern\":{\"fillmode\":\"overlay\",\"size\":10,\"solidity\":0.2}},\"type\":\"bar\"}],\"barpolar\":[{\"marker\":{\"line\":{\"color\":\"#E5ECF6\",\"width\":0.5},\"pattern\":{\"fillmode\":\"overlay\",\"size\":10,\"solidity\":0.2}},\"type\":\"barpolar\"}],\"carpet\":[{\"aaxis\":{\"endlinecolor\":\"#2a3f5f\",\"gridcolor\":\"white\",\"linecolor\":\"white\",\"minorgridcolor\":\"white\",\"startlinecolor\":\"#2a3f5f\"},\"baxis\":{\"endlinecolor\":\"#2a3f5f\",\"gridcolor\":\"white\",\"linecolor\":\"white\",\"minorgridcolor\":\"white\",\"startlinecolor\":\"#2a3f5f\"},\"type\":\"carpet\"}],\"choropleth\":[{\"colorbar\":{\"outlinewidth\":0,\"ticks\":\"\"},\"type\":\"choropleth\"}],\"contour\":[{\"colorbar\":{\"outlinewidth\":0,\"ticks\":\"\"},\"colorscale\":[[0.0,\"#0d0887\"],[0.1111111111111111,\"#46039f\"],[0.2222222222222222,\"#7201a8\"],[0.3333333333333333,\"#9c179e\"],[0.4444444444444444,\"#bd3786\"],[0.5555555555555556,\"#d8576b\"],[0.6666666666666666,\"#ed7953\"],[0.7777777777777778,\"#fb9f3a\"],[0.8888888888888888,\"#fdca26\"],[1.0,\"#f0f921\"]],\"type\":\"contour\"}],\"contourcarpet\":[{\"colorbar\":{\"outlinewidth\":0,\"ticks\":\"\"},\"type\":\"contourcarpet\"}],\"heatmap\":[{\"colorbar\":{\"outlinewidth\":0,\"ticks\":\"\"},\"colorscale\":[[0.0,\"#0d0887\"],[0.1111111111111111,\"#46039f\"],[0.2222222222222222,\"#7201a8\"],[0.3333333333333333,\"#9c179e\"],[0.4444444444444444,\"#bd3786\"],[0.5555555555555556,\"#d8576b\"],[0.6666666666666666,\"#ed7953\"],[0.7777777777777778,\"#fb9f3a\"],[0.8888888888888888,\"#fdca26\"],[1.0,\"#f0f921\"]],\"type\":\"heatmap\"}],\"heatmapgl\":[{\"colorbar\":{\"outlinewidth\":0,\"ticks\":\"\"},\"colorscale\":[[0.0,\"#0d0887\"],[0.1111111111111111,\"#46039f\"],[0.2222222222222222,\"#7201a8\"],[0.3333333333333333,\"#9c179e\"],[0.4444444444444444,\"#bd3786\"],[0.5555555555555556,\"#d8576b\"],[0.6666666666666666,\"#ed7953\"],[0.7777777777777778,\"#fb9f3a\"],[0.8888888888888888,\"#fdca26\"],[1.0,\"#f0f921\"]],\"type\":\"heatmapgl\"}],\"histogram\":[{\"marker\":{\"pattern\":{\"fillmode\":\"overlay\",\"size\":10,\"solidity\":0.2}},\"type\":\"histogram\"}],\"histogram2d\":[{\"colorbar\":{\"outlinewidth\":0,\"ticks\":\"\"},\"colorscale\":[[0.0,\"#0d0887\"],[0.1111111111111111,\"#46039f\"],[0.2222222222222222,\"#7201a8\"],[0.3333333333333333,\"#9c179e\"],[0.4444444444444444,\"#bd3786\"],[0.5555555555555556,\"#d8576b\"],[0.6666666666666666,\"#ed7953\"],[0.7777777777777778,\"#fb9f3a\"],[0.8888888888888888,\"#fdca26\"],[1.0,\"#f0f921\"]],\"type\":\"histogram2d\"}],\"histogram2dcontour\":[{\"colorbar\":{\"outlinewidth\":0,\"ticks\":\"\"},\"colorscale\":[[0.0,\"#0d0887\"],[0.1111111111111111,\"#46039f\"],[0.2222222222222222,\"#7201a8\"],[0.3333333333333333,\"#9c179e\"],[0.4444444444444444,\"#bd3786\"],[0.5555555555555556,\"#d8576b\"],[0.6666666666666666,\"#ed7953\"],[0.7777777777777778,\"#fb9f3a\"],[0.8888888888888888,\"#fdca26\"],[1.0,\"#f0f921\"]],\"type\":\"histogram2dcontour\"}],\"mesh3d\":[{\"colorbar\":{\"outlinewidth\":0,\"ticks\":\"\"},\"type\":\"mesh3d\"}],\"parcoords\":[{\"line\":{\"colorbar\":{\"outlinewidth\":0,\"ticks\":\"\"}},\"type\":\"parcoords\"}],\"pie\":[{\"automargin\":true,\"type\":\"pie\"}],\"scatter\":[{\"marker\":{\"colorbar\":{\"outlinewidth\":0,\"ticks\":\"\"}},\"type\":\"scatter\"}],\"scatter3d\":[{\"line\":{\"colorbar\":{\"outlinewidth\":0,\"ticks\":\"\"}},\"marker\":{\"colorbar\":{\"outlinewidth\":0,\"ticks\":\"\"}},\"type\":\"scatter3d\"}],\"scattercarpet\":[{\"marker\":{\"colorbar\":{\"outlinewidth\":0,\"ticks\":\"\"}},\"type\":\"scattercarpet\"}],\"scattergeo\":[{\"marker\":{\"colorbar\":{\"outlinewidth\":0,\"ticks\":\"\"}},\"type\":\"scattergeo\"}],\"scattergl\":[{\"marker\":{\"colorbar\":{\"outlinewidth\":0,\"ticks\":\"\"}},\"type\":\"scattergl\"}],\"scattermapbox\":[{\"marker\":{\"colorbar\":{\"outlinewidth\":0,\"ticks\":\"\"}},\"type\":\"scattermapbox\"}],\"scatterpolar\":[{\"marker\":{\"colorbar\":{\"outlinewidth\":0,\"ticks\":\"\"}},\"type\":\"scatterpolar\"}],\"scatterpolargl\":[{\"marker\":{\"colorbar\":{\"outlinewidth\":0,\"ticks\":\"\"}},\"type\":\"scatterpolargl\"}],\"scatterternary\":[{\"marker\":{\"colorbar\":{\"outlinewidth\":0,\"ticks\":\"\"}},\"type\":\"scatterternary\"}],\"surface\":[{\"colorbar\":{\"outlinewidth\":0,\"ticks\":\"\"},\"colorscale\":[[0.0,\"#0d0887\"],[0.1111111111111111,\"#46039f\"],[0.2222222222222222,\"#7201a8\"],[0.3333333333333333,\"#9c179e\"],[0.4444444444444444,\"#bd3786\"],[0.5555555555555556,\"#d8576b\"],[0.6666666666666666,\"#ed7953\"],[0.7777777777777778,\"#fb9f3a\"],[0.8888888888888888,\"#fdca26\"],[1.0,\"#f0f921\"]],\"type\":\"surface\"}],\"table\":[{\"cells\":{\"fill\":{\"color\":\"#EBF0F8\"},\"line\":{\"color\":\"white\"}},\"header\":{\"fill\":{\"color\":\"#C8D4E3\"},\"line\":{\"color\":\"white\"}},\"type\":\"table\"}]},\"layout\":{\"annotationdefaults\":{\"arrowcolor\":\"#2a3f5f\",\"arrowhead\":0,\"arrowwidth\":1},\"autotypenumbers\":\"strict\",\"coloraxis\":{\"colorbar\":{\"outlinewidth\":0,\"ticks\":\"\"}},\"colorscale\":{\"diverging\":[[0,\"#8e0152\"],[0.1,\"#c51b7d\"],[0.2,\"#de77ae\"],[0.3,\"#f1b6da\"],[0.4,\"#fde0ef\"],[0.5,\"#f7f7f7\"],[0.6,\"#e6f5d0\"],[0.7,\"#b8e186\"],[0.8,\"#7fbc41\"],[0.9,\"#4d9221\"],[1,\"#276419\"]],\"sequential\":[[0.0,\"#0d0887\"],[0.1111111111111111,\"#46039f\"],[0.2222222222222222,\"#7201a8\"],[0.3333333333333333,\"#9c179e\"],[0.4444444444444444,\"#bd3786\"],[0.5555555555555556,\"#d8576b\"],[0.6666666666666666,\"#ed7953\"],[0.7777777777777778,\"#fb9f3a\"],[0.8888888888888888,\"#fdca26\"],[1.0,\"#f0f921\"]],\"sequentialminus\":[[0.0,\"#0d0887\"],[0.1111111111111111,\"#46039f\"],[0.2222222222222222,\"#7201a8\"],[0.3333333333333333,\"#9c179e\"],[0.4444444444444444,\"#bd3786\"],[0.5555555555555556,\"#d8576b\"],[0.6666666666666666,\"#ed7953\"],[0.7777777777777778,\"#fb9f3a\"],[0.8888888888888888,\"#fdca26\"],[1.0,\"#f0f921\"]]},\"colorway\":[\"#636efa\",\"#EF553B\",\"#00cc96\",\"#ab63fa\",\"#FFA15A\",\"#19d3f3\",\"#FF6692\",\"#B6E880\",\"#FF97FF\",\"#FECB52\"],\"font\":{\"color\":\"#2a3f5f\"},\"geo\":{\"bgcolor\":\"white\",\"lakecolor\":\"white\",\"landcolor\":\"#E5ECF6\",\"showlakes\":true,\"showland\":true,\"subunitcolor\":\"white\"},\"hoverlabel\":{\"align\":\"left\"},\"hovermode\":\"closest\",\"mapbox\":{\"style\":\"light\"},\"paper_bgcolor\":\"white\",\"plot_bgcolor\":\"#E5ECF6\",\"polar\":{\"angularaxis\":{\"gridcolor\":\"white\",\"linecolor\":\"white\",\"ticks\":\"\"},\"bgcolor\":\"#E5ECF6\",\"radialaxis\":{\"gridcolor\":\"white\",\"linecolor\":\"white\",\"ticks\":\"\"}},\"scene\":{\"xaxis\":{\"backgroundcolor\":\"#E5ECF6\",\"gridcolor\":\"white\",\"gridwidth\":2,\"linecolor\":\"white\",\"showbackground\":true,\"ticks\":\"\",\"zerolinecolor\":\"white\"},\"yaxis\":{\"backgroundcolor\":\"#E5ECF6\",\"gridcolor\":\"white\",\"gridwidth\":2,\"linecolor\":\"white\",\"showbackground\":true,\"ticks\":\"\",\"zerolinecolor\":\"white\"},\"zaxis\":{\"backgroundcolor\":\"#E5ECF6\",\"gridcolor\":\"white\",\"gridwidth\":2,\"linecolor\":\"white\",\"showbackground\":true,\"ticks\":\"\",\"zerolinecolor\":\"white\"}},\"shapedefaults\":{\"line\":{\"color\":\"#2a3f5f\"}},\"ternary\":{\"aaxis\":{\"gridcolor\":\"white\",\"linecolor\":\"white\",\"ticks\":\"\"},\"baxis\":{\"gridcolor\":\"white\",\"linecolor\":\"white\",\"ticks\":\"\"},\"bgcolor\":\"#E5ECF6\",\"caxis\":{\"gridcolor\":\"white\",\"linecolor\":\"white\",\"ticks\":\"\"}},\"title\":{\"x\":0.05},\"xaxis\":{\"automargin\":true,\"gridcolor\":\"white\",\"linecolor\":\"white\",\"ticks\":\"\",\"title\":{\"standoff\":15},\"zerolinecolor\":\"white\",\"zerolinewidth\":2},\"yaxis\":{\"automargin\":true,\"gridcolor\":\"white\",\"linecolor\":\"white\",\"ticks\":\"\",\"title\":{\"standoff\":15},\"zerolinecolor\":\"white\",\"zerolinewidth\":2}}},\"legend\":{\"tracegroupgap\":0},\"margin\":{\"t\":60},\"title\":{\"text\":\"Two-level Sunburst Diagram\"},\"font\":{\"size\":10}},                        {\"responsive\": true}                    ).then(function(){\n",
              "                            \n",
              "var gd = document.getElementById('c1123dbe-85cc-4ad1-bbdc-feb4af6dd7dd');\n",
              "var x = new MutationObserver(function (mutations, observer) {{\n",
              "        var display = window.getComputedStyle(gd).display;\n",
              "        if (!display || display === 'none') {{\n",
              "            console.log([gd, 'removed!']);\n",
              "            Plotly.purge(gd);\n",
              "            observer.disconnect();\n",
              "        }}\n",
              "}});\n",
              "\n",
              "// Listen for the removal of the full notebook cells\n",
              "var notebookContainer = gd.closest('#notebook-container');\n",
              "if (notebookContainer) {{\n",
              "    x.observe(notebookContainer, {childList: true});\n",
              "}}\n",
              "\n",
              "// Listen for the clearing of the current output cell\n",
              "var outputEl = gd.closest('.output');\n",
              "if (outputEl) {{\n",
              "    x.observe(outputEl, {childList: true});\n",
              "}}\n",
              "\n",
              "                        })                };                            </script>        </div>\n",
              "</body>\n",
              "</html>"
            ]
          },
          "metadata": {}
        }
      ]
    }
  ]
}