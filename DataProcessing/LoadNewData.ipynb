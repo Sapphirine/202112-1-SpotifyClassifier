{
  "cells": [
    {
      "cell_type": "code",
      "execution_count": 1,
      "metadata": {
        "colab": {
          "base_uri": "https://localhost:8080/"
        },
        "id": "HxQcvGCeeUL7",
        "outputId": "fff52657-307a-48ea-f6ae-29a94c573e78"
      },
      "outputs": [
        {
          "output_type": "stream",
          "name": "stdout",
          "text": [
            "Mounted at /content/drive\n"
          ]
        }
      ],
      "source": [
        "from google.colab import drive\n",
        "drive.mount('/content/drive')"
      ]
    },
    {
      "cell_type": "code",
      "execution_count": 2,
      "metadata": {
        "id": "xBeb-9oABWE3"
      },
      "outputs": [],
      "source": [
        "import os\n",
        "os.environ[\"GOOGLE_APPLICATION_CREDENTIALS\"] = \"/content/drive/MyDrive/spotifyclassifier-b2d573dee4ec.json\""
      ]
    },
    {
      "cell_type": "code",
      "execution_count": null,
      "metadata": {
        "id": "0pMEg0X6Aqwo"
      },
      "outputs": [],
      "source": [
        "!pip install google-api-python-client\n",
        "from googleapiclient.discovery import build\n",
        "import json\n",
        "import pandas as pd\n",
        "gcs_service = build('storage', 'v1')"
      ]
    },
    {
      "cell_type": "code",
      "execution_count": null,
      "metadata": {
        "id": "Z7p15WMteUtN"
      },
      "outputs": [],
      "source": [
        "f = gcs_service.objects()\n",
        "list_request = f.list(bucket='audio-features-fullset')\n",
        "features_list = []\n",
        "while list_request is not None:\n",
        "    results = list_request.execute()\n",
        "    for d in results['items']:\n",
        "        id = d['name'][d['name'].find('/') + 1:-5]\n",
        "        request = f.get_media(bucket=d['bucket'], object=d['name'], generation=d['generation'])\n",
        "        try:  \n",
        "            response = request.execute()\n",
        "            if response != '':\n",
        "                json_resp = json.loads(response)\n",
        "                try:\n",
        "                    features_list.append([id, json_resp[\"super-genre-label\"], json_resp[\"subgenre-label\"], json_resp[\"danceability\"], json_resp['energy'],\n",
        "                                      json_resp['loudness'], json_resp['mode'], json_resp['speechiness'], json_resp['acousticness'],\n",
        "                                      json_resp['instrumentalness'], json_resp['liveness'], json_resp['valence'],\n",
        "                                      json_resp['tempo'], json_resp['time_signature'], json_resp['release_date'][:4], json_resp[\"popularity\"], json_resp[\"avg_pitches\"],\n",
        "                                      json_resp[\"avg_timbre\"]])\n",
        "                except KeyError:\n",
        "                  pass\n",
        "        except Exception as e:\n",
        "            print(e)\n",
        "            pass\n",
        "    list_request = f.list_next(list_request, results)\n",
        "pandasDF = pd.DataFrame(features_list, columns=['id', 'super-genre', 'subgenre', 'danceability', 'energy',\n",
        "                                          'loudness', 'mode', 'speechiness', 'acousticness',\n",
        "                                          'instrumentalness', 'liveness', 'valence',\n",
        "                                          'tempo', 'time_signature', 'release_date', 'popularity', 'avg_pitches', 'avg_timbre'])\n",
        "pandasDF"
      ]
    }
  ],
  "metadata": {
    "colab": {
      "collapsed_sections": [],
      "name": "LoadNewData.ipynb",
      "provenance": []
    },
    "kernelspec": {
      "display_name": "Python 3",
      "name": "python3"
    },
    "language_info": {
      "name": "python"
    }
  },
  "nbformat": 4,
  "nbformat_minor": 0
}