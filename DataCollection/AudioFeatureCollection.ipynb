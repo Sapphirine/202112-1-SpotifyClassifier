{
  "nbformat": 4,
  "nbformat_minor": 0,
  "metadata": {
    "colab": {
      "name": "6893_HW2PartI_LogisticRegression.ipynb",
      "provenance": [],
      "collapsed_sections": []
    },
    "kernelspec": {
      "name": "python3",
      "display_name": "Python 3"
    },
    "language_info": {
      "name": "python"
    },
    "accelerator": "GPU"
  },
  "cells": [
    {
      "cell_type": "markdown",
      "metadata": {
        "id": "ulzSVEBDnJRT"
      },
      "source": [
        "Alex Thornton (apt2141)  \n",
        "Columbia University Fall 2021  \n",
        "ELEN E6893 - Big Data Analytics  \n",
        "Research Project: SpotifyClassifier"
      ]
    },
    {
      "cell_type": "markdown",
      "metadata": {
        "id": "CeM9m3Lm99QY"
      },
      "source": [
        "1. Connect to GCP"
      ]
    },
    {
      "cell_type": "code",
      "metadata": {
        "colab": {
          "base_uri": "https://localhost:8080/"
        },
        "id": "BSznwvRi91nq",
        "outputId": "dafb2ec9-c060-4765-9d2b-efdf64fd2f14"
      },
      "source": [
        "from google.colab import auth\n",
        "auth.authenticate_user()\n",
        "!gcloud config set project spotifyclassifier\n",
        "!pip install spotipy"
      ],
      "execution_count": 1,
      "outputs": [
        {
          "output_type": "stream",
          "name": "stdout",
          "text": [
            "Updated property [core/project].\n",
            "Requirement already satisfied: spotipy in /usr/local/lib/python3.7/dist-packages (2.19.0)\n",
            "Requirement already satisfied: six>=1.15.0 in /usr/local/lib/python3.7/dist-packages (from spotipy) (1.15.0)\n",
            "Requirement already satisfied: requests>=2.25.0 in /usr/local/lib/python3.7/dist-packages (from spotipy) (2.26.0)\n",
            "Requirement already satisfied: urllib3>=1.26.0 in /usr/local/lib/python3.7/dist-packages (from spotipy) (1.26.7)\n",
            "Requirement already satisfied: idna<4,>=2.5 in /usr/local/lib/python3.7/dist-packages (from requests>=2.25.0->spotipy) (2.10)\n",
            "Requirement already satisfied: certifi>=2017.4.17 in /usr/local/lib/python3.7/dist-packages (from requests>=2.25.0->spotipy) (2021.10.8)\n",
            "Requirement already satisfied: charset-normalizer~=2.0.0 in /usr/local/lib/python3.7/dist-packages (from requests>=2.25.0->spotipy) (2.0.8)\n"
          ]
        }
      ]
    },
    {
      "cell_type": "code",
      "source": [
        "import os\n",
        "os.environ['SPOTIPY_CLIENT_ID'] = 'SECRET'\n",
        "os.environ['SPOTIPY_CLIENT_SECRET'] = 'SECRET'"
      ],
      "metadata": {
        "id": "BtYYWGIz97iF"
      },
      "execution_count": 2,
      "outputs": []
    },
    {
      "cell_type": "code",
      "source": [
        "!pip install --upgrade google-api-python-client"
      ],
      "metadata": {
        "id": "Eal4h8CILxzZ",
        "outputId": "f0e2ab64-558d-4d25-db69-f02c6960c5e5",
        "colab": {
          "base_uri": "https://localhost:8080/"
        }
      },
      "execution_count": 3,
      "outputs": [
        {
          "output_type": "stream",
          "name": "stdout",
          "text": [
            "Requirement already satisfied: google-api-python-client in /usr/local/lib/python3.7/dist-packages (2.33.0)\n",
            "Requirement already satisfied: google-api-core<3.0.0dev,>=1.21.0 in /usr/local/lib/python3.7/dist-packages (from google-api-python-client) (1.26.3)\n",
            "Requirement already satisfied: uritemplate<5,>=3.0.0 in /usr/local/lib/python3.7/dist-packages (from google-api-python-client) (3.0.1)\n",
            "Requirement already satisfied: httplib2<1dev,>=0.15.0 in /usr/local/lib/python3.7/dist-packages (from google-api-python-client) (0.17.4)\n",
            "Requirement already satisfied: google-auth<3.0.0dev,>=1.16.0 in /usr/local/lib/python3.7/dist-packages (from google-api-python-client) (1.35.0)\n",
            "Requirement already satisfied: google-auth-httplib2>=0.1.0 in /usr/local/lib/python3.7/dist-packages (from google-api-python-client) (0.1.0)\n",
            "Requirement already satisfied: setuptools>=40.3.0 in /usr/local/lib/python3.7/dist-packages (from google-api-core<3.0.0dev,>=1.21.0->google-api-python-client) (57.4.0)\n",
            "Requirement already satisfied: googleapis-common-protos<2.0dev,>=1.6.0 in /usr/local/lib/python3.7/dist-packages (from google-api-core<3.0.0dev,>=1.21.0->google-api-python-client) (1.53.0)\n",
            "Requirement already satisfied: packaging>=14.3 in /usr/local/lib/python3.7/dist-packages (from google-api-core<3.0.0dev,>=1.21.0->google-api-python-client) (21.3)\n",
            "Requirement already satisfied: protobuf>=3.12.0 in /usr/local/lib/python3.7/dist-packages (from google-api-core<3.0.0dev,>=1.21.0->google-api-python-client) (3.17.3)\n",
            "Requirement already satisfied: requests<3.0.0dev,>=2.18.0 in /usr/local/lib/python3.7/dist-packages (from google-api-core<3.0.0dev,>=1.21.0->google-api-python-client) (2.26.0)\n",
            "Requirement already satisfied: six>=1.13.0 in /usr/local/lib/python3.7/dist-packages (from google-api-core<3.0.0dev,>=1.21.0->google-api-python-client) (1.15.0)\n",
            "Requirement already satisfied: pytz in /usr/local/lib/python3.7/dist-packages (from google-api-core<3.0.0dev,>=1.21.0->google-api-python-client) (2018.9)\n",
            "Requirement already satisfied: pyasn1-modules>=0.2.1 in /usr/local/lib/python3.7/dist-packages (from google-auth<3.0.0dev,>=1.16.0->google-api-python-client) (0.2.8)\n",
            "Requirement already satisfied: cachetools<5.0,>=2.0.0 in /usr/local/lib/python3.7/dist-packages (from google-auth<3.0.0dev,>=1.16.0->google-api-python-client) (4.2.4)\n",
            "Requirement already satisfied: rsa<5,>=3.1.4 in /usr/local/lib/python3.7/dist-packages (from google-auth<3.0.0dev,>=1.16.0->google-api-python-client) (4.8)\n",
            "Requirement already satisfied: pyparsing!=3.0.5,>=2.0.2 in /usr/local/lib/python3.7/dist-packages (from packaging>=14.3->google-api-core<3.0.0dev,>=1.21.0->google-api-python-client) (3.0.6)\n",
            "Requirement already satisfied: pyasn1<0.5.0,>=0.4.6 in /usr/local/lib/python3.7/dist-packages (from pyasn1-modules>=0.2.1->google-auth<3.0.0dev,>=1.16.0->google-api-python-client) (0.4.8)\n",
            "Requirement already satisfied: idna<4,>=2.5 in /usr/local/lib/python3.7/dist-packages (from requests<3.0.0dev,>=2.18.0->google-api-core<3.0.0dev,>=1.21.0->google-api-python-client) (2.10)\n",
            "Requirement already satisfied: urllib3<1.27,>=1.21.1 in /usr/local/lib/python3.7/dist-packages (from requests<3.0.0dev,>=2.18.0->google-api-core<3.0.0dev,>=1.21.0->google-api-python-client) (1.26.7)\n",
            "Requirement already satisfied: certifi>=2017.4.17 in /usr/local/lib/python3.7/dist-packages (from requests<3.0.0dev,>=2.18.0->google-api-core<3.0.0dev,>=1.21.0->google-api-python-client) (2021.10.8)\n",
            "Requirement already satisfied: charset-normalizer~=2.0.0 in /usr/local/lib/python3.7/dist-packages (from requests<3.0.0dev,>=2.18.0->google-api-core<3.0.0dev,>=1.21.0->google-api-python-client) (2.0.8)\n"
          ]
        }
      ]
    },
    {
      "cell_type": "code",
      "metadata": {
        "id": "43QG_31aGHPN"
      },
      "source": [
        "from googleapiclient.discovery import build\n",
        "gcs_service = build('storage', 'v1')\n",
        "from googleapiclient.http import MediaFileUpload\n",
        "from googleapiclient.http import MediaIoBaseDownload"
      ],
      "execution_count": 12,
      "outputs": []
    },
    {
      "cell_type": "markdown",
      "metadata": {
        "id": "IZtmBCrnADy3"
      },
      "source": [
        "3. Import Packages"
      ]
    },
    {
      "cell_type": "code",
      "metadata": {
        "id": "6hKq-n7G62-2"
      },
      "source": [
        "import requests\n",
        "import json\n",
        "import spotipy\n",
        "import numpy as np\n",
        "from spotipy.oauth2 import SpotifyClientCredentials"
      ],
      "execution_count": 5,
      "outputs": []
    },
    {
      "cell_type": "markdown",
      "source": [
        "3. Setup Spotify API"
      ],
      "metadata": {
        "id": "U1pl7sJgc5q2"
      }
    },
    {
      "cell_type": "code",
      "source": [
        "auth_manager = SpotifyClientCredentials()\n",
        "sp = spotipy.Spotify(auth_manager=auth_manager)"
      ],
      "metadata": {
        "id": "wa6FaY6_dCx4"
      },
      "execution_count": 6,
      "outputs": []
    },
    {
      "cell_type": "markdown",
      "metadata": {
        "id": "V5_jvhfhtFCj"
      },
      "source": [
        "4. Do Stuff"
      ]
    },
    {
      "cell_type": "code",
      "metadata": {
        "colab": {
          "base_uri": "https://localhost:8080/"
        },
        "id": "IdYlwwxED3Uy",
        "outputId": "641a9f92-abbe-4479-fb5f-f366e7ba2c93"
      },
      "source": [
        "genres = [\"techno\",\"j-dance\",\"deep-house\",\\\n",
        "    \"rock\",\"rock-n-roll\",\"rockabilly\",\"j-rock\",\"hard-rock\",\"psych-rock\",\"power-pop\",\"guitar\",\"drum-and-bass\",\\\n",
        "    \"country\",\"bluegrass\",\"acoustic\",\"folk\",\"honky-tonk\",\\\n",
        "    \"pop\",\"k-pop\",\"j-pop\",\"cantopop\",\"party\",\"pop-film\",\"r-n-b\",\"club\",\"hip-hop\",\\\n",
        "    \"jazz\",\"soul\",\"funk\",\"blues\",\"afrobeat\",\\\n",
        "    \"latin\",\"latino\",\"reggaeton\",\"samba\",\"salsa\",\"bossanova\",\\\n",
        "    \"classical\",\"opera\",\\\n",
        "    \"show-tunes\",\"disney\"]\n",
        "\n",
        "!mkdir /track-files\n",
        "for genre in genres:\n",
        "    with open('/track-files/'+genre+'.json', 'wb') as f:\n",
        "        request = gcs_service.objects().get_media(bucket='track-lists-full',object=genre+'.json')\n",
        "        media = MediaIoBaseDownload(f, request)\n",
        "        done = False\n",
        "        while not done:\n",
        "            _, done = media.next_chunk()\n",
        "\n",
        "    with open('/track-files/'+genre+'.json', \"r\") as tracklist:\n",
        "        tracklist = json.load(tracklist)\n",
        "        num_songs = len(tracklist.keys())\n",
        "    print(\"Genre: \"+genre+\", # Tracks: \"+str(num_songs))\n",
        "\n"
      ],
      "execution_count": 7,
      "outputs": [
        {
          "output_type": "stream",
          "name": "stdout",
          "text": [
            "mkdir: cannot create directory ‘/track-files’: File exists\n",
            "Genre: techno, # Tracks: 500\n",
            "Genre: j-dance, # Tracks: 369\n",
            "Genre: deep-house, # Tracks: 500\n",
            "Genre: rock, # Tracks: 500\n",
            "Genre: rock-n-roll, # Tracks: 500\n",
            "Genre: rockabilly, # Tracks: 500\n",
            "Genre: j-rock, # Tracks: 500\n",
            "Genre: hard-rock, # Tracks: 100\n",
            "Genre: psych-rock, # Tracks: 500\n",
            "Genre: power-pop, # Tracks: 331\n",
            "Genre: guitar, # Tracks: 500\n",
            "Genre: drum-and-bass, # Tracks: 500\n",
            "Genre: country, # Tracks: 500\n",
            "Genre: bluegrass, # Tracks: 500\n",
            "Genre: acoustic, # Tracks: 500\n",
            "Genre: folk, # Tracks: 500\n",
            "Genre: honky-tonk, # Tracks: 500\n",
            "Genre: pop, # Tracks: 500\n",
            "Genre: k-pop, # Tracks: 500\n",
            "Genre: j-pop, # Tracks: 500\n",
            "Genre: cantopop, # Tracks: 257\n",
            "Genre: party, # Tracks: 500\n",
            "Genre: pop-film, # Tracks: 96\n",
            "Genre: r-n-b, # Tracks: 500\n",
            "Genre: club, # Tracks: 100\n",
            "Genre: hip-hop, # Tracks: 967\n",
            "Genre: jazz, # Tracks: 500\n",
            "Genre: soul, # Tracks: 500\n",
            "Genre: funk, # Tracks: 80\n",
            "Genre: blues, # Tracks: 500\n",
            "Genre: afrobeat, # Tracks: 500\n",
            "Genre: latin, # Tracks: 500\n",
            "Genre: latino, # Tracks: 100\n",
            "Genre: reggaeton, # Tracks: 500\n",
            "Genre: samba, # Tracks: 252\n",
            "Genre: salsa, # Tracks: 500\n",
            "Genre: bossanova, # Tracks: 254\n",
            "Genre: classical, # Tracks: 516\n",
            "Genre: opera, # Tracks: 925\n",
            "Genre: show-tunes, # Tracks: 899\n",
            "Genre: disney, # Tracks: 500\n"
          ]
        }
      ]
    },
    {
      "cell_type": "code",
      "metadata": {
        "colab": {
          "base_uri": "https://localhost:8080/"
        },
        "id": "n5OlMKtaI3gP",
        "outputId": "73ba23b2-9912-4b8f-946b-b53b877d9eb6"
      },
      "source": [
        "!ls /track-files"
      ],
      "execution_count": 7,
      "outputs": [
        {
          "output_type": "stream",
          "name": "stdout",
          "text": [
            "acoustic.json\t drum-and-bass.json  k-pop.json       rockabilly.json\n",
            "afrobeat.json\t folk.json\t     latin.json       rock.json\n",
            "bluegrass.json\t funk.json\t     latino.json      rock-n-roll.json\n",
            "blues.json\t guitar.json\t     opera.json       salsa.json\n",
            "bossanova.json\t hard-rock.json      party.json       samba.json\n",
            "cantopop.json\t hip-hop.json\t     pop-film.json    show-tunes.json\n",
            "classical.json\t honky-tonk.json     pop.json\t      soul.json\n",
            "club.json\t jazz.json\t     power-pop.json   techno.json\n",
            "country.json\t j-dance.json\t     psych-rock.json\n",
            "deep-house.json  j-pop.json\t     reggaeton.json\n",
            "disney.json\t j-rock.json\t     r-n-b.json\n"
          ]
        }
      ]
    },
    {
      "cell_type": "code",
      "metadata": {
        "id": "MKts41-ELofG"
      },
      "source": [
        "!mkdir /audio-features"
      ],
      "execution_count": 8,
      "outputs": []
    },
    {
      "cell_type": "code",
      "metadata": {
        "id": "e77bXBp4Pr4b"
      },
      "source": [
        "for genre in genres:\n",
        "    !mkdir /audio-features/$genre"
      ],
      "execution_count": 9,
      "outputs": []
    },
    {
      "cell_type": "code",
      "source": [
        "#Map subgenres to their supergenre parent node\n",
        "supergenre = {\n",
        "    'alternative':'alternative',\n",
        "    'indie':'alternative',\n",
        "    'alt-rock':'alternative',\n",
        "    'punk':'alternative',\n",
        "    'grunge':'alternative',\n",
        "    'punk-rock':'alternative',\n",
        "    'indie-pop':'alternative',\n",
        "    'emo':'alternative',\n",
        "    'goth':'alternative',\n",
        "    'hardcore':'hardcore',\n",
        "    'death-metal':'hardcore',\n",
        "    'grindcore':'hardcore',\n",
        "    'black-metal':'hardcore',\n",
        "    'heavy-metal':'hardcore',\n",
        "    'metalcore':'hardcore',\n",
        "    'metal':'hardcore',\n",
        "    'metal-misc':'hardcore',\n",
        "    'dance':'dance',\n",
        "    'electronic':'dance',\n",
        "    'electro':'dance',\n",
        "    'edm':'dance',\n",
        "    'garage':'dance',\n",
        "    'house':'dance',\n",
        "    'chicago-house':'dance',\n",
        "    'breakbeat':'dance',\n",
        "    'dubstep':'dance',\n",
        "    'techno':'dance',\n",
        "    'j-dance':'dance',\n",
        "    'deep-house':'dance',\n",
        "    'ambient':'easy-listening',\n",
        "    'chill':'easy-listening',\n",
        "    'sleep':'easy-listening',\n",
        "    'new-age':'easy-listening',\n",
        "    'study':'easy-listening',\n",
        "    'piano':'easy-listening',\n",
        "    'rock':'rock',\n",
        "    'rock-n-roll':'rock',\n",
        "    'rockabilly':'rock',\n",
        "    'j-rock':'rock',\n",
        "    'hard-rock':'rock',\n",
        "    'psych-rock':'rock',\n",
        "    'power-pop':'rock',\n",
        "    'guitar':'rock',\n",
        "    'drum-and-bass':'rock',\n",
        "    'country':'country',\n",
        "    'bluegrass':'country',\n",
        "    'acoustic':'country',\n",
        "    'folk':'country',\n",
        "    'honky-tonk':'country',\n",
        "    'jazz':'jazz',\n",
        "    'soul':'jazz',\n",
        "    'funk':'jazz',\n",
        "    'blues':'jazz',\n",
        "    'afrobeat':'jazz',\n",
        "    'latin':'latin',\n",
        "    'latino':'latin',\n",
        "    'reggaeton':'latin',\n",
        "    'samba':'latin',\n",
        "    'salsa':'latin',\n",
        "    'bossanova':'latin',\n",
        "    'classical':'classical',\n",
        "    'opera':'classical',\n",
        "    'disney':'musical',\n",
        "    'show-tunes':'musical'\n",
        "}"
      ],
      "metadata": {
        "id": "zF0KGs5mAe6a"
      },
      "execution_count": 8,
      "outputs": []
    },
    {
      "cell_type": "code",
      "source": [
        "genres = [\"hip-hop\",\"pop\",\"k-pop\",\"j-pop\",\"cantopop\",\"party\",\"pop-film\",\"r-n-b\",\"club\",\"hip-hop\"]"
      ],
      "metadata": {
        "id": "ILJ_PGQVE8aC"
      },
      "execution_count": 17,
      "outputs": []
    },
    {
      "cell_type": "code",
      "source": [
        "for genre in genres:\n",
        "    print(\"Starting \" +genre)\n",
        "    with open('/track-files/'+genre+'.json', \"r\") as tracklist:\n",
        "        tracklist = json.load(tracklist)\n",
        "        for track in tracklist:\n",
        "            track_id = tracklist[track]\n",
        "            track_data = sp.audio_features(track_id)\n",
        "            track_data = track_data[0]\n",
        "            try:\n",
        "                analysis = sp.audio_analysis(track_id)\n",
        "\n",
        "                # Save audio features locally\n",
        "                with open(\"/audio-features/\"+track_id+\".json\", 'w') as f:\n",
        "                    #Add some of our own labels\n",
        "                    track_data['subgenre-label'] = genre \n",
        "                    track_data['super-genre-label'] = supergenre[genre]\n",
        "                    track_data['song-title'] = track\n",
        "\n",
        "                    #Fetch some additional info for us\n",
        "                    basic_info = sp.track(track_id)\n",
        "                    track_data['popularity'] = basic_info['popularity']\n",
        "                    track_data['explicit'] = basic_info['explicit']\n",
        "                    album = basic_info['album']\n",
        "                    track_data['release_date'] = album['release_date']\n",
        "                    track_data['release_date_precision'] = album['release_date_precision']\n",
        "\n",
        "                    #Add in some Spotify Audio Analysis Vectors\n",
        "\n",
        "                    num_seg = 0\n",
        "                    pitches = np.zeros(12)\n",
        "                    timbre = np.zeros(12)\n",
        "\n",
        "                    analysis_data = analysis['track']\n",
        "                    time_signature = analysis_data['time_signature']\n",
        "                    key = analysis_data['key']\n",
        "                    mode = analysis_data['mode']\n",
        "\n",
        "                    if \"segments\" in analysis:\n",
        "                        for _, j in enumerate(analysis['segments']):\n",
        "                            pitches += np.array(j['pitches'])\n",
        "                            timbre += np.array(j['timbre'])\n",
        "                            num_seg+=1\n",
        "\n",
        "                    track_data['avg_pitches'] = list(pitches/num_seg)\n",
        "                    track_data['avg_timbre'] = list(timbre/num_seg)\n",
        "                    #print(track_data)\n",
        "\n",
        "                    json.dump(track_data, f, indent=4)\n",
        "\n",
        "                # Upload audio features to GCP bucket\n",
        "                media = MediaFileUpload(\"/audio-features/\"+track_id+\".json\", \n",
        "                                  mimetype='application/json',\n",
        "                                  resumable=True)\n",
        "\n",
        "                request = gcs_service.objects().insert(bucket='audio-features-fullset', \n",
        "                                                      name=genre+\"/\"+track_id+\".json\",\n",
        "                                                      media_body=media)\n",
        "                print(\"Loaded track \"+track+\", Genre: \"+genre)\n",
        "                response = None\n",
        "                while response is None:\n",
        "                    _, response = request.next_chunk()\n",
        "            except:\n",
        "                print(\"No analysis available, zero padding \"+track+\", Genre: \"+genre)\n",
        "                \n",
        "                # Save audio features locally\n",
        "                with open(\"/audio-features/\"+track_id+\".json\", 'w') as f:\n",
        "                    #Add some of our own labels\n",
        "                    track_data['subgenre-label'] = genre \n",
        "                    track_data['super-genre-label'] = supergenre[genre]\n",
        "                    track_data['song-title'] = track\n",
        "\n",
        "                    #Fetch some additional info for us\n",
        "                    basic_info = sp.track(track_id)\n",
        "                    track_data['popularity'] = basic_info['popularity']\n",
        "                    track_data['explicit'] = basic_info['explicit']\n",
        "                    album = basic_info['album']\n",
        "                    track_data['release_date'] = album['release_date']\n",
        "                    track_data['release_date_precision'] = album['release_date_precision']\n",
        "\n",
        "                    #Add in some Spotify Audio Analysis Vectors\n",
        "                    analysis = sp.audio_analysis(track_id)\n",
        "\n",
        "                    pitches = np.zeros(12)\n",
        "                    timbre = np.zeros(12)\n",
        "\n",
        "                    track_data['avg_pitches'] = list(pitches)\n",
        "                    track_data['avg_timbre'] = list(timbre)\n",
        "                    #print(track_data)\n",
        "\n",
        "                    json.dump(track_data, f, indent=4)\n",
        "\n",
        "            \n",
        "            response = None\n",
        "            while response is None:\n",
        "                _, response = request.next_chunk()\n"
      ],
      "metadata": {
        "id": "JaTPnCmM_Mfi",
        "outputId": "6d26646d-7471-44ae-c1f5-96a28e923069",
        "colab": {
          "base_uri": "https://localhost:8080/"
        }
      },
      "execution_count": null,
      "outputs": [
        {
          "output_type": "stream",
          "name": "stdout",
          "text": [
            "Starting jazz\n",
            "Loaded track Along Came Betty, Genre: jazz\n",
            "Loaded track Directions, Genre: jazz\n",
            "Loaded track 'Round Midnight, Genre: jazz\n",
            "Loaded track Next Please, Genre: jazz\n",
            "Loaded track Nengueleru, Genre: jazz\n",
            "Loaded track Are You Real - Remastered, Genre: jazz\n",
            "Loaded track Hat And Beard, Genre: jazz\n",
            "Loaded track Summer Sun, Genre: jazz\n",
            "Skipped track Summer Sun, Genre: jazz\n",
            "Loaded track Fly Me To The Moon - 2008 Remastered, Genre: jazz\n",
            "Skipped track Fly Me To The Moon - 2008 Remastered, Genre: jazz\n",
            "Loaded track K, Genre: jazz\n",
            "Loaded track Slow Dance, Genre: jazz\n",
            "Loaded track The Girl From Ipanema - Stereo Version, Genre: jazz\n",
            "Skipped track The Girl From Ipanema - Stereo Version, Genre: jazz\n",
            "Loaded track The Gypsy, Genre: jazz\n",
            "Skipped track The Gypsy, Genre: jazz\n",
            "Loaded track Brazilian Suite, Genre: jazz\n",
            "Loaded track The Toy Trumpet, Genre: jazz\n",
            "Loaded track Channel 1 Suite, Genre: jazz\n",
            "Loaded track Blue In Green (Take 3), Genre: jazz\n",
            "Loaded track One and One, Genre: jazz\n",
            "Skipped track One and One, Genre: jazz\n",
            "Loaded track Desafinado - Stereo Version, Genre: jazz\n",
            "Skipped track Desafinado - Stereo Version, Genre: jazz\n",
            "Loaded track Everything I Love, Genre: jazz\n",
            "Loaded track Summertime, Genre: jazz\n",
            "Loaded track Unsquare Dance, Genre: jazz\n",
            "Loaded track My Trip To Ireland, Genre: jazz\n",
            "Loaded track Agua De Beber, Genre: jazz\n",
            "Loaded track Let's Face The Music And Dance, Genre: jazz\n",
            "Loaded track Stolen Moments, Genre: jazz\n"
          ]
        }
      ]
    }
  ]
}