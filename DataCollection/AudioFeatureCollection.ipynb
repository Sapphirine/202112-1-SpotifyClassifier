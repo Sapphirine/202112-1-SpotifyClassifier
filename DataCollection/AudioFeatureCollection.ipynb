{
  "nbformat": 4,
  "nbformat_minor": 0,
  "metadata": {
    "colab": {
      "name": "6893_HW2PartI_LogisticRegression.ipynb",
      "provenance": [],
      "collapsed_sections": []
    },
    "kernelspec": {
      "name": "python3",
      "display_name": "Python 3"
    },
    "language_info": {
      "name": "python"
    }
  },
  "cells": [
    {
      "cell_type": "markdown",
      "metadata": {
        "id": "ulzSVEBDnJRT"
      },
      "source": [
        "Alex Thornton (apt2141)  \n",
        "Columbia University Fall 2021  \n",
        "ELEN E6893 - Big Data Analytics  \n",
        "Research Project: SpotifyClassifier"
      ]
    },
    {
      "cell_type": "markdown",
      "metadata": {
        "id": "CeM9m3Lm99QY"
      },
      "source": [
        "1. Connect to GCP"
      ]
    },
    {
      "cell_type": "code",
      "metadata": {
        "colab": {
          "base_uri": "https://localhost:8080/"
        },
        "id": "BSznwvRi91nq",
        "outputId": "ab78b6a0-db81-4a34-ba1a-61441cde5a66"
      },
      "source": [
        "from google.colab import auth\n",
        "auth.authenticate_user()\n",
        "!gcloud config set project spotifyclassifier\n",
        "!pip install spotipy"
      ],
      "execution_count": 1,
      "outputs": [
        {
          "output_type": "stream",
          "name": "stdout",
          "text": [
            "Updated property [core/project].\n",
            "Requirement already satisfied: spotipy in /usr/local/lib/python3.7/dist-packages (2.19.0)\n",
            "Requirement already satisfied: requests>=2.25.0 in /usr/local/lib/python3.7/dist-packages (from spotipy) (2.26.0)\n",
            "Requirement already satisfied: six>=1.15.0 in /usr/local/lib/python3.7/dist-packages (from spotipy) (1.15.0)\n",
            "Requirement already satisfied: urllib3>=1.26.0 in /usr/local/lib/python3.7/dist-packages (from spotipy) (1.26.7)\n",
            "Requirement already satisfied: idna<4,>=2.5 in /usr/local/lib/python3.7/dist-packages (from requests>=2.25.0->spotipy) (2.10)\n",
            "Requirement already satisfied: charset-normalizer~=2.0.0 in /usr/local/lib/python3.7/dist-packages (from requests>=2.25.0->spotipy) (2.0.8)\n",
            "Requirement already satisfied: certifi>=2017.4.17 in /usr/local/lib/python3.7/dist-packages (from requests>=2.25.0->spotipy) (2021.10.8)\n"
          ]
        }
      ]
    },
    {
      "cell_type": "code",
      "source": [
        "import os\n",
        "os.environ['SPOTIPY_CLIENT_ID'] = '54453840737d4ec5812c403550b7a8c8'\n",
        "os.environ['SPOTIPY_CLIENT_SECRET'] = '92f637c6155e4e568175acff3255c2c5'"
      ],
      "metadata": {
        "id": "BtYYWGIz97iF"
      },
      "execution_count": 11,
      "outputs": []
    },
    {
      "cell_type": "code",
      "metadata": {
        "id": "43QG_31aGHPN"
      },
      "source": [
        "from googleapiclient.discovery import build\n",
        "gcs_service = build('storage', 'v1')\n",
        "from apiclient.http import MediaIoBaseDownload\n",
        "from googleapiclient.http import MediaFileUpload"
      ],
      "execution_count": 2,
      "outputs": []
    },
    {
      "cell_type": "markdown",
      "metadata": {
        "id": "IZtmBCrnADy3"
      },
      "source": [
        "3. Import Packages"
      ]
    },
    {
      "cell_type": "code",
      "metadata": {
        "id": "6hKq-n7G62-2"
      },
      "source": [
        "import requests\n",
        "import json\n",
        "import spotipy\n",
        "from spotipy.oauth2 import SpotifyClientCredentials"
      ],
      "execution_count": 9,
      "outputs": []
    },
    {
      "cell_type": "markdown",
      "source": [
        "3. Setup Spotify API"
      ],
      "metadata": {
        "id": "U1pl7sJgc5q2"
      }
    },
    {
      "cell_type": "code",
      "source": [
        "auth_manager = SpotifyClientCredentials()\n",
        "sp = spotipy.Spotify(auth_manager=auth_manager)"
      ],
      "metadata": {
        "id": "wa6FaY6_dCx4"
      },
      "execution_count": 12,
      "outputs": []
    },
    {
      "cell_type": "markdown",
      "metadata": {
        "id": "V5_jvhfhtFCj"
      },
      "source": [
        "4. Do Stuff"
      ]
    },
    {
      "cell_type": "code",
      "metadata": {
        "colab": {
          "base_uri": "https://localhost:8080/"
        },
        "id": "IdYlwwxED3Uy",
        "outputId": "4b119b50-210b-4bca-8c9f-177ff5e72026"
      },
      "source": [
        "genres = [\"alternative\",\"indie\",\"alt-rock\",\"punk\",\"grunge\",\"punk-rock\",\"indie-pop\",\"emo\",\"goth\",\\\n",
        "    \"hardcore\",\"death-metal\",\"grindcore\",\"black-metal\",\"heavy-metal\",\"metalcore\",\"metal\",\"metal-misc\",\\\n",
        "    \"dance\",\"electronic\",\"electro\",\"edm\",\"garage\",\"house\",\"chicago-house\",\"breakbeat\",\"dubstep\",\"techno\",\"j-dance\",\"deep-house\",\\\n",
        "    \"ambient\",\"chill\",\"sleep\",\"new-age\",\"study\",\"piano\",\\\n",
        "    \"rock\",\"rock-n-roll\",\"rockabilly\",\"j-rock\",\"hard-rock\",\"psych-rock\",\"power-pop\",\"guitar\",\"drum-and-bass\",\\\n",
        "    \"country\",\"bluegrass\",\"acoustic\",\"folk\",\"honky-tonk\",\\\n",
        "    \"pop\",\"k-pop\",\"j-pop\",\"cantopop\",\"party\",\"pop-film\",\"r-n-b\",\"club\",\"hip-hop\",\\\n",
        "    \"jazz\",\"soul\",\"funk\",\"blues\",\"afrobeat\",\\\n",
        "    \"latin\",\"latino\",\"reggaeton\",\"samba\",\"salsa\",\"bossanova\",\\\n",
        "    \"classical\",\"opera\",\\\n",
        "    \"show-tunes\",\"disney\"]\n",
        "\n",
        "!mkdir /track-files\n",
        "for genre in genres:\n",
        "    with open('/track-files/'+genre+'.json', 'wb') as f:\n",
        "        request = gcs_service.objects().get_media(bucket='track-lists-full',object=genre+'.json')\n",
        "        media = MediaIoBaseDownload(f, request)\n",
        "        done = False\n",
        "        while not done:\n",
        "            _, done = media.next_chunk()\n",
        "\n",
        "    with open('/track-files/'+genre+'.json', \"r\") as tracklist:\n",
        "        tracklist = json.load(tracklist)\n",
        "        num_songs = len(tracklist.keys())\n",
        "    print(\"Genre: \"+genre+\", # Tracks: \"+str(num_songs))\n",
        "\n"
      ],
      "execution_count": 23,
      "outputs": [
        {
          "output_type": "stream",
          "name": "stdout",
          "text": [
            "mkdir: cannot create directory ‘/track-files’: File exists\n",
            "Genre: alternative, # Tracks: 500\n",
            "Genre: indie, # Tracks: 500\n",
            "Genre: alt-rock, # Tracks: 497\n",
            "Genre: punk, # Tracks: 500\n",
            "Genre: grunge, # Tracks: 500\n",
            "Genre: punk-rock, # Tracks: 500\n",
            "Genre: indie-pop, # Tracks: 100\n",
            "Genre: emo, # Tracks: 500\n",
            "Genre: goth, # Tracks: 500\n",
            "Genre: hardcore, # Tracks: 500\n",
            "Genre: death-metal, # Tracks: 500\n",
            "Genre: grindcore, # Tracks: 500\n",
            "Genre: black-metal, # Tracks: 500\n",
            "Genre: heavy-metal, # Tracks: 500\n",
            "Genre: metalcore, # Tracks: 500\n",
            "Genre: metal, # Tracks: 100\n",
            "Genre: metal-misc, # Tracks: 100\n",
            "Genre: dance, # Tracks: 494\n",
            "Genre: electronic, # Tracks: 500\n",
            "Genre: electro, # Tracks: 500\n",
            "Genre: edm, # Tracks: 105\n",
            "Genre: garage, # Tracks: 500\n",
            "Genre: house, # Tracks: 500\n",
            "Genre: chicago-house, # Tracks: 500\n",
            "Genre: breakbeat, # Tracks: 500\n",
            "Genre: dubstep, # Tracks: 500\n",
            "Genre: techno, # Tracks: 500\n",
            "Genre: j-dance, # Tracks: 369\n",
            "Genre: deep-house, # Tracks: 500\n",
            "Genre: ambient, # Tracks: 500\n",
            "Genre: chill, # Tracks: 500\n",
            "Genre: sleep, # Tracks: 500\n",
            "Genre: new-age, # Tracks: 500\n",
            "Genre: study, # Tracks: 500\n",
            "Genre: piano, # Tracks: 500\n",
            "Genre: rock, # Tracks: 500\n",
            "Genre: rock-n-roll, # Tracks: 500\n",
            "Genre: rockabilly, # Tracks: 500\n",
            "Genre: j-rock, # Tracks: 500\n",
            "Genre: hard-rock, # Tracks: 100\n",
            "Genre: psych-rock, # Tracks: 500\n",
            "Genre: power-pop, # Tracks: 331\n",
            "Genre: guitar, # Tracks: 500\n",
            "Genre: drum-and-bass, # Tracks: 500\n",
            "Genre: country, # Tracks: 500\n",
            "Genre: bluegrass, # Tracks: 500\n",
            "Genre: acoustic, # Tracks: 500\n",
            "Genre: folk, # Tracks: 500\n",
            "Genre: honky-tonk, # Tracks: 500\n",
            "Genre: pop, # Tracks: 500\n",
            "Genre: k-pop, # Tracks: 500\n",
            "Genre: j-pop, # Tracks: 500\n",
            "Genre: cantopop, # Tracks: 257\n",
            "Genre: party, # Tracks: 500\n",
            "Genre: pop-film, # Tracks: 96\n",
            "Genre: r-n-b, # Tracks: 500\n",
            "Genre: club, # Tracks: 100\n",
            "Genre: hip-hop, # Tracks: 967\n",
            "Genre: jazz, # Tracks: 500\n",
            "Genre: soul, # Tracks: 500\n",
            "Genre: funk, # Tracks: 80\n",
            "Genre: blues, # Tracks: 500\n",
            "Genre: afrobeat, # Tracks: 500\n",
            "Genre: latin, # Tracks: 500\n",
            "Genre: latino, # Tracks: 100\n",
            "Genre: reggaeton, # Tracks: 500\n",
            "Genre: samba, # Tracks: 252\n",
            "Genre: salsa, # Tracks: 500\n",
            "Genre: bossanova, # Tracks: 254\n",
            "Genre: classical, # Tracks: 500\n",
            "Genre: opera, # Tracks: 500\n",
            "Genre: show-tunes, # Tracks: 500\n",
            "Genre: disney, # Tracks: 500\n"
          ]
        }
      ]
    },
    {
      "cell_type": "code",
      "metadata": {
        "colab": {
          "base_uri": "https://localhost:8080/"
        },
        "id": "n5OlMKtaI3gP",
        "outputId": "0c9b157c-d28a-49f4-a23c-91b53e56e132"
      },
      "source": [
        "!ls /track-files"
      ],
      "execution_count": 24,
      "outputs": [
        {
          "output_type": "stream",
          "name": "stdout",
          "text": [
            "acoustic.json\t    disney.json\t\thouse.json\t power-pop.json\n",
            "afrobeat.json\t    drum-and-bass.json\tindie.json\t psych-rock.json\n",
            "alternative.json    dubstep.json\tindie-pop.json\t punk.json\n",
            "alt-rock.json\t    edm.json\t\tjazz.json\t punk-rock.json\n",
            "ambient.json\t    electro.json\tj-dance.json\t reggaeton.json\n",
            "black-metal.json    electronic.json\tj-pop.json\t r-n-b.json\n",
            "bluegrass.json\t    emo.json\t\tj-rock.json\t rockabilly.json\n",
            "blues.json\t    folk.json\t\tk-pop.json\t rock.json\n",
            "bossanova.json\t    funk.json\t\tlatin.json\t rock-n-roll.json\n",
            "breakbeat.json\t    garage.json\t\tlatino.json\t salsa.json\n",
            "cantopop.json\t    goth.json\t\tmetalcore.json\t samba.json\n",
            "chicago-house.json  grindcore.json\tmetal.json\t show-tunes.json\n",
            "chill.json\t    grunge.json\t\tmetal-misc.json  sleep.json\n",
            "classical.json\t    guitar.json\t\tnew-age.json\t soul.json\n",
            "club.json\t    hardcore.json\topera.json\t study.json\n",
            "country.json\t    hard-rock.json\tparty.json\t techno.json\n",
            "dance.json\t    heavy-metal.json\tpiano.json\n",
            "death-metal.json    hip-hop.json\tpop-film.json\n",
            "deep-house.json     honky-tonk.json\tpop.json\n"
          ]
        }
      ]
    },
    {
      "cell_type": "code",
      "metadata": {
        "id": "MKts41-ELofG"
      },
      "source": [
        "!mkdir /audio-features"
      ],
      "execution_count": 15,
      "outputs": []
    },
    {
      "cell_type": "code",
      "metadata": {
        "colab": {
          "base_uri": "https://localhost:8080/"
        },
        "id": "e77bXBp4Pr4b",
        "outputId": "6646bd2a-160f-4e77-fa53-290efb818202"
      },
      "source": [
        "for genre in genres:\n",
        "    !mkdir /audio-features/$genre"
      ],
      "execution_count": 25,
      "outputs": [
        {
          "output_type": "stream",
          "name": "stdout",
          "text": [
            "mkdir: cannot create directory ‘/audio-features/alternative’: File exists\n",
            "mkdir: cannot create directory ‘/audio-features/indie’: File exists\n",
            "mkdir: cannot create directory ‘/audio-features/alt-rock’: File exists\n",
            "mkdir: cannot create directory ‘/audio-features/punk’: File exists\n",
            "mkdir: cannot create directory ‘/audio-features/grunge’: File exists\n",
            "mkdir: cannot create directory ‘/audio-features/punk-rock’: File exists\n",
            "mkdir: cannot create directory ‘/audio-features/indie-pop’: File exists\n",
            "mkdir: cannot create directory ‘/audio-features/emo’: File exists\n",
            "mkdir: cannot create directory ‘/audio-features/goth’: File exists\n",
            "mkdir: cannot create directory ‘/audio-features/hardcore’: File exists\n",
            "mkdir: cannot create directory ‘/audio-features/death-metal’: File exists\n",
            "mkdir: cannot create directory ‘/audio-features/grindcore’: File exists\n",
            "mkdir: cannot create directory ‘/audio-features/black-metal’: File exists\n",
            "mkdir: cannot create directory ‘/audio-features/heavy-metal’: File exists\n",
            "mkdir: cannot create directory ‘/audio-features/metalcore’: File exists\n",
            "mkdir: cannot create directory ‘/audio-features/metal’: File exists\n",
            "mkdir: cannot create directory ‘/audio-features/metal-misc’: File exists\n",
            "mkdir: cannot create directory ‘/audio-features/dance’: File exists\n",
            "mkdir: cannot create directory ‘/audio-features/electronic’: File exists\n",
            "mkdir: cannot create directory ‘/audio-features/electro’: File exists\n",
            "mkdir: cannot create directory ‘/audio-features/edm’: File exists\n",
            "mkdir: cannot create directory ‘/audio-features/garage’: File exists\n",
            "mkdir: cannot create directory ‘/audio-features/house’: File exists\n",
            "mkdir: cannot create directory ‘/audio-features/chicago-house’: File exists\n",
            "mkdir: cannot create directory ‘/audio-features/breakbeat’: File exists\n",
            "mkdir: cannot create directory ‘/audio-features/dubstep’: File exists\n",
            "mkdir: cannot create directory ‘/audio-features/techno’: File exists\n",
            "mkdir: cannot create directory ‘/audio-features/j-dance’: File exists\n",
            "mkdir: cannot create directory ‘/audio-features/deep-house’: File exists\n",
            "mkdir: cannot create directory ‘/audio-features/ambient’: File exists\n",
            "mkdir: cannot create directory ‘/audio-features/chill’: File exists\n",
            "mkdir: cannot create directory ‘/audio-features/sleep’: File exists\n",
            "mkdir: cannot create directory ‘/audio-features/new-age’: File exists\n",
            "mkdir: cannot create directory ‘/audio-features/study’: File exists\n",
            "mkdir: cannot create directory ‘/audio-features/piano’: File exists\n",
            "mkdir: cannot create directory ‘/audio-features/rock’: File exists\n",
            "mkdir: cannot create directory ‘/audio-features/rock-n-roll’: File exists\n",
            "mkdir: cannot create directory ‘/audio-features/rockabilly’: File exists\n",
            "mkdir: cannot create directory ‘/audio-features/j-rock’: File exists\n",
            "mkdir: cannot create directory ‘/audio-features/hard-rock’: File exists\n",
            "mkdir: cannot create directory ‘/audio-features/psych-rock’: File exists\n",
            "mkdir: cannot create directory ‘/audio-features/power-pop’: File exists\n",
            "mkdir: cannot create directory ‘/audio-features/guitar’: File exists\n",
            "mkdir: cannot create directory ‘/audio-features/drum-and-bass’: File exists\n",
            "mkdir: cannot create directory ‘/audio-features/country’: File exists\n",
            "mkdir: cannot create directory ‘/audio-features/bluegrass’: File exists\n",
            "mkdir: cannot create directory ‘/audio-features/acoustic’: File exists\n",
            "mkdir: cannot create directory ‘/audio-features/folk’: File exists\n",
            "mkdir: cannot create directory ‘/audio-features/honky-tonk’: File exists\n",
            "mkdir: cannot create directory ‘/audio-features/pop’: File exists\n",
            "mkdir: cannot create directory ‘/audio-features/k-pop’: File exists\n",
            "mkdir: cannot create directory ‘/audio-features/j-pop’: File exists\n",
            "mkdir: cannot create directory ‘/audio-features/cantopop’: File exists\n",
            "mkdir: cannot create directory ‘/audio-features/party’: File exists\n",
            "mkdir: cannot create directory ‘/audio-features/pop-film’: File exists\n",
            "mkdir: cannot create directory ‘/audio-features/r-n-b’: File exists\n",
            "mkdir: cannot create directory ‘/audio-features/club’: File exists\n",
            "mkdir: cannot create directory ‘/audio-features/jazz’: File exists\n",
            "mkdir: cannot create directory ‘/audio-features/soul’: File exists\n",
            "mkdir: cannot create directory ‘/audio-features/funk’: File exists\n",
            "mkdir: cannot create directory ‘/audio-features/blues’: File exists\n",
            "mkdir: cannot create directory ‘/audio-features/afrobeat’: File exists\n",
            "mkdir: cannot create directory ‘/audio-features/latin’: File exists\n",
            "mkdir: cannot create directory ‘/audio-features/latino’: File exists\n",
            "mkdir: cannot create directory ‘/audio-features/reggaeton’: File exists\n",
            "mkdir: cannot create directory ‘/audio-features/samba’: File exists\n",
            "mkdir: cannot create directory ‘/audio-features/salsa’: File exists\n",
            "mkdir: cannot create directory ‘/audio-features/bossanova’: File exists\n",
            "mkdir: cannot create directory ‘/audio-features/classical’: File exists\n",
            "mkdir: cannot create directory ‘/audio-features/opera’: File exists\n",
            "mkdir: cannot create directory ‘/audio-features/show-tunes’: File exists\n",
            "mkdir: cannot create directory ‘/audio-features/disney’: File exists\n"
          ]
        }
      ]
    },
    {
      "cell_type": "code",
      "source": [
        "#Map subgenres to their supergenre parent node\n",
        "supergenre = {\n",
        "    'alternative':'alternative',\n",
        "    'indie':'alternative',\n",
        "    'alt-rock':'alternative',\n",
        "    'punk':'alternative',\n",
        "    'grunge':'alternative',\n",
        "    'punk-rock':'alternative',\n",
        "    'indie-pop':'alternative',\n",
        "    'emo':'alternative',\n",
        "    'goth':'alternative',\n",
        "    'hardcore':'hardcore',\n",
        "    'death-metal':'hardcore',\n",
        "    'grindcore':'hardcore',\n",
        "    'black-metal':'hardcore',\n",
        "    'heavy-metal':'hardcore',\n",
        "    'metalcore':'hardcore',\n",
        "    'metal':'hardcore',\n",
        "    'metal-misc':'hardcore',\n",
        "    'dance':'dance',\n",
        "    'electronic':'dance',\n",
        "    'electro':'dance',\n",
        "    'edm':'dance',\n",
        "    'garage':'dance',\n",
        "    'house':'dance',\n",
        "    'chicago-house':'dance',\n",
        "    'breakbeat':'dance',\n",
        "    'dubstep':'dance',\n",
        "    'techno':'dance',\n",
        "    'j-dance':'dance',\n",
        "    'deep-house':'dance',\n",
        "    'ambient':'easy-listening',\n",
        "    'chill':'easy-listening',\n",
        "    'sleep':'easy-listening',\n",
        "    'new-age':'easy-listening',\n",
        "    'study':'easy-listening',\n",
        "    'piano':'easy-listening',\n",
        "    'rock':'rock',\n",
        "    'rock-n-roll':'rock',\n",
        "    'rockabilly':'rock',\n",
        "    'j-rock':'rock',\n",
        "    'hard-rock':'rock',\n",
        "    'psych-rock':'rock',\n",
        "    'power-pop':'rock',\n",
        "    'guitar':'rock',\n",
        "    'drum-and-bass':'rock',\n",
        "    'country':'country',\n",
        "    'bluegrass':'country',\n",
        "    'acoustic':'country',\n",
        "    'folk':'country',\n",
        "    'honky-tonk':'country',\n",
        "    'jazz':'jazz',\n",
        "    'soul':'jazz',\n",
        "    'funk':'jazz',\n",
        "    'blues':'jazz',\n",
        "    'afrobeat':'jazz',\n",
        "    'latin':'latin',\n",
        "    'latino':'latin',\n",
        "    'reggaeton':'latin',\n",
        "    'samba':'latin',\n",
        "    'salsa':'latin',\n",
        "    'bossanova':'latin',\n",
        "    'classical':'classical',\n",
        "    'opera':'classical',\n",
        "    'disney':'musical',\n",
        "    'show-tunes':'musical'\n",
        "}"
      ],
      "metadata": {
        "id": "zF0KGs5mAe6a"
      },
      "execution_count": null,
      "outputs": []
    },
    {
      "cell_type": "code",
      "source": [
        "genre = 'show-tunes'\n",
        "\n",
        "with open('/track-files/'+genre+'.json', \"r\") as tracklist:\n",
        "    tracklist = json.load(tracklist)\n",
        "    for track in tracklist:\n",
        "        track_id = tracklist[track]\n",
        "        track_data = sp.audio_features(track_id)\n",
        "        track_data = track_data[0]\n",
        "        print(track_data)\n",
        "\n",
        "        # Save audio features locally\n",
        "        with open(\"/audio-features/\"+track_id+\".json\", 'w') as f:\n",
        "            #Add some of our own labels\n",
        "            track_data['subgenre-label'] = genre \n",
        "            track_data['super-genre-label'] = supergenre[genre]\n",
        "            track_data['song-title'] = track\n",
        "\n",
        "            #Fetch some additional info for us\n",
        "            basic_info = sp.track(track_id)\n",
        "            track_data['popularity'] = basic_info['popularity']\n",
        "            track_data['explicit'] = basic_info['explicit']\n",
        "            album = basic_info['album']\n",
        "            track_data['release_date'] = album['release_date']\n",
        "            track_data['release_date_precision'] = album['release_date_precision']\n",
        "\n",
        "            #Add in some Spotify Audio Analysis Vectors\n",
        "            analysis = sp.audio_analysis(id)\n",
        "\n",
        "            num_seg = 0\n",
        "            pitches = np.zeros(12)\n",
        "            timbre = np.zeros(12)\n",
        "\n",
        "            analysis = analysis['track']\n",
        "            time_signature = analysis['time_signature']\n",
        "            key = analysis['key']\n",
        "            mode = analysis['mode']\n",
        "\n",
        "            if \"segments\" in analysis:\n",
        "                for _, j in enumerate(analysis['segments']):\n",
        "                    pitches += np.array(j['pitches'])\n",
        "                    timbre += np.array(j['timbre'])\n",
        "                    num_seg+=1\n",
        "\n",
        "            track_data['avg_pitches'] = pitches/num_seg\n",
        "            track_data['avg_timbre'] = timbre/num_seg\n",
        "\n",
        "            json.dump(track_data, f, indent=4)\n",
        "\n",
        "        # Upload audio features to GCP bucket\n",
        "        media = MediaFileUpload(\"/audio-features/\"+track_id+\".json\", \n",
        "                          mimetype='application/json',\n",
        "                          resumable=True)\n",
        "\n",
        "        request = gcs_service.objects().insert(bucket='audio-features-fullset', \n",
        "                                              name=genre+\"/\"+track_id+\".json\",\n",
        "                                              media_body=media)\n",
        "\n",
        "        response = None\n",
        "        while response is None:\n",
        "          _, response = request.next_chunk()"
      ],
      "metadata": {
        "id": "JaTPnCmM_Mfi",
        "outputId": "1327171f-2119-4d43-f6de-13f443bad16c",
        "colab": {
          "base_uri": "https://localhost:8080/",
          "height": 272
        }
      },
      "execution_count": 22,
      "outputs": [
        {
          "output_type": "stream",
          "name": "stdout",
          "text": [
            "{'danceability': 0.688, 'energy': 0.902, 'key': 0, 'loudness': -7.262, 'mode': 1, 'speechiness': 0.0512, 'acousticness': 0.213, 'instrumentalness': 0, 'liveness': 0.34, 'valence': 0.964, 'tempo': 76.169, 'type': 'audio_features', 'id': '6MhMvtU5BxMzUQRrIDtKUe', 'uri': 'spotify:track:6MhMvtU5BxMzUQRrIDtKUe', 'track_href': 'https://api.spotify.com/v1/tracks/6MhMvtU5BxMzUQRrIDtKUe', 'analysis_url': 'https://api.spotify.com/v1/audio-analysis/6MhMvtU5BxMzUQRrIDtKUe', 'duration_ms': 147040, 'time_signature': 4}\n"
          ]
        },
        {
          "output_type": "error",
          "ename": "NameError",
          "evalue": "ignored",
          "traceback": [
            "\u001b[0;31m---------------------------------------------------------------------------\u001b[0m",
            "\u001b[0;31mNameError\u001b[0m                                 Traceback (most recent call last)",
            "\u001b[0;32m<ipython-input-22-f8f521d5c652>\u001b[0m in \u001b[0;36m<module>\u001b[0;34m()\u001b[0m\n\u001b[1;32m     13\u001b[0m             \u001b[0;31m#Add some of our own labels\u001b[0m\u001b[0;34m\u001b[0m\u001b[0;34m\u001b[0m\u001b[0;34m\u001b[0m\u001b[0m\n\u001b[1;32m     14\u001b[0m             \u001b[0mtrack_data\u001b[0m\u001b[0;34m[\u001b[0m\u001b[0;34m'subgenre-label'\u001b[0m\u001b[0;34m]\u001b[0m \u001b[0;34m=\u001b[0m \u001b[0mgenre\u001b[0m\u001b[0;34m\u001b[0m\u001b[0;34m\u001b[0m\u001b[0m\n\u001b[0;32m---> 15\u001b[0;31m             \u001b[0mtrack_data\u001b[0m\u001b[0;34m[\u001b[0m\u001b[0;34m'super-genre-label'\u001b[0m\u001b[0;34m]\u001b[0m \u001b[0;34m=\u001b[0m \u001b[0msupergenre\u001b[0m\u001b[0;34m[\u001b[0m\u001b[0mgenre\u001b[0m\u001b[0;34m]\u001b[0m\u001b[0;34m\u001b[0m\u001b[0;34m\u001b[0m\u001b[0m\n\u001b[0m\u001b[1;32m     16\u001b[0m             \u001b[0mtrack_data\u001b[0m\u001b[0;34m[\u001b[0m\u001b[0;34m'song-title'\u001b[0m\u001b[0;34m]\u001b[0m \u001b[0;34m=\u001b[0m \u001b[0mtrack\u001b[0m\u001b[0;34m\u001b[0m\u001b[0;34m\u001b[0m\u001b[0m\n\u001b[1;32m     17\u001b[0m \u001b[0;34m\u001b[0m\u001b[0m\n",
            "\u001b[0;31mNameError\u001b[0m: name 'supergenre' is not defined"
          ]
        }
      ]
    },
    {
      "cell_type": "code",
      "metadata": {
        "colab": {
          "base_uri": "https://localhost:8080/",
          "height": 380
        },
        "id": "sCYkevbcPgPB",
        "outputId": "edb50211-9dc3-4e17-961d-d1356717a602"
      },
      "source": [
        "for genre in genres:\n",
        "    with open('/track-files/'+genre+'.json', \"r\") as tracklist:\n",
        "        tracklist = json.load(tracklist)\n",
        "        for track in tracklist:\n",
        "            track_id = tracklist[track]\n",
        "            track_data = sp.audio_features(track_id)\n",
        "\n",
        "            # Save audio features locally\n",
        "            with open(\"/audio-features/\"+track_id+\".json\", 'w') as f:\n",
        "                #Add some of our own labels\n",
        "                track_data['subgenre-label'] = genre \n",
        "                track_data['super-genre-label'] = supergenre[genre]\n",
        "                track_data['song-title'] = track\n",
        "\n",
        "                #Fetch some additional info for us\n",
        "                basic_info = sp.track(track_id)\n",
        "                track_data['popularity'] = basic_info['popularity']\n",
        "                track_data['explicit'] = basic_info['explicit']\n",
        "                album = basic_info['album']\n",
        "                track_data['release_date'] = album['release_date']\n",
        "                track_data['release_date_precision'] = album['release_date_precision']\n",
        "\n",
        "                #Add in some Spotify Audio Analysis Vectors\n",
        "                analysis = sp.audio_analysis(id)\n",
        "\n",
        "                num_seg = 0\n",
        "                pitches = np.zeros(12)\n",
        "                timbre = np.zeros(12)\n",
        "\n",
        "                analysis = analysis['track']\n",
        "                time_signature = analysis['time_signature']\n",
        "                key = analysis['key']\n",
        "                mode = analysis['mode']\n",
        "\n",
        "                if \"segments\" in analysis:\n",
        "                    for _, j in enumerate(analysis['segments']):\n",
        "                        pitches += np.array(j['pitches'])\n",
        "                        timbre += np.array(j['timbre'])\n",
        "                        num_seg+=1\n",
        "\n",
        "                track_data['avg_pitches'] = pitches/num_seg\n",
        "                track_data['avg_timbre'] = timbre/num_seg\n",
        "\n",
        "                json.dump(track_data, f, indent=4)\n",
        "\n",
        "            # Upload audio features to GCP bucket\n",
        "            media = MediaFileUpload(\"/audio-features/\"+track_id+\".json\", \n",
        "                              mimetype='application/json',\n",
        "                              resumable=True)\n",
        "\n",
        "            request = gcs_service.objects().insert(bucket='audio-features-fullset', \n",
        "                                                  name=genre+\"/\"+track_id+\".json\",\n",
        "                                                  media_body=media)\n",
        "\n",
        "            response = None\n",
        "            while response is None:\n",
        "              _, response = request.next_chunk()\n",
        "\n",
        "      \n",
        "\n"
      ],
      "execution_count": null,
      "outputs": [
        {
          "output_type": "error",
          "ename": "KeyboardInterrupt",
          "evalue": "ignored",
          "traceback": [
            "\u001b[0;31m---------------------------------------------------------------------------\u001b[0m",
            "\u001b[0;31mKeyboardInterrupt\u001b[0m                         Traceback (most recent call last)",
            "\u001b[0;32m<ipython-input-48-b57ca697a76e>\u001b[0m in \u001b[0;36m<module>\u001b[0;34m()\u001b[0m\n\u001b[1;32m     30\u001b[0m             \u001b[0mresponse\u001b[0m \u001b[0;34m=\u001b[0m \u001b[0;32mNone\u001b[0m\u001b[0;34m\u001b[0m\u001b[0;34m\u001b[0m\u001b[0m\n\u001b[1;32m     31\u001b[0m             \u001b[0;32mwhile\u001b[0m \u001b[0mresponse\u001b[0m \u001b[0;32mis\u001b[0m \u001b[0;32mNone\u001b[0m\u001b[0;34m:\u001b[0m\u001b[0;34m\u001b[0m\u001b[0;34m\u001b[0m\u001b[0m\n\u001b[0;32m---> 32\u001b[0;31m               \u001b[0m_\u001b[0m\u001b[0;34m,\u001b[0m \u001b[0mresponse\u001b[0m \u001b[0;34m=\u001b[0m \u001b[0mrequest\u001b[0m\u001b[0;34m.\u001b[0m\u001b[0mnext_chunk\u001b[0m\u001b[0;34m(\u001b[0m\u001b[0;34m)\u001b[0m\u001b[0;34m\u001b[0m\u001b[0;34m\u001b[0m\u001b[0m\n\u001b[0m\u001b[1;32m     33\u001b[0m \u001b[0;34m\u001b[0m\u001b[0m\n\u001b[1;32m     34\u001b[0m \u001b[0;34m\u001b[0m\u001b[0m\n",
            "\u001b[0;32m/usr/local/lib/python3.7/dist-packages/googleapiclient/_helpers.py\u001b[0m in \u001b[0;36mpositional_wrapper\u001b[0;34m(*args, **kwargs)\u001b[0m\n\u001b[1;32m    132\u001b[0m                 \u001b[0;32melif\u001b[0m \u001b[0mpositional_parameters_enforcement\u001b[0m \u001b[0;34m==\u001b[0m \u001b[0mPOSITIONAL_WARNING\u001b[0m\u001b[0;34m:\u001b[0m\u001b[0;34m\u001b[0m\u001b[0;34m\u001b[0m\u001b[0m\n\u001b[1;32m    133\u001b[0m                     \u001b[0mlogger\u001b[0m\u001b[0;34m.\u001b[0m\u001b[0mwarning\u001b[0m\u001b[0;34m(\u001b[0m\u001b[0mmessage\u001b[0m\u001b[0;34m)\u001b[0m\u001b[0;34m\u001b[0m\u001b[0;34m\u001b[0m\u001b[0m\n\u001b[0;32m--> 134\u001b[0;31m             \u001b[0;32mreturn\u001b[0m \u001b[0mwrapped\u001b[0m\u001b[0;34m(\u001b[0m\u001b[0;34m*\u001b[0m\u001b[0margs\u001b[0m\u001b[0;34m,\u001b[0m \u001b[0;34m**\u001b[0m\u001b[0mkwargs\u001b[0m\u001b[0;34m)\u001b[0m\u001b[0;34m\u001b[0m\u001b[0;34m\u001b[0m\u001b[0m\n\u001b[0m\u001b[1;32m    135\u001b[0m \u001b[0;34m\u001b[0m\u001b[0m\n\u001b[1;32m    136\u001b[0m         \u001b[0;32mreturn\u001b[0m \u001b[0mpositional_wrapper\u001b[0m\u001b[0;34m\u001b[0m\u001b[0;34m\u001b[0m\u001b[0m\n",
            "\u001b[0;32m/usr/local/lib/python3.7/dist-packages/googleapiclient/http.py\u001b[0m in \u001b[0;36mnext_chunk\u001b[0;34m(self, http, num_retries)\u001b[0m\n\u001b[1;32m   1056\u001b[0m             \u001b[0;32mtry\u001b[0m\u001b[0;34m:\u001b[0m\u001b[0;34m\u001b[0m\u001b[0;34m\u001b[0m\u001b[0m\n\u001b[1;32m   1057\u001b[0m                 resp, content = http.request(\n\u001b[0;32m-> 1058\u001b[0;31m                     \u001b[0mself\u001b[0m\u001b[0;34m.\u001b[0m\u001b[0mresumable_uri\u001b[0m\u001b[0;34m,\u001b[0m \u001b[0mmethod\u001b[0m\u001b[0;34m=\u001b[0m\u001b[0;34m\"PUT\"\u001b[0m\u001b[0;34m,\u001b[0m \u001b[0mbody\u001b[0m\u001b[0;34m=\u001b[0m\u001b[0mdata\u001b[0m\u001b[0;34m,\u001b[0m \u001b[0mheaders\u001b[0m\u001b[0;34m=\u001b[0m\u001b[0mheaders\u001b[0m\u001b[0;34m\u001b[0m\u001b[0;34m\u001b[0m\u001b[0m\n\u001b[0m\u001b[1;32m   1059\u001b[0m                 )\n\u001b[1;32m   1060\u001b[0m             \u001b[0;32mexcept\u001b[0m\u001b[0;34m:\u001b[0m\u001b[0;34m\u001b[0m\u001b[0;34m\u001b[0m\u001b[0m\n",
            "\u001b[0;32m/usr/local/lib/python3.7/dist-packages/google_auth_httplib2.py\u001b[0m in \u001b[0;36mrequest\u001b[0;34m(self, uri, method, body, headers, **kwargs)\u001b[0m\n\u001b[1;32m    199\u001b[0m         \u001b[0;31m# Make the request.\u001b[0m\u001b[0;34m\u001b[0m\u001b[0;34m\u001b[0m\u001b[0;34m\u001b[0m\u001b[0m\n\u001b[1;32m    200\u001b[0m         response, content = self.http.request(\n\u001b[0;32m--> 201\u001b[0;31m             uri, method, body=body, headers=request_headers, **kwargs)\n\u001b[0m\u001b[1;32m    202\u001b[0m \u001b[0;34m\u001b[0m\u001b[0m\n\u001b[1;32m    203\u001b[0m         \u001b[0;31m# If the response indicated that the credentials needed to be\u001b[0m\u001b[0;34m\u001b[0m\u001b[0;34m\u001b[0m\u001b[0;34m\u001b[0m\u001b[0m\n",
            "\u001b[0;32m/usr/local/lib/python3.7/dist-packages/httplib2/__init__.py\u001b[0m in \u001b[0;36mrequest\u001b[0;34m(self, uri, method, body, headers, redirections, connection_type)\u001b[0m\n\u001b[1;32m   1989\u001b[0m                         \u001b[0mheaders\u001b[0m\u001b[0;34m,\u001b[0m\u001b[0;34m\u001b[0m\u001b[0;34m\u001b[0m\u001b[0m\n\u001b[1;32m   1990\u001b[0m                         \u001b[0mredirections\u001b[0m\u001b[0;34m,\u001b[0m\u001b[0;34m\u001b[0m\u001b[0;34m\u001b[0m\u001b[0m\n\u001b[0;32m-> 1991\u001b[0;31m                         \u001b[0mcachekey\u001b[0m\u001b[0;34m,\u001b[0m\u001b[0;34m\u001b[0m\u001b[0;34m\u001b[0m\u001b[0m\n\u001b[0m\u001b[1;32m   1992\u001b[0m                     )\n\u001b[1;32m   1993\u001b[0m         \u001b[0;32mexcept\u001b[0m \u001b[0mException\u001b[0m \u001b[0;32mas\u001b[0m \u001b[0me\u001b[0m\u001b[0;34m:\u001b[0m\u001b[0;34m\u001b[0m\u001b[0;34m\u001b[0m\u001b[0m\n",
            "\u001b[0;32m/usr/local/lib/python3.7/dist-packages/httplib2/__init__.py\u001b[0m in \u001b[0;36m_request\u001b[0;34m(self, conn, host, absolute_uri, request_uri, method, body, headers, redirections, cachekey)\u001b[0m\n\u001b[1;32m   1649\u001b[0m \u001b[0;34m\u001b[0m\u001b[0m\n\u001b[1;32m   1650\u001b[0m         (response, content) = self._conn_request(\n\u001b[0;32m-> 1651\u001b[0;31m             \u001b[0mconn\u001b[0m\u001b[0;34m,\u001b[0m \u001b[0mrequest_uri\u001b[0m\u001b[0;34m,\u001b[0m \u001b[0mmethod\u001b[0m\u001b[0;34m,\u001b[0m \u001b[0mbody\u001b[0m\u001b[0;34m,\u001b[0m \u001b[0mheaders\u001b[0m\u001b[0;34m\u001b[0m\u001b[0;34m\u001b[0m\u001b[0m\n\u001b[0m\u001b[1;32m   1652\u001b[0m         )\n\u001b[1;32m   1653\u001b[0m \u001b[0;34m\u001b[0m\u001b[0m\n",
            "\u001b[0;32m/usr/local/lib/python3.7/dist-packages/httplib2/__init__.py\u001b[0m in \u001b[0;36m_conn_request\u001b[0;34m(self, conn, request_uri, method, body, headers)\u001b[0m\n\u001b[1;32m   1587\u001b[0m                 \u001b[0;32mpass\u001b[0m\u001b[0;34m\u001b[0m\u001b[0;34m\u001b[0m\u001b[0m\n\u001b[1;32m   1588\u001b[0m             \u001b[0;32mtry\u001b[0m\u001b[0;34m:\u001b[0m\u001b[0;34m\u001b[0m\u001b[0;34m\u001b[0m\u001b[0m\n\u001b[0;32m-> 1589\u001b[0;31m                 \u001b[0mresponse\u001b[0m \u001b[0;34m=\u001b[0m \u001b[0mconn\u001b[0m\u001b[0;34m.\u001b[0m\u001b[0mgetresponse\u001b[0m\u001b[0;34m(\u001b[0m\u001b[0;34m)\u001b[0m\u001b[0;34m\u001b[0m\u001b[0;34m\u001b[0m\u001b[0m\n\u001b[0m\u001b[1;32m   1590\u001b[0m             \u001b[0;32mexcept\u001b[0m \u001b[0;34m(\u001b[0m\u001b[0mhttp\u001b[0m\u001b[0;34m.\u001b[0m\u001b[0mclient\u001b[0m\u001b[0;34m.\u001b[0m\u001b[0mBadStatusLine\u001b[0m\u001b[0;34m,\u001b[0m \u001b[0mhttp\u001b[0m\u001b[0;34m.\u001b[0m\u001b[0mclient\u001b[0m\u001b[0;34m.\u001b[0m\u001b[0mResponseNotReady\u001b[0m\u001b[0;34m)\u001b[0m\u001b[0;34m:\u001b[0m\u001b[0;34m\u001b[0m\u001b[0;34m\u001b[0m\u001b[0m\n\u001b[1;32m   1591\u001b[0m                 \u001b[0;31m# If we get a BadStatusLine on the first try then that means\u001b[0m\u001b[0;34m\u001b[0m\u001b[0;34m\u001b[0m\u001b[0;34m\u001b[0m\u001b[0m\n",
            "\u001b[0;32m/usr/lib/python3.7/http/client.py\u001b[0m in \u001b[0;36mgetresponse\u001b[0;34m(self)\u001b[0m\n\u001b[1;32m   1371\u001b[0m         \u001b[0;32mtry\u001b[0m\u001b[0;34m:\u001b[0m\u001b[0;34m\u001b[0m\u001b[0;34m\u001b[0m\u001b[0m\n\u001b[1;32m   1372\u001b[0m             \u001b[0;32mtry\u001b[0m\u001b[0;34m:\u001b[0m\u001b[0;34m\u001b[0m\u001b[0;34m\u001b[0m\u001b[0m\n\u001b[0;32m-> 1373\u001b[0;31m                 \u001b[0mresponse\u001b[0m\u001b[0;34m.\u001b[0m\u001b[0mbegin\u001b[0m\u001b[0;34m(\u001b[0m\u001b[0;34m)\u001b[0m\u001b[0;34m\u001b[0m\u001b[0;34m\u001b[0m\u001b[0m\n\u001b[0m\u001b[1;32m   1374\u001b[0m             \u001b[0;32mexcept\u001b[0m \u001b[0mConnectionError\u001b[0m\u001b[0;34m:\u001b[0m\u001b[0;34m\u001b[0m\u001b[0;34m\u001b[0m\u001b[0m\n\u001b[1;32m   1375\u001b[0m                 \u001b[0mself\u001b[0m\u001b[0;34m.\u001b[0m\u001b[0mclose\u001b[0m\u001b[0;34m(\u001b[0m\u001b[0;34m)\u001b[0m\u001b[0;34m\u001b[0m\u001b[0;34m\u001b[0m\u001b[0m\n",
            "\u001b[0;32m/usr/lib/python3.7/http/client.py\u001b[0m in \u001b[0;36mbegin\u001b[0;34m(self)\u001b[0m\n\u001b[1;32m    317\u001b[0m         \u001b[0;31m# read until we get a non-100 response\u001b[0m\u001b[0;34m\u001b[0m\u001b[0;34m\u001b[0m\u001b[0;34m\u001b[0m\u001b[0m\n\u001b[1;32m    318\u001b[0m         \u001b[0;32mwhile\u001b[0m \u001b[0;32mTrue\u001b[0m\u001b[0;34m:\u001b[0m\u001b[0;34m\u001b[0m\u001b[0;34m\u001b[0m\u001b[0m\n\u001b[0;32m--> 319\u001b[0;31m             \u001b[0mversion\u001b[0m\u001b[0;34m,\u001b[0m \u001b[0mstatus\u001b[0m\u001b[0;34m,\u001b[0m \u001b[0mreason\u001b[0m \u001b[0;34m=\u001b[0m \u001b[0mself\u001b[0m\u001b[0;34m.\u001b[0m\u001b[0m_read_status\u001b[0m\u001b[0;34m(\u001b[0m\u001b[0;34m)\u001b[0m\u001b[0;34m\u001b[0m\u001b[0;34m\u001b[0m\u001b[0m\n\u001b[0m\u001b[1;32m    320\u001b[0m             \u001b[0;32mif\u001b[0m \u001b[0mstatus\u001b[0m \u001b[0;34m!=\u001b[0m \u001b[0mCONTINUE\u001b[0m\u001b[0;34m:\u001b[0m\u001b[0;34m\u001b[0m\u001b[0;34m\u001b[0m\u001b[0m\n\u001b[1;32m    321\u001b[0m                 \u001b[0;32mbreak\u001b[0m\u001b[0;34m\u001b[0m\u001b[0;34m\u001b[0m\u001b[0m\n",
            "\u001b[0;32m/usr/lib/python3.7/http/client.py\u001b[0m in \u001b[0;36m_read_status\u001b[0;34m(self)\u001b[0m\n\u001b[1;32m    278\u001b[0m \u001b[0;34m\u001b[0m\u001b[0m\n\u001b[1;32m    279\u001b[0m     \u001b[0;32mdef\u001b[0m \u001b[0m_read_status\u001b[0m\u001b[0;34m(\u001b[0m\u001b[0mself\u001b[0m\u001b[0;34m)\u001b[0m\u001b[0;34m:\u001b[0m\u001b[0;34m\u001b[0m\u001b[0;34m\u001b[0m\u001b[0m\n\u001b[0;32m--> 280\u001b[0;31m         \u001b[0mline\u001b[0m \u001b[0;34m=\u001b[0m \u001b[0mstr\u001b[0m\u001b[0;34m(\u001b[0m\u001b[0mself\u001b[0m\u001b[0;34m.\u001b[0m\u001b[0mfp\u001b[0m\u001b[0;34m.\u001b[0m\u001b[0mreadline\u001b[0m\u001b[0;34m(\u001b[0m\u001b[0m_MAXLINE\u001b[0m \u001b[0;34m+\u001b[0m \u001b[0;36m1\u001b[0m\u001b[0;34m)\u001b[0m\u001b[0;34m,\u001b[0m \u001b[0;34m\"iso-8859-1\"\u001b[0m\u001b[0;34m)\u001b[0m\u001b[0;34m\u001b[0m\u001b[0;34m\u001b[0m\u001b[0m\n\u001b[0m\u001b[1;32m    281\u001b[0m         \u001b[0;32mif\u001b[0m \u001b[0mlen\u001b[0m\u001b[0;34m(\u001b[0m\u001b[0mline\u001b[0m\u001b[0;34m)\u001b[0m \u001b[0;34m>\u001b[0m \u001b[0m_MAXLINE\u001b[0m\u001b[0;34m:\u001b[0m\u001b[0;34m\u001b[0m\u001b[0;34m\u001b[0m\u001b[0m\n\u001b[1;32m    282\u001b[0m             \u001b[0;32mraise\u001b[0m \u001b[0mLineTooLong\u001b[0m\u001b[0;34m(\u001b[0m\u001b[0;34m\"status line\"\u001b[0m\u001b[0;34m)\u001b[0m\u001b[0;34m\u001b[0m\u001b[0;34m\u001b[0m\u001b[0m\n",
            "\u001b[0;32m/usr/lib/python3.7/socket.py\u001b[0m in \u001b[0;36mreadinto\u001b[0;34m(self, b)\u001b[0m\n\u001b[1;32m    587\u001b[0m         \u001b[0;32mwhile\u001b[0m \u001b[0;32mTrue\u001b[0m\u001b[0;34m:\u001b[0m\u001b[0;34m\u001b[0m\u001b[0;34m\u001b[0m\u001b[0m\n\u001b[1;32m    588\u001b[0m             \u001b[0;32mtry\u001b[0m\u001b[0;34m:\u001b[0m\u001b[0;34m\u001b[0m\u001b[0;34m\u001b[0m\u001b[0m\n\u001b[0;32m--> 589\u001b[0;31m                 \u001b[0;32mreturn\u001b[0m \u001b[0mself\u001b[0m\u001b[0;34m.\u001b[0m\u001b[0m_sock\u001b[0m\u001b[0;34m.\u001b[0m\u001b[0mrecv_into\u001b[0m\u001b[0;34m(\u001b[0m\u001b[0mb\u001b[0m\u001b[0;34m)\u001b[0m\u001b[0;34m\u001b[0m\u001b[0;34m\u001b[0m\u001b[0m\n\u001b[0m\u001b[1;32m    590\u001b[0m             \u001b[0;32mexcept\u001b[0m \u001b[0mtimeout\u001b[0m\u001b[0;34m:\u001b[0m\u001b[0;34m\u001b[0m\u001b[0;34m\u001b[0m\u001b[0m\n\u001b[1;32m    591\u001b[0m                 \u001b[0mself\u001b[0m\u001b[0;34m.\u001b[0m\u001b[0m_timeout_occurred\u001b[0m \u001b[0;34m=\u001b[0m \u001b[0;32mTrue\u001b[0m\u001b[0;34m\u001b[0m\u001b[0;34m\u001b[0m\u001b[0m\n",
            "\u001b[0;32m/usr/lib/python3.7/ssl.py\u001b[0m in \u001b[0;36mrecv_into\u001b[0;34m(self, buffer, nbytes, flags)\u001b[0m\n\u001b[1;32m   1069\u001b[0m                   \u001b[0;34m\"non-zero flags not allowed in calls to recv_into() on %s\"\u001b[0m \u001b[0;34m%\u001b[0m\u001b[0;34m\u001b[0m\u001b[0;34m\u001b[0m\u001b[0m\n\u001b[1;32m   1070\u001b[0m                   self.__class__)\n\u001b[0;32m-> 1071\u001b[0;31m             \u001b[0;32mreturn\u001b[0m \u001b[0mself\u001b[0m\u001b[0;34m.\u001b[0m\u001b[0mread\u001b[0m\u001b[0;34m(\u001b[0m\u001b[0mnbytes\u001b[0m\u001b[0;34m,\u001b[0m \u001b[0mbuffer\u001b[0m\u001b[0;34m)\u001b[0m\u001b[0;34m\u001b[0m\u001b[0;34m\u001b[0m\u001b[0m\n\u001b[0m\u001b[1;32m   1072\u001b[0m         \u001b[0;32melse\u001b[0m\u001b[0;34m:\u001b[0m\u001b[0;34m\u001b[0m\u001b[0;34m\u001b[0m\u001b[0m\n\u001b[1;32m   1073\u001b[0m             \u001b[0;32mreturn\u001b[0m \u001b[0msuper\u001b[0m\u001b[0;34m(\u001b[0m\u001b[0;34m)\u001b[0m\u001b[0;34m.\u001b[0m\u001b[0mrecv_into\u001b[0m\u001b[0;34m(\u001b[0m\u001b[0mbuffer\u001b[0m\u001b[0;34m,\u001b[0m \u001b[0mnbytes\u001b[0m\u001b[0;34m,\u001b[0m \u001b[0mflags\u001b[0m\u001b[0;34m)\u001b[0m\u001b[0;34m\u001b[0m\u001b[0;34m\u001b[0m\u001b[0m\n",
            "\u001b[0;32m/usr/lib/python3.7/ssl.py\u001b[0m in \u001b[0;36mread\u001b[0;34m(self, len, buffer)\u001b[0m\n\u001b[1;32m    927\u001b[0m         \u001b[0;32mtry\u001b[0m\u001b[0;34m:\u001b[0m\u001b[0;34m\u001b[0m\u001b[0;34m\u001b[0m\u001b[0m\n\u001b[1;32m    928\u001b[0m             \u001b[0;32mif\u001b[0m \u001b[0mbuffer\u001b[0m \u001b[0;32mis\u001b[0m \u001b[0;32mnot\u001b[0m \u001b[0;32mNone\u001b[0m\u001b[0;34m:\u001b[0m\u001b[0;34m\u001b[0m\u001b[0;34m\u001b[0m\u001b[0m\n\u001b[0;32m--> 929\u001b[0;31m                 \u001b[0;32mreturn\u001b[0m \u001b[0mself\u001b[0m\u001b[0;34m.\u001b[0m\u001b[0m_sslobj\u001b[0m\u001b[0;34m.\u001b[0m\u001b[0mread\u001b[0m\u001b[0;34m(\u001b[0m\u001b[0mlen\u001b[0m\u001b[0;34m,\u001b[0m \u001b[0mbuffer\u001b[0m\u001b[0;34m)\u001b[0m\u001b[0;34m\u001b[0m\u001b[0;34m\u001b[0m\u001b[0m\n\u001b[0m\u001b[1;32m    930\u001b[0m             \u001b[0;32melse\u001b[0m\u001b[0;34m:\u001b[0m\u001b[0;34m\u001b[0m\u001b[0;34m\u001b[0m\u001b[0m\n\u001b[1;32m    931\u001b[0m                 \u001b[0;32mreturn\u001b[0m \u001b[0mself\u001b[0m\u001b[0;34m.\u001b[0m\u001b[0m_sslobj\u001b[0m\u001b[0;34m.\u001b[0m\u001b[0mread\u001b[0m\u001b[0;34m(\u001b[0m\u001b[0mlen\u001b[0m\u001b[0;34m)\u001b[0m\u001b[0;34m\u001b[0m\u001b[0;34m\u001b[0m\u001b[0m\n",
            "\u001b[0;31mKeyboardInterrupt\u001b[0m: "
          ]
        }
      ]
    }
  ]
}