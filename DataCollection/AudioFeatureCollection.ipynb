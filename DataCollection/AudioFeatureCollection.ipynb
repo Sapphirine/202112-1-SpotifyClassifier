{
  "nbformat": 4,
  "nbformat_minor": 0,
  "metadata": {
    "colab": {
      "name": "6893_HW2PartI_LogisticRegression.ipynb",
      "provenance": [],
      "collapsed_sections": []
    },
    "kernelspec": {
      "name": "python3",
      "display_name": "Python 3"
    },
    "language_info": {
      "name": "python"
    }
  },
  "cells": [
    {
      "cell_type": "markdown",
      "metadata": {
        "id": "ulzSVEBDnJRT"
      },
      "source": [
        "Alex Thornton (apt2141)  \n",
        "Columbia University Fall 2021  \n",
        "ELEN E6893 - Big Data Analytics  \n",
        "Research Project: SpotifyClassifier"
      ]
    },
    {
      "cell_type": "markdown",
      "metadata": {
        "id": "CeM9m3Lm99QY"
      },
      "source": [
        "1. Connect to GCP"
      ]
    },
    {
      "cell_type": "code",
      "metadata": {
        "colab": {
          "base_uri": "https://localhost:8080/"
        },
        "id": "BSznwvRi91nq",
        "outputId": "adc9aa4d-41c1-4887-b1e7-faa1f6078085"
      },
      "source": [
        "from google.colab import auth\n",
        "auth.authenticate_user()\n",
        "!gcloud config set project spotifyclassifier\n",
        "!pip install spotipy"
      ],
      "execution_count": 1,
      "outputs": [
        {
          "output_type": "stream",
          "name": "stdout",
          "text": [
            "Updated property [core/project].\n",
            "Requirement already satisfied: spotipy in /usr/local/lib/python3.7/dist-packages (2.19.0)\n",
            "Requirement already satisfied: requests>=2.25.0 in /usr/local/lib/python3.7/dist-packages (from spotipy) (2.26.0)\n",
            "Requirement already satisfied: urllib3>=1.26.0 in /usr/local/lib/python3.7/dist-packages (from spotipy) (1.26.7)\n",
            "Requirement already satisfied: six>=1.15.0 in /usr/local/lib/python3.7/dist-packages (from spotipy) (1.15.0)\n",
            "Requirement already satisfied: charset-normalizer~=2.0.0 in /usr/local/lib/python3.7/dist-packages (from requests>=2.25.0->spotipy) (2.0.8)\n",
            "Requirement already satisfied: certifi>=2017.4.17 in /usr/local/lib/python3.7/dist-packages (from requests>=2.25.0->spotipy) (2021.10.8)\n",
            "Requirement already satisfied: idna<4,>=2.5 in /usr/local/lib/python3.7/dist-packages (from requests>=2.25.0->spotipy) (2.10)\n"
          ]
        }
      ]
    },
    {
      "cell_type": "code",
      "source": [
        "import os\n",
        "os.environ['SPOTIPY_CLIENT_ID'] = 'SECRET'\n",
        "os.environ['SPOTIPY_CLIENT_SECRET'] = 'SECRET'"
      ],
      "metadata": {
        "id": "BtYYWGIz97iF"
      },
      "execution_count": 2,
      "outputs": []
    },
    {
      "cell_type": "code",
      "metadata": {
        "id": "43QG_31aGHPN"
      },
      "source": [
        "from googleapiclient.discovery import build\n",
        "gcs_service = build('storage', 'v1')\n",
        "from apiclient.http import MediaIoBaseDownload\n",
        "from googleapiclient.http import MediaFileUpload"
      ],
      "execution_count": 3,
      "outputs": []
    },
    {
      "cell_type": "markdown",
      "metadata": {
        "id": "IZtmBCrnADy3"
      },
      "source": [
        "3. Import Packages"
      ]
    },
    {
      "cell_type": "code",
      "metadata": {
        "id": "6hKq-n7G62-2"
      },
      "source": [
        "import requests\n",
        "import json\n",
        "import spotipy\n",
        "import numpy as np\n",
        "from spotipy.oauth2 import SpotifyClientCredentials"
      ],
      "execution_count": 13,
      "outputs": []
    },
    {
      "cell_type": "markdown",
      "source": [
        "3. Setup Spotify API"
      ],
      "metadata": {
        "id": "U1pl7sJgc5q2"
      }
    },
    {
      "cell_type": "code",
      "source": [
        "auth_manager = SpotifyClientCredentials()\n",
        "sp = spotipy.Spotify(auth_manager=auth_manager)"
      ],
      "metadata": {
        "id": "wa6FaY6_dCx4"
      },
      "execution_count": 5,
      "outputs": []
    },
    {
      "cell_type": "markdown",
      "metadata": {
        "id": "V5_jvhfhtFCj"
      },
      "source": [
        "4. Do Stuff"
      ]
    },
    {
      "cell_type": "code",
      "metadata": {
        "colab": {
          "base_uri": "https://localhost:8080/"
        },
        "id": "IdYlwwxED3Uy",
        "outputId": "d8929d28-eade-4c0e-f4c2-c36da534bc38"
      },
      "source": [
        "genres = [\"alternative\",\"indie\",\"alt-rock\",\"punk\",\"grunge\",\"punk-rock\",\"indie-pop\",\"emo\",\"goth\",\\\n",
        "    \"hardcore\",\"death-metal\",\"grindcore\",\"black-metal\",\"heavy-metal\",\"metalcore\",\"metal\",\"metal-misc\",\\\n",
        "    \"dance\",\"electronic\",\"electro\",\"edm\",\"garage\",\"house\",\"chicago-house\",\"breakbeat\",\"dubstep\",\"techno\",\"j-dance\",\"deep-house\",\\\n",
        "    \"ambient\",\"chill\",\"sleep\",\"new-age\",\"study\",\"piano\",\\\n",
        "    \"rock\",\"rock-n-roll\",\"rockabilly\",\"j-rock\",\"hard-rock\",\"psych-rock\",\"power-pop\",\"guitar\",\"drum-and-bass\",\\\n",
        "    \"country\",\"bluegrass\",\"acoustic\",\"folk\",\"honky-tonk\",\\\n",
        "    \"pop\",\"k-pop\",\"j-pop\",\"cantopop\",\"party\",\"pop-film\",\"r-n-b\",\"club\",\"hip-hop\",\\\n",
        "    \"jazz\",\"soul\",\"funk\",\"blues\",\"afrobeat\",\\\n",
        "    \"latin\",\"latino\",\"reggaeton\",\"samba\",\"salsa\",\"bossanova\",\\\n",
        "    \"classical\",\"opera\",\\\n",
        "    \"show-tunes\",\"disney\"]\n",
        "\n",
        "!mkdir /track-files\n",
        "for genre in genres:\n",
        "    with open('/track-files/'+genre+'.json', 'wb') as f:\n",
        "        request = gcs_service.objects().get_media(bucket='track-lists-full',object=genre+'.json')\n",
        "        media = MediaIoBaseDownload(f, request)\n",
        "        done = False\n",
        "        while not done:\n",
        "            _, done = media.next_chunk()\n",
        "\n",
        "    with open('/track-files/'+genre+'.json', \"r\") as tracklist:\n",
        "        tracklist = json.load(tracklist)\n",
        "        num_songs = len(tracklist.keys())\n",
        "    print(\"Genre: \"+genre+\", # Tracks: \"+str(num_songs))\n",
        "\n"
      ],
      "execution_count": 6,
      "outputs": [
        {
          "output_type": "stream",
          "name": "stdout",
          "text": [
            "Genre: alternative, # Tracks: 500\n",
            "Genre: indie, # Tracks: 500\n",
            "Genre: alt-rock, # Tracks: 497\n",
            "Genre: punk, # Tracks: 500\n",
            "Genre: grunge, # Tracks: 500\n",
            "Genre: punk-rock, # Tracks: 500\n",
            "Genre: indie-pop, # Tracks: 100\n",
            "Genre: emo, # Tracks: 500\n",
            "Genre: goth, # Tracks: 500\n",
            "Genre: hardcore, # Tracks: 500\n",
            "Genre: death-metal, # Tracks: 500\n",
            "Genre: grindcore, # Tracks: 500\n",
            "Genre: black-metal, # Tracks: 500\n",
            "Genre: heavy-metal, # Tracks: 500\n",
            "Genre: metalcore, # Tracks: 500\n",
            "Genre: metal, # Tracks: 100\n",
            "Genre: metal-misc, # Tracks: 100\n",
            "Genre: dance, # Tracks: 494\n",
            "Genre: electronic, # Tracks: 500\n",
            "Genre: electro, # Tracks: 500\n",
            "Genre: edm, # Tracks: 105\n",
            "Genre: garage, # Tracks: 500\n",
            "Genre: house, # Tracks: 500\n",
            "Genre: chicago-house, # Tracks: 500\n",
            "Genre: breakbeat, # Tracks: 500\n",
            "Genre: dubstep, # Tracks: 500\n",
            "Genre: techno, # Tracks: 500\n",
            "Genre: j-dance, # Tracks: 369\n",
            "Genre: deep-house, # Tracks: 500\n",
            "Genre: ambient, # Tracks: 500\n",
            "Genre: chill, # Tracks: 500\n",
            "Genre: sleep, # Tracks: 500\n",
            "Genre: new-age, # Tracks: 500\n",
            "Genre: study, # Tracks: 500\n",
            "Genre: piano, # Tracks: 500\n",
            "Genre: rock, # Tracks: 500\n",
            "Genre: rock-n-roll, # Tracks: 500\n",
            "Genre: rockabilly, # Tracks: 500\n",
            "Genre: j-rock, # Tracks: 500\n",
            "Genre: hard-rock, # Tracks: 100\n",
            "Genre: psych-rock, # Tracks: 500\n",
            "Genre: power-pop, # Tracks: 331\n",
            "Genre: guitar, # Tracks: 500\n",
            "Genre: drum-and-bass, # Tracks: 500\n",
            "Genre: country, # Tracks: 500\n",
            "Genre: bluegrass, # Tracks: 500\n",
            "Genre: acoustic, # Tracks: 500\n",
            "Genre: folk, # Tracks: 500\n",
            "Genre: honky-tonk, # Tracks: 500\n",
            "Genre: pop, # Tracks: 500\n",
            "Genre: k-pop, # Tracks: 500\n",
            "Genre: j-pop, # Tracks: 500\n",
            "Genre: cantopop, # Tracks: 257\n",
            "Genre: party, # Tracks: 500\n",
            "Genre: pop-film, # Tracks: 96\n",
            "Genre: r-n-b, # Tracks: 500\n",
            "Genre: club, # Tracks: 100\n",
            "Genre: hip-hop, # Tracks: 967\n",
            "Genre: jazz, # Tracks: 500\n",
            "Genre: soul, # Tracks: 500\n",
            "Genre: funk, # Tracks: 80\n",
            "Genre: blues, # Tracks: 500\n",
            "Genre: afrobeat, # Tracks: 500\n",
            "Genre: latin, # Tracks: 500\n",
            "Genre: latino, # Tracks: 100\n",
            "Genre: reggaeton, # Tracks: 500\n",
            "Genre: samba, # Tracks: 252\n",
            "Genre: salsa, # Tracks: 500\n",
            "Genre: bossanova, # Tracks: 254\n",
            "Genre: classical, # Tracks: 500\n",
            "Genre: opera, # Tracks: 500\n",
            "Genre: show-tunes, # Tracks: 500\n",
            "Genre: disney, # Tracks: 500\n"
          ]
        }
      ]
    },
    {
      "cell_type": "code",
      "metadata": {
        "colab": {
          "base_uri": "https://localhost:8080/"
        },
        "id": "n5OlMKtaI3gP",
        "outputId": "8e851d7c-d55e-46c2-cc53-a324a7c88c74"
      },
      "source": [
        "!ls /track-files"
      ],
      "execution_count": 7,
      "outputs": [
        {
          "output_type": "stream",
          "name": "stdout",
          "text": [
            "acoustic.json\t    disney.json\t\thouse.json\t power-pop.json\n",
            "afrobeat.json\t    drum-and-bass.json\tindie.json\t psych-rock.json\n",
            "alternative.json    dubstep.json\tindie-pop.json\t punk.json\n",
            "alt-rock.json\t    edm.json\t\tjazz.json\t punk-rock.json\n",
            "ambient.json\t    electro.json\tj-dance.json\t reggaeton.json\n",
            "black-metal.json    electronic.json\tj-pop.json\t r-n-b.json\n",
            "bluegrass.json\t    emo.json\t\tj-rock.json\t rockabilly.json\n",
            "blues.json\t    folk.json\t\tk-pop.json\t rock.json\n",
            "bossanova.json\t    funk.json\t\tlatin.json\t rock-n-roll.json\n",
            "breakbeat.json\t    garage.json\t\tlatino.json\t salsa.json\n",
            "cantopop.json\t    goth.json\t\tmetalcore.json\t samba.json\n",
            "chicago-house.json  grindcore.json\tmetal.json\t show-tunes.json\n",
            "chill.json\t    grunge.json\t\tmetal-misc.json  sleep.json\n",
            "classical.json\t    guitar.json\t\tnew-age.json\t soul.json\n",
            "club.json\t    hardcore.json\topera.json\t study.json\n",
            "country.json\t    hard-rock.json\tparty.json\t techno.json\n",
            "dance.json\t    heavy-metal.json\tpiano.json\n",
            "death-metal.json    hip-hop.json\tpop-film.json\n",
            "deep-house.json     honky-tonk.json\tpop.json\n"
          ]
        }
      ]
    },
    {
      "cell_type": "code",
      "metadata": {
        "id": "MKts41-ELofG"
      },
      "source": [
        "!mkdir /audio-features"
      ],
      "execution_count": 8,
      "outputs": []
    },
    {
      "cell_type": "code",
      "metadata": {
        "id": "e77bXBp4Pr4b"
      },
      "source": [
        "for genre in genres:\n",
        "    !mkdir /audio-features/$genre"
      ],
      "execution_count": 9,
      "outputs": []
    },
    {
      "cell_type": "code",
      "source": [
        "#Map subgenres to their supergenre parent node\n",
        "supergenre = {\n",
        "    'alternative':'alternative',\n",
        "    'indie':'alternative',\n",
        "    'alt-rock':'alternative',\n",
        "    'punk':'alternative',\n",
        "    'grunge':'alternative',\n",
        "    'punk-rock':'alternative',\n",
        "    'indie-pop':'alternative',\n",
        "    'emo':'alternative',\n",
        "    'goth':'alternative',\n",
        "    'hardcore':'hardcore',\n",
        "    'death-metal':'hardcore',\n",
        "    'grindcore':'hardcore',\n",
        "    'black-metal':'hardcore',\n",
        "    'heavy-metal':'hardcore',\n",
        "    'metalcore':'hardcore',\n",
        "    'metal':'hardcore',\n",
        "    'metal-misc':'hardcore',\n",
        "    'dance':'dance',\n",
        "    'electronic':'dance',\n",
        "    'electro':'dance',\n",
        "    'edm':'dance',\n",
        "    'garage':'dance',\n",
        "    'house':'dance',\n",
        "    'chicago-house':'dance',\n",
        "    'breakbeat':'dance',\n",
        "    'dubstep':'dance',\n",
        "    'techno':'dance',\n",
        "    'j-dance':'dance',\n",
        "    'deep-house':'dance',\n",
        "    'ambient':'easy-listening',\n",
        "    'chill':'easy-listening',\n",
        "    'sleep':'easy-listening',\n",
        "    'new-age':'easy-listening',\n",
        "    'study':'easy-listening',\n",
        "    'piano':'easy-listening',\n",
        "    'rock':'rock',\n",
        "    'rock-n-roll':'rock',\n",
        "    'rockabilly':'rock',\n",
        "    'j-rock':'rock',\n",
        "    'hard-rock':'rock',\n",
        "    'psych-rock':'rock',\n",
        "    'power-pop':'rock',\n",
        "    'guitar':'rock',\n",
        "    'drum-and-bass':'rock',\n",
        "    'country':'country',\n",
        "    'bluegrass':'country',\n",
        "    'acoustic':'country',\n",
        "    'folk':'country',\n",
        "    'honky-tonk':'country',\n",
        "    'jazz':'jazz',\n",
        "    'soul':'jazz',\n",
        "    'funk':'jazz',\n",
        "    'blues':'jazz',\n",
        "    'afrobeat':'jazz',\n",
        "    'latin':'latin',\n",
        "    'latino':'latin',\n",
        "    'reggaeton':'latin',\n",
        "    'samba':'latin',\n",
        "    'salsa':'latin',\n",
        "    'bossanova':'latin',\n",
        "    'classical':'classical',\n",
        "    'opera':'classical',\n",
        "    'disney':'musical',\n",
        "    'show-tunes':'musical'\n",
        "}"
      ],
      "metadata": {
        "id": "zF0KGs5mAe6a"
      },
      "execution_count": 10,
      "outputs": []
    },
    {
      "cell_type": "code",
      "source": [
        "for genre in genres:\n",
        "    print(\"Starting \" +genre)\n",
        "    with open('/track-files/'+genre+'.json', \"r\") as tracklist:\n",
        "        tracklist = json.load(tracklist)\n",
        "        for track in tracklist:\n",
        "            track_id = tracklist[track]\n",
        "            track_data = sp.audio_features(track_id)\n",
        "            track_data = track_data[0]\n",
        "\n",
        "            # Save audio features locally\n",
        "            with open(\"/audio-features/\"+track_id+\".json\", 'w') as f:\n",
        "                #Add some of our own labels\n",
        "                track_data['subgenre-label'] = genre \n",
        "                track_data['super-genre-label'] = supergenre[genre]\n",
        "                track_data['song-title'] = track\n",
        "\n",
        "                #Fetch some additional info for us\n",
        "                basic_info = sp.track(track_id)\n",
        "                track_data['popularity'] = basic_info['popularity']\n",
        "                track_data['explicit'] = basic_info['explicit']\n",
        "                album = basic_info['album']\n",
        "                track_data['release_date'] = album['release_date']\n",
        "                track_data['release_date_precision'] = album['release_date_precision']\n",
        "\n",
        "                #Add in some Spotify Audio Analysis Vectors\n",
        "                analysis = sp.audio_analysis(track_id)\n",
        "\n",
        "                num_seg = 0\n",
        "                pitches = np.zeros(12)\n",
        "                timbre = np.zeros(12)\n",
        "\n",
        "                analysis_data = analysis['track']\n",
        "                time_signature = analysis_data['time_signature']\n",
        "                key = analysis_data['key']\n",
        "                mode = analysis_data['mode']\n",
        "\n",
        "                if \"segments\" in analysis:\n",
        "                    for _, j in enumerate(analysis['segments']):\n",
        "                        pitches += np.array(j['pitches'])\n",
        "                        timbre += np.array(j['timbre'])\n",
        "                        num_seg+=1\n",
        "\n",
        "                track_data['avg_pitches'] = list(pitches/num_seg)\n",
        "                track_data['avg_timbre'] = list(timbre/num_seg)\n",
        "                #print(track_data)\n",
        "\n",
        "                json.dump(track_data, f, indent=4)\n",
        "\n",
        "            # Upload audio features to GCP bucket\n",
        "            media = MediaFileUpload(\"/audio-features/\"+track_id+\".json\", \n",
        "                              mimetype='application/json',\n",
        "                              resumable=True)\n",
        "\n",
        "            request = gcs_service.objects().insert(bucket='audio-features-fullset', \n",
        "                                                  name=genre+\"/\"+track_id+\".json\",\n",
        "                                                  media_body=media)\n",
        "\n",
        "            response = None\n",
        "            while response is None:\n",
        "                _, response = request.next_chunk()"
      ],
      "metadata": {
        "id": "JaTPnCmM_Mfi",
        "outputId": "a3b1de5d-13ca-4292-a600-b543ee269924",
        "colab": {
          "base_uri": "https://localhost:8080/",
          "height": 574
        }
      },
      "execution_count": 19,
      "outputs": [
        {
          "output_type": "stream",
          "name": "stdout",
          "text": [
            "{'danceability': 0.795, 'energy': 0.706, 'key': 7, 'loudness': -7.494, 'mode': 1, 'speechiness': 0.101, 'acousticness': 0.0172, 'instrumentalness': 0.000384, 'liveness': 0.326, 'valence': 0.623, 'tempo': 95.593, 'type': 'audio_features', 'id': '3oVSsJXNADnYAnZWiEWFJH', 'uri': 'spotify:track:3oVSsJXNADnYAnZWiEWFJH', 'track_href': 'https://api.spotify.com/v1/tracks/3oVSsJXNADnYAnZWiEWFJH', 'analysis_url': 'https://api.spotify.com/v1/audio-analysis/3oVSsJXNADnYAnZWiEWFJH', 'duration_ms': 171067, 'time_signature': 4, 'subgenre-label': 'alternative', 'super-genre-label': 'alternative', 'song-title': 'What I Got', 'popularity': 0, 'explicit': True, 'release_date': '1996-07-30', 'release_date_precision': 'day', 'avg_pitches': [0.5294890885750954, 0.6355430038510912, 0.519951219512195, 0.2480038510911425, 0.26212965340179695, 0.2443106546854943, 0.3504159178433889, 0.38361617458279845, 0.3120962772785621, 0.3722143774069321, 0.2616854942233632, 0.3376469833119385], 'avg_timbre': [46.58417201540443, 48.60011296534014, -37.02982798459557, -1.1864852374839565, 3.6230641848523732, -13.708602053915277, 3.057462130937095, -2.58986392811296, -2.202119383825415, -0.8941078305519897, -18.40122336328625, -0.08426187419769005]}\n",
            "{'danceability': 0.509, 'energy': 0.583, 'key': 0, 'loudness': -4.902, 'mode': 1, 'speechiness': 0.0615, 'acousticness': 0.0329, 'instrumentalness': 0.000124, 'liveness': 0.359, 'valence': 0.67, 'tempo': 170.886, 'type': 'audio_features', 'id': '0melIwOKh1JH4RjI1Is10w', 'uri': 'spotify:track:0melIwOKh1JH4RjI1Is10w', 'track_href': 'https://api.spotify.com/v1/tracks/0melIwOKh1JH4RjI1Is10w', 'analysis_url': 'https://api.spotify.com/v1/audio-analysis/0melIwOKh1JH4RjI1Is10w', 'duration_ms': 278653, 'time_signature': 4, 'subgenre-label': 'alternative', 'super-genre-label': 'alternative', 'song-title': 'No One Knows', 'popularity': 36, 'explicit': False, 'release_date': '2002', 'release_date_precision': 'year', 'avg_pitches': [0.6762929399367765, 0.4971907270811373, 0.3208187565858802, 0.23434246575342482, 0.23373867228661735, 0.3013940990516334, 0.2885995785036879, 0.44586722866174916, 0.27022655426765, 0.22365331928345622, 0.2637355110642786, 0.3485426765015799], 'avg_timbre': [50.00436354056899, 4.37811907270812, 1.6191275026343606, -5.377475237091674, 1.7893751317176003, -6.937145416227608, -3.163046364594308, 1.2145879873551093, -7.926261327713395, -0.21597892518440745, -14.522365648050563, -9.568015806111706]}\n",
            "{'danceability': 0.58, 'energy': 0.702, 'key': 4, 'loudness': -5.565, 'mode': 1, 'speechiness': 0.0337, 'acousticness': 0.0466, 'instrumentalness': 3.2e-06, 'liveness': 0.536, 'valence': 0.299, 'tempo': 105.076, 'type': 'audio_features', 'id': '57BrRMwf9LrcmuOsyGilwr', 'uri': 'spotify:track:57BrRMwf9LrcmuOsyGilwr', 'track_href': 'https://api.spotify.com/v1/tracks/57BrRMwf9LrcmuOsyGilwr', 'analysis_url': 'https://api.spotify.com/v1/audio-analysis/57BrRMwf9LrcmuOsyGilwr', 'duration_ms': 208960, 'time_signature': 4, 'subgenre-label': 'alternative', 'super-genre-label': 'alternative', 'song-title': 'Crawling', 'popularity': 75, 'explicit': False, 'release_date': '2000-10-24', 'release_date_precision': 'day', 'avg_pitches': [0.3395800807537015, 0.49043203230148075, 0.232623149394347, 0.2681803499327052, 0.39397711978465677, 0.25478734858681035, 0.28762314939434735, 0.24924764468371474, 0.5919327052489904, 0.3845693135935396, 0.24030013458950186, 0.4061520861372811], 'avg_timbre': [49.10094885598921, 43.646491251682384, 39.568865410497985, 2.720348586810228, 21.868290713324374, -26.52611978465677, 8.664851951547783, 3.0784239569313567, -0.6567550471063246, 1.6186419919246302, -9.532419919246307, -5.372687752355314]}\n",
            "{'danceability': 0.373, 'energy': 0.737, 'key': 1, 'loudness': -5.282, 'mode': 1, 'speechiness': 0.0297, 'acousticness': 9.4e-06, 'instrumentalness': 0, 'liveness': 0.0696, 'valence': 0.565, 'tempo': 177.9, 'type': 'audio_features', 'id': '1RtnIF8uRwTLxmcR87V6Wo', 'uri': 'spotify:track:1RtnIF8uRwTLxmcR87V6Wo', 'track_href': 'https://api.spotify.com/v1/tracks/1RtnIF8uRwTLxmcR87V6Wo', 'analysis_url': 'https://api.spotify.com/v1/audio-analysis/1RtnIF8uRwTLxmcR87V6Wo', 'duration_ms': 186893, 'time_signature': 4, 'subgenre-label': 'alternative', 'super-genre-label': 'alternative', 'song-title': 'Just Like You', 'popularity': 60, 'explicit': False, 'release_date': '2003-07-22', 'release_date_precision': 'day', 'avg_pitches': [0.357507908611599, 0.4443813708260104, 0.2084200351493852, 0.2782267135325135, 0.2525360281195082, 0.4418260105448157, 0.3763321616871704, 0.2980298769771524, 0.4426924428822496, 0.25503690685413005, 0.3691950790861161, 0.2485149384885763], 'avg_timbre': [52.488068541300564, 50.18426713532515, 7.743054481546572, -15.950105448154652, 2.993472759226712, -30.967189806678405, 9.468014059753967, 1.929237258347978, -2.996300527240772, 5.192516695957819, -9.436520210896314, -10.603307557117741]}\n",
            "{'danceability': 0.494, 'energy': 0.946, 'key': 4, 'loudness': -2.757, 'mode': 1, 'speechiness': 0.0637, 'acousticness': 0.00129, 'instrumentalness': 0, 'liveness': 0.398, 'valence': 0.741, 'tempo': 103.408, 'type': 'audio_features', 'id': '33iv3wnGMrrDugd7GBso1z', 'uri': 'spotify:track:33iv3wnGMrrDugd7GBso1z', 'track_href': 'https://api.spotify.com/v1/tracks/33iv3wnGMrrDugd7GBso1z', 'analysis_url': 'https://api.spotify.com/v1/audio-analysis/33iv3wnGMrrDugd7GBso1z', 'duration_ms': 169027, 'time_signature': 4, 'subgenre-label': 'alternative', 'super-genre-label': 'alternative', 'song-title': 'My Own Worst Enemy', 'popularity': 73, 'explicit': True, 'release_date': '1999-02-22', 'release_date_precision': 'day', 'avg_pitches': [0.4289630996309965, 0.3896439114391141, 0.289839483394834, 0.3529446494464943, 0.62739483394834, 0.2740535055350557, 0.3622822878228782, 0.26455535055350554, 0.42989298892988914, 0.3540977859778598, 0.306918819188192, 0.678435424354244], 'avg_timbre': [54.90260147601476, 66.7265977859779, 23.578428044280418, -10.510282287822873, 17.05802214022141, -31.203546125461255, 0.14908856088560932, 3.9954612546125436, -3.4964778597786004, 5.4323523985239826, -6.495898523985243, -6.459863468634679]}\n",
            "{'danceability': 0.665, 'energy': 0.542, 'key': 11, 'loudness': -8.323, 'mode': 0, 'speechiness': 0.033, 'acousticness': 0.123, 'instrumentalness': 0.00291, 'liveness': 0.342, 'valence': 0.587, 'tempo': 97.975, 'type': 'audio_features', 'id': '11Z7DsmzTwKIEbSSnPwH1C', 'uri': 'spotify:track:11Z7DsmzTwKIEbSSnPwH1C', 'track_href': 'https://api.spotify.com/v1/tracks/11Z7DsmzTwKIEbSSnPwH1C', 'analysis_url': 'https://api.spotify.com/v1/audio-analysis/11Z7DsmzTwKIEbSSnPwH1C', 'duration_ms': 257563, 'time_signature': 4, 'subgenre-label': 'alternative', 'super-genre-label': 'alternative', 'song-title': 'Knee Socks', 'popularity': 0, 'explicit': False, 'release_date': '2013-09-09', 'release_date_precision': 'day', 'avg_pitches': [0.4297215469613262, 0.4986176795580114, 0.35031491712707186, 0.32525524861878485, 0.5895093922651936, 0.3365745856353592, 0.33217900552486246, 0.380878453038674, 0.29110718232044175, 0.3322596685082872, 0.23319116022099412, 0.340043093922652], 'avg_timbre': [46.61128287292814, 19.650167955801113, 19.445916022099453, 1.9618629834254144, 11.827443093922644, -20.624984530386733, 8.055302762430948, -0.8118950276243102, -7.128911602209937, -1.1376453038674026, -7.5653966850828755, 0.9514850828729279]}\n",
            "{'danceability': 0.451, 'energy': 0.815, 'key': 2, 'loudness': -5.55, 'mode': 0, 'speechiness': 0.0368, 'acousticness': 6.06e-05, 'instrumentalness': 0, 'liveness': 0.27, 'valence': 0.618, 'tempo': 147.974, 'type': 'audio_features', 'id': '6ZxrUCaynLgKSUudACOTwj', 'uri': 'spotify:track:6ZxrUCaynLgKSUudACOTwj', 'track_href': 'https://api.spotify.com/v1/tracks/6ZxrUCaynLgKSUudACOTwj', 'analysis_url': 'https://api.spotify.com/v1/audio-analysis/6ZxrUCaynLgKSUudACOTwj', 'duration_ms': 194227, 'time_signature': 4, 'subgenre-label': 'alternative', 'super-genre-label': 'alternative', 'song-title': 'Cold', 'popularity': 70, 'explicit': False, 'release_date': '2004-04-13', 'release_date_precision': 'day', 'avg_pitches': [0.6126131498470946, 0.5016039755351679, 0.4435137614678902, 0.2482232415902142, 0.2613837920489297, 0.34446330275229364, 0.23114678899082572, 0.25663608562691126, 0.2163394495412844, 0.3471284403669728, 0.4435015290519869, 0.32244801223241626], 'avg_timbre': [52.20855351681956, 80.02357186544351, 16.30515596330275, -12.162963302752296, -6.59473088685014, -26.915652905198776, 1.0825963302752282, 1.8424525993883811, -2.6752813455657543, 7.086400611620795, -10.640986238532106, -7.529816513761461]}\n",
            "{'danceability': 0.438, 'energy': 0.851, 'key': 10, 'loudness': -5.802, 'mode': 0, 'speechiness': 0.0505, 'acousticness': 2.67e-05, 'instrumentalness': 0.000136, 'liveness': 0.301, 'valence': 0.592, 'tempo': 157.088, 'type': 'audio_features', 'id': '07bEZWP1PqS5jCR0iiz1zt', 'uri': 'spotify:track:07bEZWP1PqS5jCR0iiz1zt', 'track_href': 'https://api.spotify.com/v1/tracks/07bEZWP1PqS5jCR0iiz1zt', 'analysis_url': 'https://api.spotify.com/v1/audio-analysis/07bEZWP1PqS5jCR0iiz1zt', 'duration_ms': 253440, 'time_signature': 4, 'subgenre-label': 'alternative', 'super-genre-label': 'alternative', 'song-title': 'In Bloom - Nevermind Version', 'popularity': 0, 'explicit': False, 'release_date': '2002-01-01', 'release_date_precision': 'day', 'avg_pitches': [0.46321703617269483, 0.5358261376896147, 0.3485064177362894, 0.32886931155192545, 0.2861190198366396, 0.35585997666277774, 0.40287864644107346, 0.40490548424737505, 0.30412252042007004, 0.2678063010501754, 0.37124037339556576, 0.2735635939323217], 'avg_timbre': [50.20678529754964, 75.44447374562431, -16.401072345390908, -14.440101516919489, -13.120642940490077, -31.490003500583438, -13.613117852975492, 4.368989498249708, -6.102757292882145, 3.76710501750292, -9.129032672112022, -2.932084014002334]}\n",
            "{'danceability': 0.518, 'energy': 0.713, 'key': 10, 'loudness': -7.423, 'mode': 0, 'speechiness': 0.033, 'acousticness': 0.273, 'instrumentalness': 0.143, 'liveness': 0.115, 'valence': 0.508, 'tempo': 131.965, 'type': 'audio_features', 'id': '0gfBM40Ak48n7wrA0qTZPn', 'uri': 'spotify:track:0gfBM40Ak48n7wrA0qTZPn', 'track_href': 'https://api.spotify.com/v1/tracks/0gfBM40Ak48n7wrA0qTZPn', 'analysis_url': 'https://api.spotify.com/v1/audio-analysis/0gfBM40Ak48n7wrA0qTZPn', 'duration_ms': 231629, 'time_signature': 4, 'subgenre-label': 'alternative', 'super-genre-label': 'alternative', 'song-title': 'On & On', 'popularity': 18, 'explicit': False, 'release_date': '2012-10-22', 'release_date_precision': 'day', 'avg_pitches': [0.26508798017348173, 0.29235935563816606, 0.17074721189591055, 0.31523420074349434, 0.23954399008674093, 0.6265390334572493, 0.29928128872366805, 0.189727385377943, 0.29676208178438657, 0.23517100371747232, 0.6543667905824034, 0.22214498141263933], 'avg_timbre': [48.34301610904591, 2.166058240396544, 1.1337013630731043, -18.785548946716226, 18.813485749690223, -29.84502354399007, -1.6705861214374202, -0.39500495662949126, 6.954027261462203, 0.6556765799256511, -6.103045848822798, 2.100830235439902]}\n",
            "{'danceability': 0.293, 'energy': 0.462, 'key': 5, 'loudness': -11.412, 'mode': 0, 'speechiness': 0.0453, 'acousticness': 0.699, 'instrumentalness': 0.0444, 'liveness': 0.0954, 'valence': 0.0623, 'tempo': 124.004, 'type': 'audio_features', 'id': '31DVVa40JpTudyGDNC1ROW', 'uri': 'spotify:track:31DVVa40JpTudyGDNC1ROW', 'track_href': 'https://api.spotify.com/v1/tracks/31DVVa40JpTudyGDNC1ROW', 'analysis_url': 'https://api.spotify.com/v1/audio-analysis/31DVVa40JpTudyGDNC1ROW', 'duration_ms': 251427, 'time_signature': 5, 'subgenre-label': 'alternative', 'super-genre-label': 'alternative', 'song-title': 'Everything in Its Right Place', 'popularity': 0, 'explicit': False, 'release_date': '2000-10-02', 'release_date_precision': 'day', 'avg_pitches': [0.7168342618384408, 0.5558607242339832, 0.2615264623955432, 0.4358022284122562, 0.2928857938718665, 0.36007799442896943, 0.16464345403899733, 0.31124651810584947, 0.216981894150418, 0.1735222841225628, 0.19608635097493027, 0.2512144846796657], 'avg_timbre': [43.20911002785516, -45.69415320334263, -35.711877437325896, -38.36579108635091, 40.12715320334265, -38.794473537604475, -5.352928969359328, -1.787440111420612, 5.6951880222841185, -3.2406504178272977, -6.01916295264624, 0.8275153203342621]}\n"
          ]
        },
        {
          "output_type": "error",
          "ename": "KeyboardInterrupt",
          "evalue": "ignored",
          "traceback": [
            "\u001b[0;31m---------------------------------------------------------------------------\u001b[0m",
            "\u001b[0;31mKeyboardInterrupt\u001b[0m                         Traceback (most recent call last)",
            "\u001b[0;32m<ipython-input-19-30240a893c60>\u001b[0m in \u001b[0;36m<module>\u001b[0;34m()\u001b[0m\n\u001b[1;32m     23\u001b[0m \u001b[0;34m\u001b[0m\u001b[0m\n\u001b[1;32m     24\u001b[0m                 \u001b[0;31m#Add in some Spotify Audio Analysis Vectors\u001b[0m\u001b[0;34m\u001b[0m\u001b[0;34m\u001b[0m\u001b[0;34m\u001b[0m\u001b[0m\n\u001b[0;32m---> 25\u001b[0;31m                 \u001b[0manalysis\u001b[0m \u001b[0;34m=\u001b[0m \u001b[0msp\u001b[0m\u001b[0;34m.\u001b[0m\u001b[0maudio_analysis\u001b[0m\u001b[0;34m(\u001b[0m\u001b[0mtrack_id\u001b[0m\u001b[0;34m)\u001b[0m\u001b[0;34m\u001b[0m\u001b[0;34m\u001b[0m\u001b[0m\n\u001b[0m\u001b[1;32m     26\u001b[0m \u001b[0;34m\u001b[0m\u001b[0m\n\u001b[1;32m     27\u001b[0m                 \u001b[0mnum_seg\u001b[0m \u001b[0;34m=\u001b[0m \u001b[0;36m0\u001b[0m\u001b[0;34m\u001b[0m\u001b[0;34m\u001b[0m\u001b[0m\n",
            "\u001b[0;32m/usr/local/lib/python3.7/dist-packages/spotipy/client.py\u001b[0m in \u001b[0;36maudio_analysis\u001b[0;34m(self, track_id)\u001b[0m\n\u001b[1;32m   1669\u001b[0m         \"\"\"\n\u001b[1;32m   1670\u001b[0m         \u001b[0mtrid\u001b[0m \u001b[0;34m=\u001b[0m \u001b[0mself\u001b[0m\u001b[0;34m.\u001b[0m\u001b[0m_get_id\u001b[0m\u001b[0;34m(\u001b[0m\u001b[0;34m\"track\"\u001b[0m\u001b[0;34m,\u001b[0m \u001b[0mtrack_id\u001b[0m\u001b[0;34m)\u001b[0m\u001b[0;34m\u001b[0m\u001b[0;34m\u001b[0m\u001b[0m\n\u001b[0;32m-> 1671\u001b[0;31m         \u001b[0;32mreturn\u001b[0m \u001b[0mself\u001b[0m\u001b[0;34m.\u001b[0m\u001b[0m_get\u001b[0m\u001b[0;34m(\u001b[0m\u001b[0;34m\"audio-analysis/\"\u001b[0m \u001b[0;34m+\u001b[0m \u001b[0mtrid\u001b[0m\u001b[0;34m)\u001b[0m\u001b[0;34m\u001b[0m\u001b[0;34m\u001b[0m\u001b[0m\n\u001b[0m\u001b[1;32m   1672\u001b[0m \u001b[0;34m\u001b[0m\u001b[0m\n\u001b[1;32m   1673\u001b[0m     \u001b[0;32mdef\u001b[0m \u001b[0maudio_features\u001b[0m\u001b[0;34m(\u001b[0m\u001b[0mself\u001b[0m\u001b[0;34m,\u001b[0m \u001b[0mtracks\u001b[0m\u001b[0;34m=\u001b[0m\u001b[0;34m[\u001b[0m\u001b[0;34m]\u001b[0m\u001b[0;34m)\u001b[0m\u001b[0;34m:\u001b[0m\u001b[0;34m\u001b[0m\u001b[0;34m\u001b[0m\u001b[0m\n",
            "\u001b[0;32m/usr/local/lib/python3.7/dist-packages/spotipy/client.py\u001b[0m in \u001b[0;36m_get\u001b[0;34m(self, url, args, payload, **kwargs)\u001b[0m\n\u001b[1;32m    295\u001b[0m             \u001b[0mkwargs\u001b[0m\u001b[0;34m.\u001b[0m\u001b[0mupdate\u001b[0m\u001b[0;34m(\u001b[0m\u001b[0margs\u001b[0m\u001b[0;34m)\u001b[0m\u001b[0;34m\u001b[0m\u001b[0;34m\u001b[0m\u001b[0m\n\u001b[1;32m    296\u001b[0m \u001b[0;34m\u001b[0m\u001b[0m\n\u001b[0;32m--> 297\u001b[0;31m         \u001b[0;32mreturn\u001b[0m \u001b[0mself\u001b[0m\u001b[0;34m.\u001b[0m\u001b[0m_internal_call\u001b[0m\u001b[0;34m(\u001b[0m\u001b[0;34m\"GET\"\u001b[0m\u001b[0;34m,\u001b[0m \u001b[0murl\u001b[0m\u001b[0;34m,\u001b[0m \u001b[0mpayload\u001b[0m\u001b[0;34m,\u001b[0m \u001b[0mkwargs\u001b[0m\u001b[0;34m)\u001b[0m\u001b[0;34m\u001b[0m\u001b[0;34m\u001b[0m\u001b[0m\n\u001b[0m\u001b[1;32m    298\u001b[0m \u001b[0;34m\u001b[0m\u001b[0m\n\u001b[1;32m    299\u001b[0m     \u001b[0;32mdef\u001b[0m \u001b[0m_post\u001b[0m\u001b[0;34m(\u001b[0m\u001b[0mself\u001b[0m\u001b[0;34m,\u001b[0m \u001b[0murl\u001b[0m\u001b[0;34m,\u001b[0m \u001b[0margs\u001b[0m\u001b[0;34m=\u001b[0m\u001b[0;32mNone\u001b[0m\u001b[0;34m,\u001b[0m \u001b[0mpayload\u001b[0m\u001b[0;34m=\u001b[0m\u001b[0;32mNone\u001b[0m\u001b[0;34m,\u001b[0m \u001b[0;34m**\u001b[0m\u001b[0mkwargs\u001b[0m\u001b[0;34m)\u001b[0m\u001b[0;34m:\u001b[0m\u001b[0;34m\u001b[0m\u001b[0;34m\u001b[0m\u001b[0m\n",
            "\u001b[0;32m/usr/local/lib/python3.7/dist-packages/spotipy/client.py\u001b[0m in \u001b[0;36m_internal_call\u001b[0;34m(self, method, url, payload, params)\u001b[0m\n\u001b[1;32m    240\u001b[0m             response = self._session.request(\n\u001b[1;32m    241\u001b[0m                 \u001b[0mmethod\u001b[0m\u001b[0;34m,\u001b[0m \u001b[0murl\u001b[0m\u001b[0;34m,\u001b[0m \u001b[0mheaders\u001b[0m\u001b[0;34m=\u001b[0m\u001b[0mheaders\u001b[0m\u001b[0;34m,\u001b[0m \u001b[0mproxies\u001b[0m\u001b[0;34m=\u001b[0m\u001b[0mself\u001b[0m\u001b[0;34m.\u001b[0m\u001b[0mproxies\u001b[0m\u001b[0;34m,\u001b[0m\u001b[0;34m\u001b[0m\u001b[0;34m\u001b[0m\u001b[0m\n\u001b[0;32m--> 242\u001b[0;31m                 \u001b[0mtimeout\u001b[0m\u001b[0;34m=\u001b[0m\u001b[0mself\u001b[0m\u001b[0;34m.\u001b[0m\u001b[0mrequests_timeout\u001b[0m\u001b[0;34m,\u001b[0m \u001b[0;34m**\u001b[0m\u001b[0margs\u001b[0m\u001b[0;34m\u001b[0m\u001b[0;34m\u001b[0m\u001b[0m\n\u001b[0m\u001b[1;32m    243\u001b[0m             )\n\u001b[1;32m    244\u001b[0m \u001b[0;34m\u001b[0m\u001b[0m\n",
            "\u001b[0;32m/usr/local/lib/python3.7/dist-packages/requests/sessions.py\u001b[0m in \u001b[0;36mrequest\u001b[0;34m(self, method, url, params, data, headers, cookies, files, auth, timeout, allow_redirects, proxies, hooks, stream, verify, cert, json)\u001b[0m\n\u001b[1;32m    540\u001b[0m         }\n\u001b[1;32m    541\u001b[0m         \u001b[0msend_kwargs\u001b[0m\u001b[0;34m.\u001b[0m\u001b[0mupdate\u001b[0m\u001b[0;34m(\u001b[0m\u001b[0msettings\u001b[0m\u001b[0;34m)\u001b[0m\u001b[0;34m\u001b[0m\u001b[0;34m\u001b[0m\u001b[0m\n\u001b[0;32m--> 542\u001b[0;31m         \u001b[0mresp\u001b[0m \u001b[0;34m=\u001b[0m \u001b[0mself\u001b[0m\u001b[0;34m.\u001b[0m\u001b[0msend\u001b[0m\u001b[0;34m(\u001b[0m\u001b[0mprep\u001b[0m\u001b[0;34m,\u001b[0m \u001b[0;34m**\u001b[0m\u001b[0msend_kwargs\u001b[0m\u001b[0;34m)\u001b[0m\u001b[0;34m\u001b[0m\u001b[0;34m\u001b[0m\u001b[0m\n\u001b[0m\u001b[1;32m    543\u001b[0m \u001b[0;34m\u001b[0m\u001b[0m\n\u001b[1;32m    544\u001b[0m         \u001b[0;32mreturn\u001b[0m \u001b[0mresp\u001b[0m\u001b[0;34m\u001b[0m\u001b[0;34m\u001b[0m\u001b[0m\n",
            "\u001b[0;32m/usr/local/lib/python3.7/dist-packages/requests/sessions.py\u001b[0m in \u001b[0;36msend\u001b[0;34m(self, request, **kwargs)\u001b[0m\n\u001b[1;32m    695\u001b[0m \u001b[0;34m\u001b[0m\u001b[0m\n\u001b[1;32m    696\u001b[0m         \u001b[0;32mif\u001b[0m \u001b[0;32mnot\u001b[0m \u001b[0mstream\u001b[0m\u001b[0;34m:\u001b[0m\u001b[0;34m\u001b[0m\u001b[0;34m\u001b[0m\u001b[0m\n\u001b[0;32m--> 697\u001b[0;31m             \u001b[0mr\u001b[0m\u001b[0;34m.\u001b[0m\u001b[0mcontent\u001b[0m\u001b[0;34m\u001b[0m\u001b[0;34m\u001b[0m\u001b[0m\n\u001b[0m\u001b[1;32m    698\u001b[0m \u001b[0;34m\u001b[0m\u001b[0m\n\u001b[1;32m    699\u001b[0m         \u001b[0;32mreturn\u001b[0m \u001b[0mr\u001b[0m\u001b[0;34m\u001b[0m\u001b[0;34m\u001b[0m\u001b[0m\n",
            "\u001b[0;32m/usr/local/lib/python3.7/dist-packages/requests/models.py\u001b[0m in \u001b[0;36mcontent\u001b[0;34m(self)\u001b[0m\n\u001b[1;32m    834\u001b[0m                 \u001b[0mself\u001b[0m\u001b[0;34m.\u001b[0m\u001b[0m_content\u001b[0m \u001b[0;34m=\u001b[0m \u001b[0;32mNone\u001b[0m\u001b[0;34m\u001b[0m\u001b[0;34m\u001b[0m\u001b[0m\n\u001b[1;32m    835\u001b[0m             \u001b[0;32melse\u001b[0m\u001b[0;34m:\u001b[0m\u001b[0;34m\u001b[0m\u001b[0;34m\u001b[0m\u001b[0m\n\u001b[0;32m--> 836\u001b[0;31m                 \u001b[0mself\u001b[0m\u001b[0;34m.\u001b[0m\u001b[0m_content\u001b[0m \u001b[0;34m=\u001b[0m \u001b[0;34mb''\u001b[0m\u001b[0;34m.\u001b[0m\u001b[0mjoin\u001b[0m\u001b[0;34m(\u001b[0m\u001b[0mself\u001b[0m\u001b[0;34m.\u001b[0m\u001b[0miter_content\u001b[0m\u001b[0;34m(\u001b[0m\u001b[0mCONTENT_CHUNK_SIZE\u001b[0m\u001b[0;34m)\u001b[0m\u001b[0;34m)\u001b[0m \u001b[0;32mor\u001b[0m \u001b[0;34mb''\u001b[0m\u001b[0;34m\u001b[0m\u001b[0;34m\u001b[0m\u001b[0m\n\u001b[0m\u001b[1;32m    837\u001b[0m \u001b[0;34m\u001b[0m\u001b[0m\n\u001b[1;32m    838\u001b[0m         \u001b[0mself\u001b[0m\u001b[0;34m.\u001b[0m\u001b[0m_content_consumed\u001b[0m \u001b[0;34m=\u001b[0m \u001b[0;32mTrue\u001b[0m\u001b[0;34m\u001b[0m\u001b[0;34m\u001b[0m\u001b[0m\n",
            "\u001b[0;32m/usr/local/lib/python3.7/dist-packages/requests/models.py\u001b[0m in \u001b[0;36mgenerate\u001b[0;34m()\u001b[0m\n\u001b[1;32m    756\u001b[0m             \u001b[0;32mif\u001b[0m \u001b[0mhasattr\u001b[0m\u001b[0;34m(\u001b[0m\u001b[0mself\u001b[0m\u001b[0;34m.\u001b[0m\u001b[0mraw\u001b[0m\u001b[0;34m,\u001b[0m \u001b[0;34m'stream'\u001b[0m\u001b[0;34m)\u001b[0m\u001b[0;34m:\u001b[0m\u001b[0;34m\u001b[0m\u001b[0;34m\u001b[0m\u001b[0m\n\u001b[1;32m    757\u001b[0m                 \u001b[0;32mtry\u001b[0m\u001b[0;34m:\u001b[0m\u001b[0;34m\u001b[0m\u001b[0;34m\u001b[0m\u001b[0m\n\u001b[0;32m--> 758\u001b[0;31m                     \u001b[0;32mfor\u001b[0m \u001b[0mchunk\u001b[0m \u001b[0;32min\u001b[0m \u001b[0mself\u001b[0m\u001b[0;34m.\u001b[0m\u001b[0mraw\u001b[0m\u001b[0;34m.\u001b[0m\u001b[0mstream\u001b[0m\u001b[0;34m(\u001b[0m\u001b[0mchunk_size\u001b[0m\u001b[0;34m,\u001b[0m \u001b[0mdecode_content\u001b[0m\u001b[0;34m=\u001b[0m\u001b[0;32mTrue\u001b[0m\u001b[0;34m)\u001b[0m\u001b[0;34m:\u001b[0m\u001b[0;34m\u001b[0m\u001b[0;34m\u001b[0m\u001b[0m\n\u001b[0m\u001b[1;32m    759\u001b[0m                         \u001b[0;32myield\u001b[0m \u001b[0mchunk\u001b[0m\u001b[0;34m\u001b[0m\u001b[0;34m\u001b[0m\u001b[0m\n\u001b[1;32m    760\u001b[0m                 \u001b[0;32mexcept\u001b[0m \u001b[0mProtocolError\u001b[0m \u001b[0;32mas\u001b[0m \u001b[0me\u001b[0m\u001b[0;34m:\u001b[0m\u001b[0;34m\u001b[0m\u001b[0;34m\u001b[0m\u001b[0m\n",
            "\u001b[0;32m/usr/local/lib/python3.7/dist-packages/urllib3/response.py\u001b[0m in \u001b[0;36mstream\u001b[0;34m(self, amt, decode_content)\u001b[0m\n\u001b[1;32m    570\u001b[0m         \"\"\"\n\u001b[1;32m    571\u001b[0m         \u001b[0;32mif\u001b[0m \u001b[0mself\u001b[0m\u001b[0;34m.\u001b[0m\u001b[0mchunked\u001b[0m \u001b[0;32mand\u001b[0m \u001b[0mself\u001b[0m\u001b[0;34m.\u001b[0m\u001b[0msupports_chunked_reads\u001b[0m\u001b[0;34m(\u001b[0m\u001b[0;34m)\u001b[0m\u001b[0;34m:\u001b[0m\u001b[0;34m\u001b[0m\u001b[0;34m\u001b[0m\u001b[0m\n\u001b[0;32m--> 572\u001b[0;31m             \u001b[0;32mfor\u001b[0m \u001b[0mline\u001b[0m \u001b[0;32min\u001b[0m \u001b[0mself\u001b[0m\u001b[0;34m.\u001b[0m\u001b[0mread_chunked\u001b[0m\u001b[0;34m(\u001b[0m\u001b[0mamt\u001b[0m\u001b[0;34m,\u001b[0m \u001b[0mdecode_content\u001b[0m\u001b[0;34m=\u001b[0m\u001b[0mdecode_content\u001b[0m\u001b[0;34m)\u001b[0m\u001b[0;34m:\u001b[0m\u001b[0;34m\u001b[0m\u001b[0;34m\u001b[0m\u001b[0m\n\u001b[0m\u001b[1;32m    573\u001b[0m                 \u001b[0;32myield\u001b[0m \u001b[0mline\u001b[0m\u001b[0;34m\u001b[0m\u001b[0;34m\u001b[0m\u001b[0m\n\u001b[1;32m    574\u001b[0m         \u001b[0;32melse\u001b[0m\u001b[0;34m:\u001b[0m\u001b[0;34m\u001b[0m\u001b[0;34m\u001b[0m\u001b[0m\n",
            "\u001b[0;32m/usr/local/lib/python3.7/dist-packages/urllib3/response.py\u001b[0m in \u001b[0;36mread_chunked\u001b[0;34m(self, amt, decode_content)\u001b[0m\n\u001b[1;32m    762\u001b[0m \u001b[0;34m\u001b[0m\u001b[0m\n\u001b[1;32m    763\u001b[0m             \u001b[0;32mwhile\u001b[0m \u001b[0;32mTrue\u001b[0m\u001b[0;34m:\u001b[0m\u001b[0;34m\u001b[0m\u001b[0;34m\u001b[0m\u001b[0m\n\u001b[0;32m--> 764\u001b[0;31m                 \u001b[0mself\u001b[0m\u001b[0;34m.\u001b[0m\u001b[0m_update_chunk_length\u001b[0m\u001b[0;34m(\u001b[0m\u001b[0;34m)\u001b[0m\u001b[0;34m\u001b[0m\u001b[0;34m\u001b[0m\u001b[0m\n\u001b[0m\u001b[1;32m    765\u001b[0m                 \u001b[0;32mif\u001b[0m \u001b[0mself\u001b[0m\u001b[0;34m.\u001b[0m\u001b[0mchunk_left\u001b[0m \u001b[0;34m==\u001b[0m \u001b[0;36m0\u001b[0m\u001b[0;34m:\u001b[0m\u001b[0;34m\u001b[0m\u001b[0;34m\u001b[0m\u001b[0m\n\u001b[1;32m    766\u001b[0m                     \u001b[0;32mbreak\u001b[0m\u001b[0;34m\u001b[0m\u001b[0;34m\u001b[0m\u001b[0m\n",
            "\u001b[0;32m/usr/local/lib/python3.7/dist-packages/urllib3/response.py\u001b[0m in \u001b[0;36m_update_chunk_length\u001b[0;34m(self)\u001b[0m\n\u001b[1;32m    692\u001b[0m         \u001b[0;32mif\u001b[0m \u001b[0mself\u001b[0m\u001b[0;34m.\u001b[0m\u001b[0mchunk_left\u001b[0m \u001b[0;32mis\u001b[0m \u001b[0;32mnot\u001b[0m \u001b[0;32mNone\u001b[0m\u001b[0;34m:\u001b[0m\u001b[0;34m\u001b[0m\u001b[0;34m\u001b[0m\u001b[0m\n\u001b[1;32m    693\u001b[0m             \u001b[0;32mreturn\u001b[0m\u001b[0;34m\u001b[0m\u001b[0;34m\u001b[0m\u001b[0m\n\u001b[0;32m--> 694\u001b[0;31m         \u001b[0mline\u001b[0m \u001b[0;34m=\u001b[0m \u001b[0mself\u001b[0m\u001b[0;34m.\u001b[0m\u001b[0m_fp\u001b[0m\u001b[0;34m.\u001b[0m\u001b[0mfp\u001b[0m\u001b[0;34m.\u001b[0m\u001b[0mreadline\u001b[0m\u001b[0;34m(\u001b[0m\u001b[0;34m)\u001b[0m\u001b[0;34m\u001b[0m\u001b[0;34m\u001b[0m\u001b[0m\n\u001b[0m\u001b[1;32m    695\u001b[0m         \u001b[0mline\u001b[0m \u001b[0;34m=\u001b[0m \u001b[0mline\u001b[0m\u001b[0;34m.\u001b[0m\u001b[0msplit\u001b[0m\u001b[0;34m(\u001b[0m\u001b[0;34mb\";\"\u001b[0m\u001b[0;34m,\u001b[0m \u001b[0;36m1\u001b[0m\u001b[0;34m)\u001b[0m\u001b[0;34m[\u001b[0m\u001b[0;36m0\u001b[0m\u001b[0;34m]\u001b[0m\u001b[0;34m\u001b[0m\u001b[0;34m\u001b[0m\u001b[0m\n\u001b[1;32m    696\u001b[0m         \u001b[0;32mtry\u001b[0m\u001b[0;34m:\u001b[0m\u001b[0;34m\u001b[0m\u001b[0;34m\u001b[0m\u001b[0m\n",
            "\u001b[0;32m/usr/lib/python3.7/socket.py\u001b[0m in \u001b[0;36mreadinto\u001b[0;34m(self, b)\u001b[0m\n\u001b[1;32m    587\u001b[0m         \u001b[0;32mwhile\u001b[0m \u001b[0;32mTrue\u001b[0m\u001b[0;34m:\u001b[0m\u001b[0;34m\u001b[0m\u001b[0;34m\u001b[0m\u001b[0m\n\u001b[1;32m    588\u001b[0m             \u001b[0;32mtry\u001b[0m\u001b[0;34m:\u001b[0m\u001b[0;34m\u001b[0m\u001b[0;34m\u001b[0m\u001b[0m\n\u001b[0;32m--> 589\u001b[0;31m                 \u001b[0;32mreturn\u001b[0m \u001b[0mself\u001b[0m\u001b[0;34m.\u001b[0m\u001b[0m_sock\u001b[0m\u001b[0;34m.\u001b[0m\u001b[0mrecv_into\u001b[0m\u001b[0;34m(\u001b[0m\u001b[0mb\u001b[0m\u001b[0;34m)\u001b[0m\u001b[0;34m\u001b[0m\u001b[0;34m\u001b[0m\u001b[0m\n\u001b[0m\u001b[1;32m    590\u001b[0m             \u001b[0;32mexcept\u001b[0m \u001b[0mtimeout\u001b[0m\u001b[0;34m:\u001b[0m\u001b[0;34m\u001b[0m\u001b[0;34m\u001b[0m\u001b[0m\n\u001b[1;32m    591\u001b[0m                 \u001b[0mself\u001b[0m\u001b[0;34m.\u001b[0m\u001b[0m_timeout_occurred\u001b[0m \u001b[0;34m=\u001b[0m \u001b[0;32mTrue\u001b[0m\u001b[0;34m\u001b[0m\u001b[0;34m\u001b[0m\u001b[0m\n",
            "\u001b[0;32m/usr/lib/python3.7/ssl.py\u001b[0m in \u001b[0;36mrecv_into\u001b[0;34m(self, buffer, nbytes, flags)\u001b[0m\n\u001b[1;32m   1069\u001b[0m                   \u001b[0;34m\"non-zero flags not allowed in calls to recv_into() on %s\"\u001b[0m \u001b[0;34m%\u001b[0m\u001b[0;34m\u001b[0m\u001b[0;34m\u001b[0m\u001b[0m\n\u001b[1;32m   1070\u001b[0m                   self.__class__)\n\u001b[0;32m-> 1071\u001b[0;31m             \u001b[0;32mreturn\u001b[0m \u001b[0mself\u001b[0m\u001b[0;34m.\u001b[0m\u001b[0mread\u001b[0m\u001b[0;34m(\u001b[0m\u001b[0mnbytes\u001b[0m\u001b[0;34m,\u001b[0m \u001b[0mbuffer\u001b[0m\u001b[0;34m)\u001b[0m\u001b[0;34m\u001b[0m\u001b[0;34m\u001b[0m\u001b[0m\n\u001b[0m\u001b[1;32m   1072\u001b[0m         \u001b[0;32melse\u001b[0m\u001b[0;34m:\u001b[0m\u001b[0;34m\u001b[0m\u001b[0;34m\u001b[0m\u001b[0m\n\u001b[1;32m   1073\u001b[0m             \u001b[0;32mreturn\u001b[0m \u001b[0msuper\u001b[0m\u001b[0;34m(\u001b[0m\u001b[0;34m)\u001b[0m\u001b[0;34m.\u001b[0m\u001b[0mrecv_into\u001b[0m\u001b[0;34m(\u001b[0m\u001b[0mbuffer\u001b[0m\u001b[0;34m,\u001b[0m \u001b[0mnbytes\u001b[0m\u001b[0;34m,\u001b[0m \u001b[0mflags\u001b[0m\u001b[0;34m)\u001b[0m\u001b[0;34m\u001b[0m\u001b[0;34m\u001b[0m\u001b[0m\n",
            "\u001b[0;32m/usr/lib/python3.7/ssl.py\u001b[0m in \u001b[0;36mread\u001b[0;34m(self, len, buffer)\u001b[0m\n\u001b[1;32m    927\u001b[0m         \u001b[0;32mtry\u001b[0m\u001b[0;34m:\u001b[0m\u001b[0;34m\u001b[0m\u001b[0;34m\u001b[0m\u001b[0m\n\u001b[1;32m    928\u001b[0m             \u001b[0;32mif\u001b[0m \u001b[0mbuffer\u001b[0m \u001b[0;32mis\u001b[0m \u001b[0;32mnot\u001b[0m \u001b[0;32mNone\u001b[0m\u001b[0;34m:\u001b[0m\u001b[0;34m\u001b[0m\u001b[0;34m\u001b[0m\u001b[0m\n\u001b[0;32m--> 929\u001b[0;31m                 \u001b[0;32mreturn\u001b[0m \u001b[0mself\u001b[0m\u001b[0;34m.\u001b[0m\u001b[0m_sslobj\u001b[0m\u001b[0;34m.\u001b[0m\u001b[0mread\u001b[0m\u001b[0;34m(\u001b[0m\u001b[0mlen\u001b[0m\u001b[0;34m,\u001b[0m \u001b[0mbuffer\u001b[0m\u001b[0;34m)\u001b[0m\u001b[0;34m\u001b[0m\u001b[0;34m\u001b[0m\u001b[0m\n\u001b[0m\u001b[1;32m    930\u001b[0m             \u001b[0;32melse\u001b[0m\u001b[0;34m:\u001b[0m\u001b[0;34m\u001b[0m\u001b[0;34m\u001b[0m\u001b[0m\n\u001b[1;32m    931\u001b[0m                 \u001b[0;32mreturn\u001b[0m \u001b[0mself\u001b[0m\u001b[0;34m.\u001b[0m\u001b[0m_sslobj\u001b[0m\u001b[0;34m.\u001b[0m\u001b[0mread\u001b[0m\u001b[0;34m(\u001b[0m\u001b[0mlen\u001b[0m\u001b[0;34m)\u001b[0m\u001b[0;34m\u001b[0m\u001b[0;34m\u001b[0m\u001b[0m\n",
            "\u001b[0;31mKeyboardInterrupt\u001b[0m: "
          ]
        }
      ]
    }
  ]
}