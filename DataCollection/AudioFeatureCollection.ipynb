{
  "nbformat": 4,
  "nbformat_minor": 0,
  "metadata": {
    "colab": {
      "name": "6893_HW2PartI_LogisticRegression.ipynb",
      "provenance": [],
      "collapsed_sections": []
    },
    "kernelspec": {
      "name": "python3",
      "display_name": "Python 3"
    },
    "language_info": {
      "name": "python"
    }
  },
  "cells": [
    {
      "cell_type": "markdown",
      "metadata": {
        "id": "ulzSVEBDnJRT"
      },
      "source": [
        "Alex Thornton (apt2141)  \n",
        "Columbia University Fall 2021  \n",
        "ELEN E6893 - Big Data Analytics  \n",
        "Research Project: SpotifyClassifier"
      ]
    },
    {
      "cell_type": "markdown",
      "metadata": {
        "id": "CeM9m3Lm99QY"
      },
      "source": [
        "1. Connect to GCP"
      ]
    },
    {
      "cell_type": "code",
      "metadata": {
        "colab": {
          "base_uri": "https://localhost:8080/"
        },
        "id": "BSznwvRi91nq",
        "outputId": "2a74225b-7975-4dfd-ffd5-3b5ce799395b"
      },
      "source": [
        "!gcloud auth login\n",
        "!gcloud config set project spotifyclassifier"
      ],
      "execution_count": 3,
      "outputs": [
        {
          "output_type": "stream",
          "name": "stdout",
          "text": [
            "Go to the following link in your browser:\n",
            "\n",
            "    https://accounts.google.com/o/oauth2/auth?response_type=code&client_id=32555940559.apps.googleusercontent.com&redirect_uri=urn%3Aietf%3Awg%3Aoauth%3A2.0%3Aoob&scope=openid+https%3A%2F%2Fwww.googleapis.com%2Fauth%2Fuserinfo.email+https%3A%2F%2Fwww.googleapis.com%2Fauth%2Fcloud-platform+https%3A%2F%2Fwww.googleapis.com%2Fauth%2Fappengine.admin+https%3A%2F%2Fwww.googleapis.com%2Fauth%2Fcompute+https%3A%2F%2Fwww.googleapis.com%2Fauth%2Faccounts.reauth&state=LWaJ5EVu85A7Cmv8JefKWmZnNqKEiN&prompt=consent&access_type=offline&code_challenge=ZGSEdIoU0oIG3C-uyJREDH6SOA4zRxpOcJlDaCIJgzg&code_challenge_method=S256\n",
            "\n",
            "Enter verification code: 4/1AX4XfWhamtD-Q2riDD057kxO6EomdbfpFUH_9kuSsqwHHJkoa8LJZRiebCo\n",
            "\n",
            "You are now logged in as [apt2141@columbia.edu].\n",
            "Your current project is [None].  You can change this setting by running:\n",
            "  $ gcloud config set project PROJECT_ID\n",
            "Updated property [core/project].\n",
            "E: Unable to locate package gcsfuse\n"
          ]
        }
      ]
    },
    {
      "cell_type": "code",
      "metadata": {
        "id": "eBxjn6-lB1uD",
        "outputId": "94a51e1f-fe88-460f-d5fa-f69adac8bc81",
        "colab": {
          "base_uri": "https://localhost:8080/"
        }
      },
      "source": [
        "#Upgrade cloud machine to have package for mounting bucket\n",
        "!echo \"deb http://packages.cloud.google.com/apt gcsfuse-bionic main\" > /etc/apt/sources.list.d/gcsfuse.list\n",
        "!curl https://packages.cloud.google.com/apt/doc/apt-key.gpg | apt-key add -\n",
        "!apt -qq update\n",
        "!apt -qq install gcsfuse"
      ],
      "execution_count": 6,
      "outputs": [
        {
          "output_type": "stream",
          "name": "stdout",
          "text": [
            "  % Total    % Received % Xferd  Average Speed   Time    Time     Time  Current\n",
            "                                 Dload  Upload   Total   Spent    Left  Speed\n",
            "\r  0     0    0     0    0     0      0      0 --:--:-- --:--:-- --:--:--     0\r100  2537  100  2537    0     0   103k      0 --:--:-- --:--:-- --:--:--  103k\n",
            "OK\n",
            "41 packages can be upgraded. Run 'apt list --upgradable' to see them.\n",
            "The following NEW packages will be installed:\n",
            "  gcsfuse\n",
            "0 upgraded, 1 newly installed, 0 to remove and 41 not upgraded.\n",
            "Need to get 11.3 MB of archives.\n",
            "After this operation, 24.0 MB of additional disk space will be used.\n",
            "Selecting previously unselected package gcsfuse.\n",
            "(Reading database ... 155222 files and directories currently installed.)\n",
            "Preparing to unpack .../gcsfuse_0.37.0_amd64.deb ...\n",
            "Unpacking gcsfuse (0.37.0) ...\n",
            "Setting up gcsfuse (0.37.0) ...\n"
          ]
        }
      ]
    },
    {
      "cell_type": "code",
      "metadata": {
        "id": "hJFQOg3PCSqU",
        "outputId": "a5dcda04-b566-4c33-f418-b8be4be3d827",
        "colab": {
          "base_uri": "https://localhost:8080/"
        }
      },
      "source": [
        "#Mount cloud bucket locally\n",
        "!mkdir /mnt/track-lists\n",
        "!gcsfuse gs://track-lists /mnt/track-lists"
      ],
      "execution_count": 9,
      "outputs": [
        {
          "output_type": "stream",
          "name": "stdout",
          "text": [
            "2021/11/29 04:54:04.915322 Start gcsfuse/0.37.0 (Go version go1.17.2) for app \"\" using mount point: /mnt/track-lists\n",
            "2021/11/29 04:54:04.924680 Opening GCS connection...\n",
            "2021/11/29 04:54:44.378437 Mounting file system \"gs://track-lists\"...\n",
            "2021/11/29 04:54:44.380270 File system has been successfully mounted.\n"
          ]
        }
      ]
    },
    {
      "cell_type": "markdown",
      "metadata": {
        "id": "6CgymlBGABEg"
      },
      "source": [
        "2. Setup Spotify API"
      ]
    },
    {
      "cell_type": "code",
      "metadata": {
        "id": "FSgPDXnVAKOH"
      },
      "source": [
        "token = \"SECRET TOKEN\""
      ],
      "execution_count": null,
      "outputs": []
    },
    {
      "cell_type": "markdown",
      "metadata": {
        "id": "IZtmBCrnADy3"
      },
      "source": [
        "3. Import Packages"
      ]
    },
    {
      "cell_type": "code",
      "metadata": {
        "id": "6hKq-n7G62-2"
      },
      "source": [
        "import requests\n",
        "import json"
      ],
      "execution_count": null,
      "outputs": []
    },
    {
      "cell_type": "markdown",
      "metadata": {
        "id": "V5_jvhfhtFCj"
      },
      "source": [
        "1. Data loading"
      ]
    }
  ]
}