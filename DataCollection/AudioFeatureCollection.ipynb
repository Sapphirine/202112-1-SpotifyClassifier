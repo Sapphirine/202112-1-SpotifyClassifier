{
  "nbformat": 4,
  "nbformat_minor": 0,
  "metadata": {
    "colab": {
      "name": "6893_HW2PartI_LogisticRegression.ipynb",
      "provenance": [],
      "collapsed_sections": []
    },
    "kernelspec": {
      "name": "python3",
      "display_name": "Python 3"
    },
    "language_info": {
      "name": "python"
    }
  },
  "cells": [
    {
      "cell_type": "markdown",
      "metadata": {
        "id": "ulzSVEBDnJRT"
      },
      "source": [
        "Alex Thornton (apt2141)  \n",
        "Columbia University Fall 2021  \n",
        "ELEN E6893 - Big Data Analytics  \n",
        "Research Project: SpotifyClassifier"
      ]
    },
    {
      "cell_type": "markdown",
      "metadata": {
        "id": "CeM9m3Lm99QY"
      },
      "source": [
        "1. Connect to GCP"
      ]
    },
    {
      "cell_type": "code",
      "metadata": {
        "colab": {
          "base_uri": "https://localhost:8080/"
        },
        "id": "BSznwvRi91nq",
        "outputId": "57f5de39-ae00-4fcf-f40c-fdeb6135da74"
      },
      "source": [
        "from google.colab import auth\n",
        "auth.authenticate_user()\n",
        "!gcloud config set project spotifyclassifier"
      ],
      "execution_count": 13,
      "outputs": [
        {
          "output_type": "stream",
          "name": "stdout",
          "text": [
            "Updated property [core/project].\n"
          ]
        }
      ]
    },
    {
      "cell_type": "code",
      "metadata": {
        "id": "43QG_31aGHPN"
      },
      "source": [
        "from googleapiclient.discovery import build\n",
        "gcs_service = build('storage', 'v1')\n",
        "from apiclient.http import MediaIoBaseDownload"
      ],
      "execution_count": 14,
      "outputs": []
    },
    {
      "cell_type": "markdown",
      "metadata": {
        "id": "6CgymlBGABEg"
      },
      "source": [
        "2. Setup Spotify API"
      ]
    },
    {
      "cell_type": "code",
      "metadata": {
        "id": "FSgPDXnVAKOH"
      },
      "source": [
        "token = \"SECRET TOKEN\""
      ],
      "execution_count": null,
      "outputs": []
    },
    {
      "cell_type": "markdown",
      "metadata": {
        "id": "IZtmBCrnADy3"
      },
      "source": [
        "3. Import Packages"
      ]
    },
    {
      "cell_type": "code",
      "metadata": {
        "id": "6hKq-n7G62-2"
      },
      "source": [
        "import requests\n",
        "import json"
      ],
      "execution_count": 18,
      "outputs": []
    },
    {
      "cell_type": "markdown",
      "metadata": {
        "id": "V5_jvhfhtFCj"
      },
      "source": [
        "4. Do Stuff"
      ]
    },
    {
      "cell_type": "code",
      "metadata": {
        "id": "IdYlwwxED3Uy",
        "outputId": "5d442eed-9af7-4273-82e0-e2fd3df8cdb0",
        "colab": {
          "base_uri": "https://localhost:8080/"
        }
      },
      "source": [
        "genres = [\"ambient\",\"alternative\",\"anime\",\"blues\",\"classical\",\"country\",\"death-metal\",\"dubstep\",\\\n",
        "            \"electronic\",\"folk\",\"gospel\",\"goth\",\"grindcore\",\"guitar\",\"hip-hop\",\\\n",
        "            \"honky-tonk\",\"indie\",\"jazz\",\"k-pop\",\"latin\",\"new-age\",\"opera\",\"punk\",\\\n",
        "            \"show-tunes\",\"singer-songwriter\"]\n",
        "\n",
        "for genre in genres:\n",
        "    with open('/tmp/temporary.json', 'wb') as f:\n",
        "        request = gcs_service.objects().get_media(bucket='track-lists',object=genre+'.json')\n",
        "        media = MediaIoBaseDownload(f, request)\n",
        "        done = False\n",
        "        while not done:\n",
        "            _, done = media.next_chunk()\n",
        "\n",
        "    with open('/tmp/temporary.json', \"r\") as tracklist:\n",
        "        tracklist = json.load(tracklist)\n",
        "        num_songs = len(tracklist.keys())\n",
        "    print(\"Genre: \"+genre+\", # Tracks: \"+str(num_songs))\n",
        "\n"
      ],
      "execution_count": 24,
      "outputs": [
        {
          "output_type": "stream",
          "name": "stdout",
          "text": [
            "Genre: ambient, # Tracks: 966\n",
            "Genre: alternative, # Tracks: 975\n",
            "Genre: anime, # Tracks: 947\n",
            "Genre: blues, # Tracks: 921\n",
            "Genre: classical, # Tracks: 516\n",
            "Genre: country, # Tracks: 962\n",
            "Genre: death-metal, # Tracks: 971\n",
            "Genre: dubstep, # Tracks: 977\n",
            "Genre: electronic, # Tracks: 969\n",
            "Genre: folk, # Tracks: 963\n",
            "Genre: gospel, # Tracks: 926\n",
            "Genre: goth, # Tracks: 933\n",
            "Genre: grindcore, # Tracks: 963\n",
            "Genre: guitar, # Tracks: 926\n",
            "Genre: hip-hop, # Tracks: 967\n",
            "Genre: honky-tonk, # Tracks: 716\n",
            "Genre: indie, # Tracks: 970\n",
            "Genre: jazz, # Tracks: 552\n",
            "Genre: k-pop, # Tracks: 581\n",
            "Genre: latin, # Tracks: 970\n",
            "Genre: new-age, # Tracks: 959\n",
            "Genre: opera, # Tracks: 929\n",
            "Genre: punk, # Tracks: 863\n",
            "Genre: show-tunes, # Tracks: 893\n",
            "Genre: singer-songwriter, # Tracks: 968\n",
            "done\n"
          ]
        }
      ]
    },
    {
      "cell_type": "code",
      "metadata": {
        "id": "VBwEo3N2EX9z",
        "outputId": "ecda5368-6bc2-4629-e05a-0036e6669590",
        "colab": {
          "base_uri": "https://localhost:8080/"
        }
      },
      "source": [
        "!ls /mnt/track-lists"
      ],
      "execution_count": 11,
      "outputs": [
        {
          "output_type": "stream",
          "name": "stdout",
          "text": [
            "ls: reading directory '/mnt/track-lists': Input/output error\n"
          ]
        }
      ]
    }
  ]
}