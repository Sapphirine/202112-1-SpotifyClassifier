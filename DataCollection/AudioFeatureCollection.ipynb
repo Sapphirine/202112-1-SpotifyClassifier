{
  "nbformat": 4,
  "nbformat_minor": 0,
  "metadata": {
    "colab": {
      "name": "6893_HW2PartI_LogisticRegression.ipynb",
      "provenance": [],
      "collapsed_sections": []
    },
    "kernelspec": {
      "name": "python3",
      "display_name": "Python 3"
    },
    "language_info": {
      "name": "python"
    }
  },
  "cells": [
    {
      "cell_type": "markdown",
      "metadata": {
        "id": "ulzSVEBDnJRT"
      },
      "source": [
        "Alex Thornton (apt2141)  \n",
        "Columbia University Fall 2021  \n",
        "ELEN E6893 - Big Data Analytics  \n",
        "Research Project: SpotifyClassifier"
      ]
    },
    {
      "cell_type": "markdown",
      "metadata": {
        "id": "CeM9m3Lm99QY"
      },
      "source": [
        "0. Connect to GCP"
      ]
    },
    {
      "cell_type": "code",
      "metadata": {
        "colab": {
          "base_uri": "https://localhost:8080/"
        },
        "id": "BSznwvRi91nq",
        "outputId": "c2bc33b9-f389-4b13-a917-4dcb00c33a91"
      },
      "source": [
        "!gcloud auth login\n",
        "!gcloud config set project SpotifyClassifier"
      ],
      "execution_count": null,
      "outputs": [
        {
          "output_type": "stream",
          "name": "stdout",
          "text": [
            "Go to the following link in your browser:\n",
            "\n",
            "    https://accounts.google.com/o/oauth2/auth?response_type=code&client_id=32555940559.apps.googleusercontent.com&redirect_uri=urn%3Aietf%3Awg%3Aoauth%3A2.0%3Aoob&scope=openid+https%3A%2F%2Fwww.googleapis.com%2Fauth%2Fuserinfo.email+https%3A%2F%2Fwww.googleapis.com%2Fauth%2Fcloud-platform+https%3A%2F%2Fwww.googleapis.com%2Fauth%2Fappengine.admin+https%3A%2F%2Fwww.googleapis.com%2Fauth%2Fcompute+https%3A%2F%2Fwww.googleapis.com%2Fauth%2Faccounts.reauth&state=t78mFrLcx0mRoRA1M5Il1c7H8pLesk&prompt=consent&access_type=offline&code_challenge=7Av0Ur5wUxmUSgh7msvgmTPRxiCGK3lrFWdTDdGGEpU&code_challenge_method=S256\n",
            "\n",
            "Enter verification code: 4/1AX4XfWipvO4ZOou_GT5dFT932gg2kLw5v1pkNz4FTIV_ZSHy7yTzU50vLgg\n",
            "\n",
            "You are now logged in as [apt2141@columbia.edu].\n",
            "Your current project is [None].  You can change this setting by running:\n",
            "  $ gcloud config set project PROJECT_ID\n",
            "\n",
            "\n",
            "To take a quick anonymous survey, run:\n",
            "  $ gcloud survey\n",
            "\n",
            "Updated property [core/project].\n"
          ]
        }
      ]
    },
    {
      "cell_type": "code",
      "metadata": {
        "colab": {
          "base_uri": "https://localhost:8080/"
        },
        "id": "xzQNYp-y96fE",
        "outputId": "ccb58506-e965-4be3-f5fa-533ae9acfa00"
      },
      "source": [
        "!gsutil cp gs://SpotifyClassifier/adult.csv /tmp/adult.csv"
      ],
      "execution_count": null,
      "outputs": [
        {
          "output_type": "stream",
          "name": "stdout",
          "text": [
            "Copying gs://apt2141-hw2/adult.csv...\n",
            "- [1 files][  3.8 MiB/  3.8 MiB]                                                \n",
            "Operation completed over 1 objects/3.8 MiB.                                      \n"
          ]
        }
      ]
    },
    {
      "cell_type": "code",
      "metadata": {
        "id": "6hKq-n7G62-2"
      },
      "source": [
        "from pyspark.sql import SparkSession\n",
        "import matplotlib.pyplot as plt\n",
        "%matplotlib inline\n",
        "import numpy as np"
      ],
      "execution_count": null,
      "outputs": []
    },
    {
      "cell_type": "markdown",
      "metadata": {
        "id": "V5_jvhfhtFCj"
      },
      "source": [
        "1. Data loading"
      ]
    }
  ]
}